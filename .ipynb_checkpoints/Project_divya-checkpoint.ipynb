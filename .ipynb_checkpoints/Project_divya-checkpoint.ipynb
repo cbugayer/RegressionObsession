{
 "cells": [
  {
   "cell_type": "code",
   "execution_count": 5,
   "id": "c130e675",
   "metadata": {},
   "outputs": [],
   "source": [
    "import pandas as pd\n",
    "import statsmodels.formula.api as sm\n",
    "import matplotlib.pyplot as plt\n",
    "import seaborn as sns\n",
    "import numpy as np"
   ]
  },
  {
   "cell_type": "code",
   "execution_count": 16,
   "id": "8787af6a",
   "metadata": {},
   "outputs": [],
   "source": [
    "#deaths = pd.read_csv(\"character-deaths.csv\")\n",
    "predictions= pd.read_csv('../data/character-predictions_pose.csv')"
   ]
  },
  {
   "cell_type": "code",
   "execution_count": null,
   "id": "184b9bfb",
   "metadata": {
    "scrolled": true
   },
   "outputs": [
    {
     "data": {
      "text/plain": [
       "Index(['S.No', 'plod', 'name', 'title', 'male', 'culture', 'dateOfBirth',\n",
       "       'DateoFdeath', 'mother', 'father', 'heir', 'house', 'spouse', 'book1',\n",
       "       'book2', 'book3', 'book4', 'book5', 'isAliveMother', 'isAliveFather',\n",
       "       'isAliveHeir', 'isAliveSpouse', 'isMarried', 'isNoble', 'age',\n",
       "       'numDeadRelations', 'boolDeadRelations', 'isPopular', 'popularity',\n",
       "       'isAlive'],\n",
       "      dtype='object')"
      ]
     },
     "execution_count": 121,
     "metadata": {},
     "output_type": "execute_result"
    }
   ],
   "source": [
    "characters.columns"
   ]
  },
  {
   "cell_type": "markdown",
   "id": "aca21e03",
   "metadata": {},
   "source": [
    "# dataframe cleaning"
   ]
  },
  {
   "cell_type": "code",
   "execution_count": null,
   "id": "db35aae4",
   "metadata": {
    "scrolled": false
   },
   "outputs": [
    {
     "data": {
      "text/html": [
       "<div>\n",
       "<style scoped>\n",
       "    .dataframe tbody tr th:only-of-type {\n",
       "        vertical-align: middle;\n",
       "    }\n",
       "\n",
       "    .dataframe tbody tr th {\n",
       "        vertical-align: top;\n",
       "    }\n",
       "\n",
       "    .dataframe thead th {\n",
       "        text-align: right;\n",
       "    }\n",
       "</style>\n",
       "<table border=\"1\" class=\"dataframe\">\n",
       "  <thead>\n",
       "    <tr style=\"text-align: right;\">\n",
       "      <th></th>\n",
       "      <th>name</th>\n",
       "      <th>male</th>\n",
       "      <th>house</th>\n",
       "      <th>isNoble</th>\n",
       "      <th>age</th>\n",
       "      <th>numDeadRelations</th>\n",
       "      <th>popularity</th>\n",
       "      <th>isAlive</th>\n",
       "      <th>culture</th>\n",
       "    </tr>\n",
       "  </thead>\n",
       "  <tbody>\n",
       "    <tr>\n",
       "      <th>0</th>\n",
       "      <td>Walder Frey</td>\n",
       "      <td>1</td>\n",
       "      <td>House Frey</td>\n",
       "      <td>1</td>\n",
       "      <td>97.0</td>\n",
       "      <td>1</td>\n",
       "      <td>0.896321</td>\n",
       "      <td>1</td>\n",
       "      <td>Rivermen</td>\n",
       "    </tr>\n",
       "    <tr>\n",
       "      <th>1</th>\n",
       "      <td>Sylva Santagar</td>\n",
       "      <td>0</td>\n",
       "      <td>House Santagar</td>\n",
       "      <td>1</td>\n",
       "      <td>29.0</td>\n",
       "      <td>0</td>\n",
       "      <td>0.043478</td>\n",
       "      <td>1</td>\n",
       "      <td>Dornish</td>\n",
       "    </tr>\n",
       "    <tr>\n",
       "      <th>2</th>\n",
       "      <td>Valarr Targaryen</td>\n",
       "      <td>1</td>\n",
       "      <td>House Targaryen</td>\n",
       "      <td>1</td>\n",
       "      <td>26.0</td>\n",
       "      <td>0</td>\n",
       "      <td>0.431438</td>\n",
       "      <td>0</td>\n",
       "      <td>Valyrian</td>\n",
       "    </tr>\n",
       "    <tr>\n",
       "      <th>3</th>\n",
       "      <td>Wex Pyke</td>\n",
       "      <td>1</td>\n",
       "      <td>House Botley</td>\n",
       "      <td>0</td>\n",
       "      <td>19.0</td>\n",
       "      <td>0</td>\n",
       "      <td>0.113712</td>\n",
       "      <td>1</td>\n",
       "      <td>Ironborn</td>\n",
       "    </tr>\n",
       "    <tr>\n",
       "      <th>4</th>\n",
       "      <td>Timett</td>\n",
       "      <td>1</td>\n",
       "      <td>Burned Men</td>\n",
       "      <td>1</td>\n",
       "      <td>27.0</td>\n",
       "      <td>0</td>\n",
       "      <td>0.073579</td>\n",
       "      <td>1</td>\n",
       "      <td>Vale mountain clans</td>\n",
       "    </tr>\n",
       "    <tr>\n",
       "      <th>...</th>\n",
       "      <td>...</td>\n",
       "      <td>...</td>\n",
       "      <td>...</td>\n",
       "      <td>...</td>\n",
       "      <td>...</td>\n",
       "      <td>...</td>\n",
       "      <td>...</td>\n",
       "      <td>...</td>\n",
       "      <td>...</td>\n",
       "    </tr>\n",
       "    <tr>\n",
       "      <th>148</th>\n",
       "      <td>Sarella Sand</td>\n",
       "      <td>0</td>\n",
       "      <td>House Martell</td>\n",
       "      <td>0</td>\n",
       "      <td>25.0</td>\n",
       "      <td>1</td>\n",
       "      <td>0.103679</td>\n",
       "      <td>1</td>\n",
       "      <td>Dornishmen</td>\n",
       "    </tr>\n",
       "    <tr>\n",
       "      <th>149</th>\n",
       "      <td>Rhaegar Targaryen</td>\n",
       "      <td>1</td>\n",
       "      <td>House Targaryen</td>\n",
       "      <td>1</td>\n",
       "      <td>24.0</td>\n",
       "      <td>11</td>\n",
       "      <td>0.799331</td>\n",
       "      <td>0</td>\n",
       "      <td>Valyrian</td>\n",
       "    </tr>\n",
       "    <tr>\n",
       "      <th>150</th>\n",
       "      <td>Loras Tyrell</td>\n",
       "      <td>1</td>\n",
       "      <td>House Tyrell</td>\n",
       "      <td>1</td>\n",
       "      <td>23.0</td>\n",
       "      <td>2</td>\n",
       "      <td>0.665552</td>\n",
       "      <td>1</td>\n",
       "      <td>The Reach</td>\n",
       "    </tr>\n",
       "    <tr>\n",
       "      <th>151</th>\n",
       "      <td>Gormond Goodbrother</td>\n",
       "      <td>1</td>\n",
       "      <td>House Goodbrother</td>\n",
       "      <td>0</td>\n",
       "      <td>23.0</td>\n",
       "      <td>0</td>\n",
       "      <td>0.040134</td>\n",
       "      <td>1</td>\n",
       "      <td>Ironborn</td>\n",
       "    </tr>\n",
       "    <tr>\n",
       "      <th>152</th>\n",
       "      <td>Laena Velaryon</td>\n",
       "      <td>0</td>\n",
       "      <td>House Velaryon</td>\n",
       "      <td>0</td>\n",
       "      <td>27.0</td>\n",
       "      <td>0</td>\n",
       "      <td>0.140468</td>\n",
       "      <td>0</td>\n",
       "      <td>Valyrian</td>\n",
       "    </tr>\n",
       "  </tbody>\n",
       "</table>\n",
       "<p>153 rows × 9 columns</p>\n",
       "</div>"
      ],
      "text/plain": [
       "                    name  male              house  isNoble   age  \\\n",
       "0            Walder Frey     1         House Frey        1  97.0   \n",
       "1         Sylva Santagar     0     House Santagar        1  29.0   \n",
       "2       Valarr Targaryen     1    House Targaryen        1  26.0   \n",
       "3               Wex Pyke     1       House Botley        0  19.0   \n",
       "4                 Timett     1         Burned Men        1  27.0   \n",
       "..                   ...   ...                ...      ...   ...   \n",
       "148         Sarella Sand     0      House Martell        0  25.0   \n",
       "149    Rhaegar Targaryen     1    House Targaryen        1  24.0   \n",
       "150         Loras Tyrell     1       House Tyrell        1  23.0   \n",
       "151  Gormond Goodbrother     1  House Goodbrother        0  23.0   \n",
       "152       Laena Velaryon     0     House Velaryon        0  27.0   \n",
       "\n",
       "     numDeadRelations  popularity  isAlive              culture  \n",
       "0                   1    0.896321        1             Rivermen  \n",
       "1                   0    0.043478        1              Dornish  \n",
       "2                   0    0.431438        0             Valyrian  \n",
       "3                   0    0.113712        1             Ironborn  \n",
       "4                   0    0.073579        1  Vale mountain clans  \n",
       "..                ...         ...      ...                  ...  \n",
       "148                 1    0.103679        1           Dornishmen  \n",
       "149                11    0.799331        0             Valyrian  \n",
       "150                 2    0.665552        1            The Reach  \n",
       "151                 0    0.040134        1             Ironborn  \n",
       "152                 0    0.140468        0             Valyrian  \n",
       "\n",
       "[153 rows x 9 columns]"
      ]
     },
     "execution_count": 122,
     "metadata": {},
     "output_type": "execute_result"
    }
   ],
   "source": [
    "# selected columns I think might be relevant\n",
    "predictions= pd.read_csv(\"character-predictions_pose.csv\")\n",
    "predictions= characters.loc[:,['name', 'male', 'house', 'isNoble', 'age', 'numDeadRelations', 'popularity', 'isAlive', 'culture']]\n",
    "\n",
    "# deleted all observations that have NaNs\n",
    "predictions= characters[~characters.isnull().any(axis=1)]\n",
    "characters.reset_index(inplace = True, drop = True)\n",
    "characters"
   ]
  },
  {
   "cell_type": "markdown",
   "id": "8960918f",
   "metadata": {},
   "source": [
    "# modeling"
   ]
  },
  {
   "cell_type": "markdown",
   "id": "b4ae4ad7",
   "metadata": {},
   "source": [
    "### basic model"
   ]
  },
  {
   "cell_type": "code",
   "execution_count": 24,
   "id": "addf446b",
   "metadata": {
    "scrolled": true
   },
   "outputs": [
    {
     "data": {
      "text/plain": [
       "0.7073753284132671"
      ]
     },
     "execution_count": 24,
     "metadata": {},
     "output_type": "execute_result"
    }
   ],
   "source": [
    "model = sm.ols(formula = 'isAlive~age+male+house+isNoble+numDeadRelations+popularity+culture+house_alive_binned', data = characters).fit()\n",
    "model.rsquared"
   ]
  },
  {
   "cell_type": "code",
   "execution_count": 25,
   "id": "178631dc",
   "metadata": {},
   "outputs": [
    {
     "data": {
      "text/plain": [
       "0.47184815372150646"
      ]
     },
     "execution_count": 25,
     "metadata": {},
     "output_type": "execute_result"
    }
   ],
   "source": [
    "model.rsquared_adj"
   ]
  },
  {
   "cell_type": "markdown",
   "id": "635002f0",
   "metadata": {},
   "source": [
    "### cleaned cultures"
   ]
  },
  {
   "cell_type": "code",
   "execution_count": null,
   "id": "255e9021",
   "metadata": {},
   "outputs": [],
   "source": [
    "# clean cultures \n",
    "\n",
    "culture_counts = pd.DataFrame(characters.culture.value_counts())\n",
    "\n",
    "#combining culture names that mean the same thing \n",
    "characters.culture = characters.culture.replace(to_replace = \"northmen\", value = \"Northmen\")\n",
    "characters.culture = characters.culture.replace(to_replace = \"ironborn\", value = \"Ironborn\")\n",
    "characters.culture = characters.culture.replace(to_replace = \"Ironmen\", value = \"Ironborn\")\n",
    "characters.culture = characters.culture.replace(to_replace = \"Asshai'i\", value = \"Asshai\")\n",
    "characters.culture = characters.culture.replace(to_replace = \"Free folk\", value = \"Free Folk\")\n",
    "characters.culture = characters.culture.replace(to_replace = \"free folk\", value = \"Free Folk\")\n",
    "characters.culture = characters.culture.replace(to_replace = \"Summer Islands\", value = \"Summer Isles\")\n",
    "characters.culture = characters.culture.replace(to_replace = \"Summer Islander\", value = \"Summer Isles\")\n",
    "characters.culture = characters.culture.replace(to_replace = \"westermen\", value = \"Westermen\")\n",
    "characters.culture = characters.culture.replace(to_replace = \"Westerman\", value = \"Westermen\")\n",
    "characters.culture = characters.culture.replace(to_replace = \"Westerlands\", value = \"Westermen\")\n",
    "characters.culture = characters.culture.replace(to_replace = \"Vale\", value = \"Valemen\")\n",
    "characters.culture = characters.culture.replace(to_replace = \"Lhazareen\", value = \"Lhazarene\")\n",
    "characters.culture = characters.culture.replace(to_replace = \"The Reach\", value = \"Reach\")\n",
    "characters.culture = characters.culture.replace(to_replace = \"Reachmen\", value = \"Reach\")\n",
    "characters.culture = characters.culture.replace(to_replace = \"Qarth\", value = \"Qartheen\")\n",
    "characters.culture = characters.culture.replace(to_replace = \"Lyseni\", value = \"Lysene\")\n",
    "characters.culture = characters.culture.replace(to_replace = \"Stormlander\", value = \"Stormlands\")\n",
    "characters.culture = characters.culture.replace(to_replace = \"Meereenese\", value = \"Meereen\")\n",
    "characters.culture = characters.culture.replace(to_replace = \"Astapor\", value = \"Astapori\")\n",
    "characters.culture = characters.culture.replace(to_replace = \"Norvos\", value = \"Norvoshi\")\n",
    "characters.culture = characters.culture.replace(to_replace = \"Wildlings\", value = \"Wildling\")\n",
    "characters.culture = characters.culture.replace(to_replace = \"Andals\", value = \"Andal\")"
   ]
  },
  {
   "cell_type": "code",
   "execution_count": null,
   "id": "a1d0e2c6",
   "metadata": {},
   "outputs": [
    {
     "name": "stdout",
     "output_type": "stream",
     "text": [
      "                    name  male              house  isNoble   age  \\\n",
      "0            Walder Frey     1         House Frey        1  97.0   \n",
      "1         Sylva Santagar     0     House Santagar        1  29.0   \n",
      "2       Valarr Targaryen     1    House Targaryen        1  26.0   \n",
      "3               Wex Pyke     1       House Botley        0  19.0   \n",
      "4                 Timett     1         Burned Men        1  27.0   \n",
      "..                   ...   ...                ...      ...   ...   \n",
      "148         Sarella Sand     0      House Martell        0  25.0   \n",
      "149    Rhaegar Targaryen     1    House Targaryen        1  24.0   \n",
      "150         Loras Tyrell     1       House Tyrell        1  23.0   \n",
      "151  Gormond Goodbrother     1  House Goodbrother        0  23.0   \n",
      "152       Laena Velaryon     0     House Velaryon        0  27.0   \n",
      "\n",
      "     numDeadRelations  popularity  isAlive              culture  \n",
      "0                   1    0.896321        1             Rivermen  \n",
      "1                   0    0.043478        1              Dornish  \n",
      "2                   0    0.431438        0             Valyrian  \n",
      "3                   0    0.113712        1             Ironborn  \n",
      "4                   0    0.073579        1  Vale mountain clans  \n",
      "..                ...         ...      ...                  ...  \n",
      "148                 1    0.103679        1           Dornishmen  \n",
      "149                11    0.799331        0             Valyrian  \n",
      "150                 2    0.665552        1                Reach  \n",
      "151                 0    0.040134        1             Ironborn  \n",
      "152                 0    0.140468        0             Valyrian  \n",
      "\n",
      "[153 rows x 9 columns]\n"
     ]
    }
   ],
   "source": [
    "print(characters)"
   ]
  },
  {
   "cell_type": "code",
   "execution_count": null,
   "id": "f8f68c78",
   "metadata": {},
   "outputs": [
    {
     "data": {
      "text/html": [
       "<div>\n",
       "<style scoped>\n",
       "    .dataframe tbody tr th:only-of-type {\n",
       "        vertical-align: middle;\n",
       "    }\n",
       "\n",
       "    .dataframe tbody tr th {\n",
       "        vertical-align: top;\n",
       "    }\n",
       "\n",
       "    .dataframe thead th {\n",
       "        text-align: right;\n",
       "    }\n",
       "</style>\n",
       "<table border=\"1\" class=\"dataframe\">\n",
       "  <thead>\n",
       "    <tr style=\"text-align: right;\">\n",
       "      <th></th>\n",
       "      <th>culture</th>\n",
       "      <th>total</th>\n",
       "      <th>count_survived</th>\n",
       "      <th>percent_survived</th>\n",
       "    </tr>\n",
       "  </thead>\n",
       "  <tbody>\n",
       "    <tr>\n",
       "      <th>10</th>\n",
       "      <td>Crannogmen</td>\n",
       "      <td>3</td>\n",
       "      <td>3</td>\n",
       "      <td>100.000000</td>\n",
       "    </tr>\n",
       "    <tr>\n",
       "      <th>11</th>\n",
       "      <td>Reach</td>\n",
       "      <td>3</td>\n",
       "      <td>3</td>\n",
       "      <td>100.000000</td>\n",
       "    </tr>\n",
       "    <tr>\n",
       "      <th>19</th>\n",
       "      <td>Norvoshi</td>\n",
       "      <td>1</td>\n",
       "      <td>1</td>\n",
       "      <td>100.000000</td>\n",
       "    </tr>\n",
       "    <tr>\n",
       "      <th>18</th>\n",
       "      <td>Naathi</td>\n",
       "      <td>1</td>\n",
       "      <td>1</td>\n",
       "      <td>100.000000</td>\n",
       "    </tr>\n",
       "    <tr>\n",
       "      <th>17</th>\n",
       "      <td>Vale mountain clans</td>\n",
       "      <td>1</td>\n",
       "      <td>1</td>\n",
       "      <td>100.000000</td>\n",
       "    </tr>\n",
       "    <tr>\n",
       "      <th>16</th>\n",
       "      <td>Braavosi</td>\n",
       "      <td>1</td>\n",
       "      <td>1</td>\n",
       "      <td>100.000000</td>\n",
       "    </tr>\n",
       "    <tr>\n",
       "      <th>15</th>\n",
       "      <td>Dorne</td>\n",
       "      <td>2</td>\n",
       "      <td>2</td>\n",
       "      <td>100.000000</td>\n",
       "    </tr>\n",
       "    <tr>\n",
       "      <th>12</th>\n",
       "      <td>Dothraki</td>\n",
       "      <td>3</td>\n",
       "      <td>3</td>\n",
       "      <td>100.000000</td>\n",
       "    </tr>\n",
       "    <tr>\n",
       "      <th>20</th>\n",
       "      <td>Myrish</td>\n",
       "      <td>1</td>\n",
       "      <td>1</td>\n",
       "      <td>100.000000</td>\n",
       "    </tr>\n",
       "    <tr>\n",
       "      <th>7</th>\n",
       "      <td>Dornish</td>\n",
       "      <td>6</td>\n",
       "      <td>6</td>\n",
       "      <td>100.000000</td>\n",
       "    </tr>\n",
       "    <tr>\n",
       "      <th>2</th>\n",
       "      <td>Ironborn</td>\n",
       "      <td>12</td>\n",
       "      <td>10</td>\n",
       "      <td>83.333333</td>\n",
       "    </tr>\n",
       "    <tr>\n",
       "      <th>8</th>\n",
       "      <td>Westeros</td>\n",
       "      <td>5</td>\n",
       "      <td>4</td>\n",
       "      <td>80.000000</td>\n",
       "    </tr>\n",
       "    <tr>\n",
       "      <th>3</th>\n",
       "      <td>Dornishmen</td>\n",
       "      <td>9</td>\n",
       "      <td>7</td>\n",
       "      <td>77.777778</td>\n",
       "    </tr>\n",
       "    <tr>\n",
       "      <th>4</th>\n",
       "      <td>Rivermen</td>\n",
       "      <td>8</td>\n",
       "      <td>6</td>\n",
       "      <td>75.000000</td>\n",
       "    </tr>\n",
       "    <tr>\n",
       "      <th>0</th>\n",
       "      <td>Northmen</td>\n",
       "      <td>38</td>\n",
       "      <td>27</td>\n",
       "      <td>71.052632</td>\n",
       "    </tr>\n",
       "    <tr>\n",
       "      <th>6</th>\n",
       "      <td>Westermen</td>\n",
       "      <td>6</td>\n",
       "      <td>4</td>\n",
       "      <td>66.666667</td>\n",
       "    </tr>\n",
       "    <tr>\n",
       "      <th>9</th>\n",
       "      <td>Stormlands</td>\n",
       "      <td>4</td>\n",
       "      <td>2</td>\n",
       "      <td>50.000000</td>\n",
       "    </tr>\n",
       "    <tr>\n",
       "      <th>13</th>\n",
       "      <td>Ghiscari</td>\n",
       "      <td>2</td>\n",
       "      <td>1</td>\n",
       "      <td>50.000000</td>\n",
       "    </tr>\n",
       "    <tr>\n",
       "      <th>14</th>\n",
       "      <td>Wildling</td>\n",
       "      <td>2</td>\n",
       "      <td>1</td>\n",
       "      <td>50.000000</td>\n",
       "    </tr>\n",
       "    <tr>\n",
       "      <th>5</th>\n",
       "      <td>Valemen</td>\n",
       "      <td>7</td>\n",
       "      <td>3</td>\n",
       "      <td>42.857143</td>\n",
       "    </tr>\n",
       "    <tr>\n",
       "      <th>1</th>\n",
       "      <td>Valyrian</td>\n",
       "      <td>36</td>\n",
       "      <td>2</td>\n",
       "      <td>5.555556</td>\n",
       "    </tr>\n",
       "  </tbody>\n",
       "</table>\n",
       "</div>"
      ],
      "text/plain": [
       "                culture  total  count_survived  percent_survived\n",
       "10           Crannogmen      3               3        100.000000\n",
       "11                Reach      3               3        100.000000\n",
       "19             Norvoshi      1               1        100.000000\n",
       "18               Naathi      1               1        100.000000\n",
       "17  Vale mountain clans      1               1        100.000000\n",
       "16             Braavosi      1               1        100.000000\n",
       "15                Dorne      2               2        100.000000\n",
       "12             Dothraki      3               3        100.000000\n",
       "20               Myrish      1               1        100.000000\n",
       "7               Dornish      6               6        100.000000\n",
       "2              Ironborn     12              10         83.333333\n",
       "8              Westeros      5               4         80.000000\n",
       "3            Dornishmen      9               7         77.777778\n",
       "4              Rivermen      8               6         75.000000\n",
       "0              Northmen     38              27         71.052632\n",
       "6             Westermen      6               4         66.666667\n",
       "9            Stormlands      4               2         50.000000\n",
       "13             Ghiscari      2               1         50.000000\n",
       "14             Wildling      2               1         50.000000\n",
       "5               Valemen      7               3         42.857143\n",
       "1              Valyrian     36               2          5.555556"
      ]
     },
     "metadata": {},
     "output_type": "display_data"
    }
   ],
   "source": [
    "#getting survival rates per culture \n",
    "culture_counts = pd.DataFrame(characters.culture.value_counts()).reset_index()\n",
    "survival_counts = pd.DataFrame(characters.groupby(['culture']).isAlive.value_counts())\n",
    "survival_counts.rename({'isAlive':'count_survived'}, axis='columns', inplace=True)\n",
    "survival_counts = pd.DataFrame(survival_counts.to_records())\n",
    "#for lysene and rivermen, no one survived — this will be taken into account later and for now they will be dropped\n",
    "survival_counts = survival_counts[survival_counts['isAlive'] == 1] \n",
    "survival_counts.drop(columns=[\"isAlive\"], inplace=True)\n",
    "culture_counts = culture_counts.rename(columns={'index':'culture', \"culture\" : \"total\"})\n",
    "survival_df = culture_counts.merge(survival_counts)\n",
    "survival_df['percent_survived'] = (survival_df['count_survived']/survival_df['total'])*100\n",
    "survival_df = survival_df.sort_values(by=['percent_survived'], ascending=False)\n",
    "display(survival_df)"
   ]
  },
  {
   "cell_type": "code",
   "execution_count": 9,
   "id": "c5cbc61d",
   "metadata": {},
   "outputs": [
    {
     "ename": "NameError",
     "evalue": "name 'characters' is not defined",
     "output_type": "error",
     "traceback": [
      "\u001b[1;31m---------------------------------------------------------------------------\u001b[0m",
      "\u001b[1;31mNameError\u001b[0m                                 Traceback (most recent call last)",
      "\u001b[1;32m<ipython-input-9-889edfd47eaf>\u001b[0m in \u001b[0;36m<module>\u001b[1;34m()\u001b[0m\n\u001b[0;32m      1\u001b[0m \u001b[1;31m#getting survival rates per house\u001b[0m\u001b[1;33m\u001b[0m\u001b[1;33m\u001b[0m\u001b[0m\n\u001b[1;32m----> 2\u001b[1;33m \u001b[0mhouse_counts\u001b[0m \u001b[1;33m=\u001b[0m \u001b[0mpd\u001b[0m\u001b[1;33m.\u001b[0m\u001b[0mDataFrame\u001b[0m\u001b[1;33m(\u001b[0m\u001b[0mcharacters\u001b[0m\u001b[1;33m.\u001b[0m\u001b[0mhouse\u001b[0m\u001b[1;33m.\u001b[0m\u001b[0mvalue_counts\u001b[0m\u001b[1;33m(\u001b[0m\u001b[1;33m)\u001b[0m\u001b[1;33m)\u001b[0m\u001b[1;33m.\u001b[0m\u001b[0mreset_index\u001b[0m\u001b[1;33m(\u001b[0m\u001b[1;33m)\u001b[0m\u001b[1;33m\u001b[0m\u001b[0m\n\u001b[0m\u001b[0;32m      3\u001b[0m \u001b[0msurvival_counts\u001b[0m \u001b[1;33m=\u001b[0m \u001b[0mpd\u001b[0m\u001b[1;33m.\u001b[0m\u001b[0mDataFrame\u001b[0m\u001b[1;33m(\u001b[0m\u001b[0mcharacters\u001b[0m\u001b[1;33m.\u001b[0m\u001b[0mgroupby\u001b[0m\u001b[1;33m(\u001b[0m\u001b[1;33m[\u001b[0m\u001b[1;34m'house'\u001b[0m\u001b[1;33m]\u001b[0m\u001b[1;33m)\u001b[0m\u001b[1;33m.\u001b[0m\u001b[0misAlive\u001b[0m\u001b[1;33m.\u001b[0m\u001b[0mvalue_counts\u001b[0m\u001b[1;33m(\u001b[0m\u001b[1;33m)\u001b[0m\u001b[1;33m)\u001b[0m\u001b[1;33m\u001b[0m\u001b[0m\n\u001b[0;32m      4\u001b[0m \u001b[0msurvival_counts\u001b[0m\u001b[1;33m.\u001b[0m\u001b[0mrename\u001b[0m\u001b[1;33m(\u001b[0m\u001b[1;33m{\u001b[0m\u001b[1;34m'isAlive'\u001b[0m\u001b[1;33m:\u001b[0m\u001b[1;34m'count_survived'\u001b[0m\u001b[1;33m}\u001b[0m\u001b[1;33m,\u001b[0m \u001b[0maxis\u001b[0m\u001b[1;33m=\u001b[0m\u001b[1;34m'columns'\u001b[0m\u001b[1;33m,\u001b[0m \u001b[0minplace\u001b[0m\u001b[1;33m=\u001b[0m\u001b[1;32mTrue\u001b[0m\u001b[1;33m)\u001b[0m\u001b[1;33m\u001b[0m\u001b[0m\n\u001b[0;32m      5\u001b[0m \u001b[0msurvival_counts\u001b[0m \u001b[1;33m=\u001b[0m \u001b[0mpd\u001b[0m\u001b[1;33m.\u001b[0m\u001b[0mDataFrame\u001b[0m\u001b[1;33m(\u001b[0m\u001b[0msurvival_counts\u001b[0m\u001b[1;33m.\u001b[0m\u001b[0mto_records\u001b[0m\u001b[1;33m(\u001b[0m\u001b[1;33m)\u001b[0m\u001b[1;33m)\u001b[0m\u001b[1;33m\u001b[0m\u001b[0m\n",
      "\u001b[1;31mNameError\u001b[0m: name 'characters' is not defined"
     ]
    }
   ],
   "source": [
    "#getting survival rates per house \n",
    "house_counts = pd.DataFrame(characters.house.value_counts()).reset_index()\n",
    "survival_counts = pd.DataFrame(characters.groupby(['house']).isAlive.value_counts())\n",
    "survival_counts.rename({'isAlive':'count_survived'}, axis='columns', inplace=True)\n",
    "survival_counts = pd.DataFrame(survival_counts.to_records())\n",
    "#for lysene and rivermen, no one survived — this will be taken into account later and for now they will be dropped\n",
    "survival_counts = survival_counts[survival_counts['isAlive'] == 1] \n",
    "survival_counts.drop(columns=[\"isAlive\"], inplace=True)\n",
    "culture_counts = house_counts.rename(columns={'index':'house', \"house\" : \"total\"})\n",
    "survival_df = house_counts.merge(survival_counts)\n",
    "survival_df['percent_survived'] = (survival_df['count_survived']/survival_df['total'])*100\n",
    "survival_df = survival_df.sort_values(by=['percent_survived'], ascending=False)\n",
    "display(survival_df)"
   ]
  },
  {
   "cell_type": "code",
   "execution_count": null,
   "id": "4ce0b193",
   "metadata": {},
   "outputs": [
    {
     "data": {
      "text/html": [
       "<div>\n",
       "<style scoped>\n",
       "    .dataframe tbody tr th:only-of-type {\n",
       "        vertical-align: middle;\n",
       "    }\n",
       "\n",
       "    .dataframe tbody tr th {\n",
       "        vertical-align: top;\n",
       "    }\n",
       "\n",
       "    .dataframe thead th {\n",
       "        text-align: right;\n",
       "    }\n",
       "</style>\n",
       "<table border=\"1\" class=\"dataframe\">\n",
       "  <thead>\n",
       "    <tr style=\"text-align: right;\">\n",
       "      <th></th>\n",
       "      <th>culture</th>\n",
       "      <th>count</th>\n",
       "    </tr>\n",
       "  </thead>\n",
       "  <tbody>\n",
       "    <tr>\n",
       "      <th>0</th>\n",
       "      <td>most_survive</td>\n",
       "      <td>72</td>\n",
       "    </tr>\n",
       "    <tr>\n",
       "      <th>1</th>\n",
       "      <td>few_survive</td>\n",
       "      <td>38</td>\n",
       "    </tr>\n",
       "    <tr>\n",
       "      <th>2</th>\n",
       "      <td>all_survive</td>\n",
       "      <td>22</td>\n",
       "    </tr>\n",
       "    <tr>\n",
       "      <th>3</th>\n",
       "      <td>half_survive</td>\n",
       "      <td>21</td>\n",
       "    </tr>\n",
       "  </tbody>\n",
       "</table>\n",
       "</div>"
      ],
      "text/plain": [
       "        culture  count\n",
       "0  most_survive     72\n",
       "1   few_survive     38\n",
       "2   all_survive     22\n",
       "3  half_survive     21"
      ]
     },
     "metadata": {},
     "output_type": "display_data"
    }
   ],
   "source": [
    "#grouping cultures based on their survival rates\n",
    "characters.culture = characters.culture.replace(to_replace = ['Crannogmen', 'Reach', 'Norvoshi', 'Naathi', 'Vale mountain clans', 'Braavosi', 'Dorne', 'Dothraki', 'Myrish', 'Dornish'], value = \"all_survive\")\n",
    "characters.culture = characters.culture.replace(to_replace = ['Ironborn', 'Westeros', 'Dornishmen', 'Rivermen', 'Northmen'], value = \"most_survive\")\n",
    "characters.culture = characters.culture.replace(to_replace = ['Westermen', 'Stormlands', 'Ghiscari', 'Wildling', 'Valemen'], value = \"half_survive\")\n",
    "characters.culture = characters.culture.replace(to_replace = ['Riverlands', 'Lysene', 'Valyrian'], value = \"few_survive\")\n",
    "culture_counts = pd.DataFrame(characters.culture.value_counts()).reset_index()\n",
    "culture_counts = culture_counts.rename(columns={'index':'culture', \"culture\" : \"count\"})\n",
    "display(culture_counts)\n"
   ]
  },
  {
   "cell_type": "code",
   "execution_count": 19,
   "id": "c785478d",
   "metadata": {},
   "outputs": [
    {
     "data": {
      "text/plain": [
       "Text(0.5,0,'house_bin')"
      ]
     },
     "execution_count": 19,
     "metadata": {},
     "output_type": "execute_result"
    },
    {
     "data": {
      "image/png": "[encoded data removed]",
      "text/plain": [
       "<Figure size 432x288 with 1 Axes>"
      ]
     },
     "metadata": {},
     "output_type": "display_data"
    }
   ],
   "source": [
    "for house in characters.house:\n",
    "    percent_alive = characters[characters.house == house].isAlive.mean()\n",
    "    characters.loc[characters.house == house, 'house_alive'] = percent_alive\n",
    "\n",
    "# Bin house_alive into 5 bins\n",
    "binned_house_alive = pd.qcut(characters['house_alive'],10,retbins=True, duplicates = 'drop')\n",
    "bins = binned_house_alive[1]\n",
    "characters['house_alive_binned'] = pd.cut(characters['house_alive'],bins = bins)\n",
    "dum = pd.get_dummies(characters.house_alive_binned,drop_first = True)\n",
    "dum.columns = ['house_alive'+str(x) for x in range(1,len(bins)-1)]\n",
    "predictions = pd.concat([characters,dum], axis = 1)\n",
    "\n",
    "age_data = predictions.groupby('house_alive_binned')['isAlive'].agg([('percent','mean'),('nobs','count')]).reset_index(drop=False)\n",
    "sns.lineplot(x = age_data.index, y= age_data['percent'])\n",
    "plt.xlabel('house_bin')"
   ]
  },
  {
   "cell_type": "code",
   "execution_count": 26,
   "id": "79aea7ea",
   "metadata": {},
   "outputs": [
    {
     "data": {
      "text/plain": [
       "0                  NaN\n",
       "1        (0.75, 0.856]\n",
       "2         (0.909, 1.0]\n",
       "3       (0.571, 0.633]\n",
       "4       (0.633, 0.667]\n",
       "             ...      \n",
       "1941     (0.667, 0.75]\n",
       "1942     (0.667, 0.75]\n",
       "1943               NaN\n",
       "1944      (0.909, 1.0]\n",
       "1945    (0.571, 0.633]\n",
       "Name: house_alive_binned, Length: 1946, dtype: category\n",
       "Categories (8, interval[float64]): [(0.0, 0.417] < (0.417, 0.571] < (0.571, 0.633] < (0.633, 0.667] < (0.667, 0.75] < (0.75, 0.856] < (0.856, 0.909] < (0.909, 1.0]]"
      ]
     },
     "execution_count": 26,
     "metadata": {},
     "output_type": "execute_result"
    }
   ],
   "source": [
    "predictions.house_alive_binned"
   ]
  },
  {
   "cell_type": "code",
   "execution_count": null,
   "id": "c8a18fad",
   "metadata": {},
   "outputs": [],
   "source": [
    "def clean(data):\n",
    "    return data\n",
    "clean_data = clean(characters)\n",
    "def test_person(name, formula, data = characters):\n",
    "    train = data.loc[characters['name'] != name]\n",
    "    person = data.loc[characters['name'] == name]\n",
    "    model = sm.ols(formula = formula, data=characters).fit()\n",
    "    prediction = model.predict(person)\n",
    "    return int(prediction) == person['isAlive']\n",
    "\n",
    "def test(formula, num_examples=50, loss_func=None):\n",
    "    accurate_counter = 0\n",
    "    for index, row in characters.iterrows():\n",
    "        accuracy = test_person(row['name'], formula, data = characters)\n",
    "        if accuracy.iloc[0]:\n",
    "            accurate_counter += 1\n",
    "        if index >= num_examples:\n",
    "            break\n",
    "    if loss_func is None:\n",
    "        return accurate_counter\n",
    "    else:\n",
    "        return loss_func(accurate_counter)"
   ]
  },
  {
   "cell_type": "code",
   "execution_count": null,
   "id": "765ccf62",
   "metadata": {},
   "outputs": [
    {
     "data": {
      "text/plain": [
       "2    True\n",
       "Name: isAlive, dtype: bool"
      ]
     },
     "execution_count": 155,
     "metadata": {},
     "output_type": "execute_result"
    }
   ],
   "source": [
    "test_person(name = \"Valarr Targaryen\", formula = \"isAlive~culture\", data = characters)"
   ]
  },
  {
   "cell_type": "code",
   "execution_count": null,
   "id": "6808a6ba",
   "metadata": {},
   "outputs": [
    {
     "data": {
      "text/plain": [
       "37"
      ]
     },
     "execution_count": 156,
     "metadata": {},
     "output_type": "execute_result"
    }
   ],
   "source": [
    "test(\"isAlive~age+male+house+isNoble+numDeadRelations+popularity+culture+\")"
   ]
  },
  {
   "cell_type": "code",
   "execution_count": null,
   "id": "55956484",
   "metadata": {},
   "outputs": [],
   "source": []
  }
 ],
 "metadata": {
  "kernelspec": {
   "display_name": "base",
   "language": "python",
   "name": "python3"
  },
  "language_info": {
   "codemirror_mode": {
    "name": "ipython",
    "version": 3
   },
   "file_extension": ".py",
   "mimetype": "text/x-python",
   "name": "python",
   "nbconvert_exporter": "python",
   "pygments_lexer": "ipython3",
   "version": "3.6.5"
  },
  "vscode": {
   "interpreter": {
    "hash": "9e9800f934fa2398575d7cc3df1b13e465d22ae7d0be200c5fea8736bf386c83"
   }
  }
 },
 "nbformat": 4,
 "nbformat_minor": 5
}
