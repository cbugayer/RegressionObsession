{
 "cells": [
  {
   "cell_type": "raw",
   "id": "33dd6c4c",
   "metadata": {},
   "source": [
    "---\n",
    "title: \"Project Code\"\n",
    "subtitle: Team name\n",
    "author: Author 1, Author 2, Author 3, and Author 4 \n",
    "date: 02/27/2023\n",
    "number-sections: true\n",
    "abstract: _This file contains the code for the project on <>, as part of the STAT303-2 course in Winter 2023_.\n",
    "format: \n",
    "  html:\n",
    "    toc: true\n",
    "    toc-title: Contents\n",
    "    self-contained: true\n",
    "    font-size: 100%\n",
    "    toc-depth: 4\n",
    "    mainfont: serif\n",
    "jupyter: python3\n",
    "---"
   ]
  },
  {
   "cell_type": "code",
   "execution_count": 1,
   "id": "9d340964",
   "metadata": {},
   "outputs": [],
   "source": [
    "import pandas as pd\n",
    "import numpy as np\n",
    "import matplotlib.pyplot as plt\n",
    "import seaborn as sns\n",
    "import statsmodels.api as sm\n",
    "import statsmodels.formula.api as smf"
   ]
  },
  {
   "cell_type": "code",
   "execution_count": 160,
   "id": "ee419d69",
   "metadata": {},
   "outputs": [],
   "source": [
    "characters = pd.read_csv(\"data/character-predictions_pose.csv\")"
   ]
  },
  {
   "cell_type": "markdown",
   "id": "fe7ea9bb",
   "metadata": {},
   "source": [
    "## Data quality check / cleaning / preparation \n",
    "\n",
    "Put code with comments. The comments should explain the code such that it can be easily understood. You may put text *(in a markdown cell)* before a large chunk of code to explain the overall purpose of the code, if it is not intuitive. **Put the name of the person / persons who contributed to each code chunk / set of code chunks.** An example is given below."
   ]
  },
  {
   "cell_type": "markdown",
   "id": "db149d8b",
   "metadata": {},
   "source": [
    "### Data quality check\n",
    "*By Elton John*"
   ]
  },
  {
   "cell_type": "markdown",
   "id": "fbc82e7f",
   "metadata": {},
   "source": [
    "The code below visualizes the distribution of all the variables in the dataset, and their association with the response."
   ]
  },
  {
   "cell_type": "code",
   "execution_count": 7,
   "id": "5955618d",
   "metadata": {},
   "outputs": [],
   "source": [
    "# Distribution of continuous variables"
   ]
  },
  {
   "cell_type": "code",
   "execution_count": 143,
   "id": "f1cfdfc0",
   "metadata": {
    "scrolled": false
   },
   "outputs": [
    {
     "data": {
      "text/html": [
       "<div>\n",
       "<style scoped>\n",
       "    .dataframe tbody tr th:only-of-type {\n",
       "        vertical-align: middle;\n",
       "    }\n",
       "\n",
       "    .dataframe tbody tr th {\n",
       "        vertical-align: top;\n",
       "    }\n",
       "\n",
       "    .dataframe thead th {\n",
       "        text-align: right;\n",
       "    }\n",
       "</style>\n",
       "<table border=\"1\" class=\"dataframe\">\n",
       "  <thead>\n",
       "    <tr style=\"text-align: right;\">\n",
       "      <th></th>\n",
       "      <th>corr</th>\n",
       "    </tr>\n",
       "  </thead>\n",
       "  <tbody>\n",
       "    <tr>\n",
       "      <th>isAlive</th>\n",
       "      <td>1.000000</td>\n",
       "    </tr>\n",
       "    <tr>\n",
       "      <th>isAliveHeir</th>\n",
       "      <td>0.384900</td>\n",
       "    </tr>\n",
       "    <tr>\n",
       "      <th>book4</th>\n",
       "      <td>0.268975</td>\n",
       "    </tr>\n",
       "    <tr>\n",
       "      <th>isAliveFather</th>\n",
       "      <td>0.195992</td>\n",
       "    </tr>\n",
       "    <tr>\n",
       "      <th>isAliveSpouse</th>\n",
       "      <td>0.174275</td>\n",
       "    </tr>\n",
       "    <tr>\n",
       "      <th>age</th>\n",
       "      <td>0.087264</td>\n",
       "    </tr>\n",
       "    <tr>\n",
       "      <th>book5</th>\n",
       "      <td>0.032846</td>\n",
       "    </tr>\n",
       "    <tr>\n",
       "      <th>book3</th>\n",
       "      <td>0.006693</td>\n",
       "    </tr>\n",
       "    <tr>\n",
       "      <th>isNoble</th>\n",
       "      <td>-0.042211</td>\n",
       "    </tr>\n",
       "    <tr>\n",
       "      <th>isAliveMother</th>\n",
       "      <td>-0.043033</td>\n",
       "    </tr>\n",
       "    <tr>\n",
       "      <th>isMarried</th>\n",
       "      <td>-0.050037</td>\n",
       "    </tr>\n",
       "    <tr>\n",
       "      <th>book2</th>\n",
       "      <td>-0.067200</td>\n",
       "    </tr>\n",
       "    <tr>\n",
       "      <th>dateOfBirth</th>\n",
       "      <td>-0.085863</td>\n",
       "    </tr>\n",
       "    <tr>\n",
       "      <th>S.No</th>\n",
       "      <td>-0.128712</td>\n",
       "    </tr>\n",
       "    <tr>\n",
       "      <th>male</th>\n",
       "      <td>-0.146982</td>\n",
       "    </tr>\n",
       "    <tr>\n",
       "      <th>book1</th>\n",
       "      <td>-0.147401</td>\n",
       "    </tr>\n",
       "    <tr>\n",
       "      <th>isPopular</th>\n",
       "      <td>-0.153860</td>\n",
       "    </tr>\n",
       "    <tr>\n",
       "      <th>popularity</th>\n",
       "      <td>-0.183223</td>\n",
       "    </tr>\n",
       "    <tr>\n",
       "      <th>numDeadRelations</th>\n",
       "      <td>-0.192444</td>\n",
       "    </tr>\n",
       "    <tr>\n",
       "      <th>boolDeadRelations</th>\n",
       "      <td>-0.193736</td>\n",
       "    </tr>\n",
       "    <tr>\n",
       "      <th>plod</th>\n",
       "      <td>-0.417318</td>\n",
       "    </tr>\n",
       "    <tr>\n",
       "      <th>DateoFdeath</th>\n",
       "      <td>NaN</td>\n",
       "    </tr>\n",
       "  </tbody>\n",
       "</table>\n",
       "</div>"
      ],
      "text/plain": [
       "                       corr\n",
       "isAlive            1.000000\n",
       "isAliveHeir        0.384900\n",
       "book4              0.268975\n",
       "isAliveFather      0.195992\n",
       "isAliveSpouse      0.174275\n",
       "age                0.087264\n",
       "book5              0.032846\n",
       "book3              0.006693\n",
       "isNoble           -0.042211\n",
       "isAliveMother     -0.043033\n",
       "isMarried         -0.050037\n",
       "book2             -0.067200\n",
       "dateOfBirth       -0.085863\n",
       "S.No              -0.128712\n",
       "male              -0.146982\n",
       "book1             -0.147401\n",
       "isPopular         -0.153860\n",
       "popularity        -0.183223\n",
       "numDeadRelations  -0.192444\n",
       "boolDeadRelations -0.193736\n",
       "plod              -0.417318\n",
       "DateoFdeath             NaN"
      ]
     },
     "execution_count": 143,
     "metadata": {},
     "output_type": "execute_result"
    }
   ],
   "source": [
    "corr = pd.DataFrame(characters.corrwith(characters['isAlive'])).sort_values(by=[0], ascending = False)\n",
    "corr.rename(columns = {0:'corr'})"
   ]
  },
  {
   "cell_type": "code",
   "execution_count": 203,
   "id": "8faafdbf",
   "metadata": {
    "scrolled": false
   },
   "outputs": [],
   "source": [
    "# Distribution of categorical variables: Age -- Annie\n",
    "age = characters.copy()\n",
    "age.dropna(subset=['age'], inplace = True)\n",
    "\n",
    "# fixing incorrect (negative) ages with correct ages from online research\n",
    "age.at[1684,'age'] = 0\n",
    "age.at[1868,'age'] = 25\n",
    "\n",
    "# adding column for the decade of characters' lives\n",
    "age['decade'] = age['age'].apply(lambda x: \n",
    "                                 'first' if x < 10\n",
    "                                 else 'second' if x >= 10 and x < 20\n",
    "                                 else 'third' if x >= 20 and x < 30\n",
    "                                 else 'fourth' if x >= 30 and x < 40\n",
    "                                 else 'fifth' if x >= 40 and x < 50\n",
    "                                 else 'sixth' if x >= 50 and x < 60\n",
    "                                 else 'seventh' if x >= 60 and x < 70\n",
    "                                 else 'eighth' if x >= 70 and x < 80\n",
    "                                 else 'ninth' if x >= 80 and x < 90\n",
    "                                 else 'tenth' if x >= 90 and x < 100\n",
    "                                                   else '100')\n",
    "\n",
    "# characters grouped by age \n",
    "age_count = pd.DataFrame(characters.groupby('age').count().isAlive)\n",
    "age_count.rename(columns={'isAlive': 'count_total'}, inplace = True)\n",
    "age_alive = pd.DataFrame(characters.groupby('age').sum().isAlive)\n",
    "age_alive.rename(columns={'isAlive': 'count_alive'}, inplace = True)\n",
    "age_distribution = pd.concat([age_alive, age_count], axis = 1)\n",
    "age_distribution['perc_alive'] = np.divide(age_distribution.count_alive, age_distribution.count_total)\n",
    "\n",
    "# characters grouped by age decade\n",
    "decade_count = pd.DataFrame(age.groupby('decade').count().isAlive)\n",
    "decade_count.rename(columns={'isAlive': 'count_total'}, inplace = True)\n",
    "decade_alive = pd.DataFrame(age.groupby('decade').sum().isAlive)\n",
    "decade_alive.rename(columns={'isAlive': 'count_alive'}, inplace = True)\n",
    "decade_distribution = pd.concat([decade_alive, decade_count], axis = 1)\n",
    "decade_distribution['perc_alive'] = np.divide(decade_distribution.count_alive, decade_distribution.count_total)"
   ]
  },
  {
   "cell_type": "code",
   "execution_count": 204,
   "id": "5a885225",
   "metadata": {
    "scrolled": false
   },
   "outputs": [
    {
     "data": {
      "text/html": [
       "<div>\n",
       "<style scoped>\n",
       "    .dataframe tbody tr th:only-of-type {\n",
       "        vertical-align: middle;\n",
       "    }\n",
       "\n",
       "    .dataframe tbody tr th {\n",
       "        vertical-align: top;\n",
       "    }\n",
       "\n",
       "    .dataframe thead th {\n",
       "        text-align: right;\n",
       "    }\n",
       "</style>\n",
       "<table border=\"1\" class=\"dataframe\">\n",
       "  <thead>\n",
       "    <tr style=\"text-align: right;\">\n",
       "      <th></th>\n",
       "      <th>count_alive</th>\n",
       "      <th>count_total</th>\n",
       "      <th>perc_alive</th>\n",
       "    </tr>\n",
       "    <tr>\n",
       "      <th>age</th>\n",
       "      <th></th>\n",
       "      <th></th>\n",
       "      <th></th>\n",
       "    </tr>\n",
       "  </thead>\n",
       "  <tbody>\n",
       "    <tr>\n",
       "      <th>0.0</th>\n",
       "      <td>0</td>\n",
       "      <td>3</td>\n",
       "      <td>0.0</td>\n",
       "    </tr>\n",
       "    <tr>\n",
       "      <th>1.0</th>\n",
       "      <td>0</td>\n",
       "      <td>1</td>\n",
       "      <td>0.0</td>\n",
       "    </tr>\n",
       "    <tr>\n",
       "      <th>2.0</th>\n",
       "      <td>0</td>\n",
       "      <td>1</td>\n",
       "      <td>0.0</td>\n",
       "    </tr>\n",
       "  </tbody>\n",
       "</table>\n",
       "</div>"
      ],
      "text/plain": [
       "     count_alive  count_total  perc_alive\n",
       "age                                      \n",
       "0.0            0            3         0.0\n",
       "1.0            0            1         0.0\n",
       "2.0            0            1         0.0"
      ]
     },
     "execution_count": 204,
     "metadata": {},
     "output_type": "execute_result"
    }
   ],
   "source": [
    "age_distribution.head(3)"
   ]
  },
  {
   "cell_type": "code",
   "execution_count": 208,
   "id": "d396e243",
   "metadata": {
    "scrolled": false
   },
   "outputs": [
    {
     "data": {
      "text/html": [
       "<div>\n",
       "<style scoped>\n",
       "    .dataframe tbody tr th:only-of-type {\n",
       "        vertical-align: middle;\n",
       "    }\n",
       "\n",
       "    .dataframe tbody tr th {\n",
       "        vertical-align: top;\n",
       "    }\n",
       "\n",
       "    .dataframe thead th {\n",
       "        text-align: right;\n",
       "    }\n",
       "</style>\n",
       "<table border=\"1\" class=\"dataframe\">\n",
       "  <thead>\n",
       "    <tr style=\"text-align: right;\">\n",
       "      <th></th>\n",
       "      <th>count_alive</th>\n",
       "      <th>count_total</th>\n",
       "      <th>perc_alive</th>\n",
       "    </tr>\n",
       "    <tr>\n",
       "      <th>decade</th>\n",
       "      <th></th>\n",
       "      <th></th>\n",
       "      <th></th>\n",
       "    </tr>\n",
       "  </thead>\n",
       "  <tbody>\n",
       "    <tr>\n",
       "      <th>100</th>\n",
       "      <td>0</td>\n",
       "      <td>29</td>\n",
       "      <td>0.000000</td>\n",
       "    </tr>\n",
       "    <tr>\n",
       "      <th>eighth</th>\n",
       "      <td>6</td>\n",
       "      <td>11</td>\n",
       "      <td>0.545455</td>\n",
       "    </tr>\n",
       "    <tr>\n",
       "      <th>fifth</th>\n",
       "      <td>29</td>\n",
       "      <td>45</td>\n",
       "      <td>0.644444</td>\n",
       "    </tr>\n",
       "  </tbody>\n",
       "</table>\n",
       "</div>"
      ],
      "text/plain": [
       "        count_alive  count_total  perc_alive\n",
       "decade                                      \n",
       "100               0           29    0.000000\n",
       "eighth            6           11    0.545455\n",
       "fifth            29           45    0.644444"
      ]
     },
     "execution_count": 208,
     "metadata": {},
     "output_type": "execute_result"
    }
   ],
   "source": [
    "decade_distribution.head(3)"
   ]
  },
  {
   "cell_type": "code",
   "execution_count": 209,
   "id": "6eaec6d3",
   "metadata": {
    "scrolled": false
   },
   "outputs": [
    {
     "data": {
      "image/png": "[encoded data removed]",
      "text/plain": [
       "<Figure size 640x480 with 1 Axes>"
      ]
     },
     "metadata": {},
     "output_type": "display_data"
    }
   ],
   "source": [
    "age_chart = sns.lineplot(data=age_distribution, x=age_distribution.index, y=age_distribution.perc_alive, marker='o')\n",
    "age_chart.set_xlabel('Age', fontdict={'size': 15})\n",
    "age_chart.set_ylabel('Percent Alive', fontdict={'size': 15})\n",
    "plt.show()"
   ]
  },
  {
   "cell_type": "code",
   "execution_count": 210,
   "id": "1b195289",
   "metadata": {},
   "outputs": [
    {
     "data": {
      "image/png": "[encoded data removed]",
      "text/plain": [
       "<Figure size 640x480 with 1 Axes>"
      ]
     },
     "metadata": {},
     "output_type": "display_data"
    }
   ],
   "source": [
    "decade_distribution.index = pd.Categorical(decade_distribution.index,\n",
    "                                   categories=['first', 'second', 'third', 'fourth', 'fifth', 'sixth',\n",
    "                                              'seventh', 'eighth', 'ninth', 'tenth', '100'],\n",
    "                                   ordered=True)\n",
    "\n",
    "decade_chart = sns.lineplot(data=decade_distribution, x=decade_distribution.index, y=decade_distribution.perc_alive, marker='o')\n",
    "decade_chart.set_xlabel('Decade', fontdict={'size': 15})\n",
    "decade_chart.set_ylabel('Percent Alive', fontdict={'size': 15})\n",
    "plt.show()"
   ]
  },
  {
   "cell_type": "code",
   "execution_count": null,
   "id": "edc8391b",
   "metadata": {},
   "outputs": [],
   "source": [
    "# Distribution of categorical variables: House"
   ]
  },
  {
   "cell_type": "code",
   "execution_count": null,
   "id": "baf0eac6",
   "metadata": {},
   "outputs": [],
   "source": [
    "# Distribution of categorical variables: Culture"
   ]
  },
  {
   "cell_type": "code",
   "execution_count": 9,
   "id": "e389f4ef",
   "metadata": {},
   "outputs": [],
   "source": [
    "#...Association of the response with the predictors...#"
   ]
  },
  {
   "cell_type": "markdown",
   "id": "d1561829",
   "metadata": {},
   "source": [
    "### Data cleaning\n",
    "*By Divya*\n",
    "\n",
    "From the data quality check we realized that:\n",
    "\n",
    "1. Some of the columns that should have contained only numeric values, specifically <>, <>, and <> have special characters such as \\*, #, %. We'll remove these characters, and convert the datatype of these columns to numeric.\n",
    "\n",
    "2. Some of the columns have more than 60% missing values, and it is very difficult to impute their values, as the values seem to be missing at random with negligible association with other predictors. We'll remove such columns from the data.\n",
    "\n",
    "3. The column `number_of_bedrooms` has some unreasonably high values such as 15. As our data consist of single-family homes in Evanston, we suspect that any value greater than 5 may be incorrect. We'll replace all values that are greater than 5 with an estimate obtained using the $K$-nearest neighbor approach.\n",
    "\n",
    "4. The columns `house_price` has some unreasonably high values. We'll tag all values greater than 1 billion dollars as \"potentially incorrect observation\", to see if they distort our prediction / inference later on.\n",
    "\n",
    "The code below implements the above cleaning."
   ]
  },
  {
   "cell_type": "code",
   "execution_count": null,
   "id": "46f73626",
   "metadata": {},
   "outputs": [],
   "source": [
    "#...Code with comments...#"
   ]
  },
  {
   "cell_type": "markdown",
   "id": "9b91a14e",
   "metadata": {},
   "source": [
    "### Data preparation\n",
    "*By Sankaranarayanan Balasubramanian and Chun-Li*\n",
    "\n",
    "The following data preparation steps helped us to prepare our data for implementing various modeling / validation techniques:\n",
    "\n",
    "1. Since we need to predict house price, we derived some new predictors *(from existing predictors)* that intuitively seem to be helpuful to predict house price. \n",
    "\n",
    "2. We have shuffled the dataset to prepare it for K-fold cross validation.\n",
    "\n",
    "3. We have created a standardized version of the dataset, as we will use it to develop Lasso / Ridge regression models."
   ]
  },
  {
   "cell_type": "code",
   "execution_count": 3,
   "id": "77b2b85a",
   "metadata": {},
   "outputs": [],
   "source": [
    "######---------------Creating new predictors----------------#########\n",
    "\n",
    "#Creating number of bedrooms per unit floor area\n",
    "\n",
    "#Creating ratio of bathrooms to bedrooms\n",
    "\n",
    "#Creating ratio of carpet area to floor area"
   ]
  },
  {
   "cell_type": "code",
   "execution_count": null,
   "id": "e4e04063",
   "metadata": {},
   "outputs": [],
   "source": [
    "######-----------Shuffling the dataset for K-fold------------#########"
   ]
  },
  {
   "cell_type": "code",
   "execution_count": null,
   "id": "2cecc4d7",
   "metadata": {},
   "outputs": [],
   "source": [
    "######-----Standardizing the dataset for Lasso / Ridge-------#########"
   ]
  },
  {
   "cell_type": "markdown",
   "id": "fbb11c9b",
   "metadata": {},
   "source": [
    "## Exploratory data analysis"
   ]
  },
  {
   "cell_type": "markdown",
   "id": "e4bd74a9",
   "metadata": {},
   "source": [
    "Put code with comments. The comments should explain the code such that it can be easily understood. You may put text *(in a markdown cell)* before a large chunk of code to explain the overall purpose of the code, if it is not intuitive. **Put the name of the person / persons who contributed to each code chunk / set of code chunks.**"
   ]
  },
  {
   "cell_type": "code",
   "execution_count": 49,
   "id": "9bc86f4a",
   "metadata": {},
   "outputs": [
    {
     "data": {
      "text/plain": [
       "(1946, 30)"
      ]
     },
     "execution_count": 49,
     "metadata": {},
     "output_type": "execute_result"
    }
   ],
   "source": [
    "characters.shape"
   ]
  },
  {
   "cell_type": "code",
   "execution_count": 212,
   "id": "7251dac2",
   "metadata": {
    "scrolled": false
   },
   "outputs": [
    {
     "data": {
      "text/html": [
       "<div>\n",
       "<style scoped>\n",
       "    .dataframe tbody tr th:only-of-type {\n",
       "        vertical-align: middle;\n",
       "    }\n",
       "\n",
       "    .dataframe tbody tr th {\n",
       "        vertical-align: top;\n",
       "    }\n",
       "\n",
       "    .dataframe thead th {\n",
       "        text-align: right;\n",
       "    }\n",
       "</style>\n",
       "<table border=\"1\" class=\"dataframe\">\n",
       "  <thead>\n",
       "    <tr style=\"text-align: right;\">\n",
       "      <th></th>\n",
       "      <th>corr</th>\n",
       "      <th>NA_count</th>\n",
       "    </tr>\n",
       "  </thead>\n",
       "  <tbody>\n",
       "    <tr>\n",
       "      <th>isAlive</th>\n",
       "      <td>1.000000</td>\n",
       "      <td>0</td>\n",
       "    </tr>\n",
       "    <tr>\n",
       "      <th>plod</th>\n",
       "      <td>0.417318</td>\n",
       "      <td>0</td>\n",
       "    </tr>\n",
       "    <tr>\n",
       "      <th>isAliveHeir</th>\n",
       "      <td>0.384900</td>\n",
       "      <td>1923</td>\n",
       "    </tr>\n",
       "    <tr>\n",
       "      <th>book4</th>\n",
       "      <td>0.268975</td>\n",
       "      <td>0</td>\n",
       "    </tr>\n",
       "    <tr>\n",
       "      <th>age</th>\n",
       "      <td>0.263761</td>\n",
       "      <td>1513</td>\n",
       "    </tr>\n",
       "    <tr>\n",
       "      <th>isAliveFather</th>\n",
       "      <td>0.195992</td>\n",
       "      <td>1920</td>\n",
       "    </tr>\n",
       "    <tr>\n",
       "      <th>boolDeadRelations</th>\n",
       "      <td>0.193736</td>\n",
       "      <td>0</td>\n",
       "    </tr>\n",
       "    <tr>\n",
       "      <th>numDeadRelations</th>\n",
       "      <td>0.192444</td>\n",
       "      <td>0</td>\n",
       "    </tr>\n",
       "    <tr>\n",
       "      <th>popularity</th>\n",
       "      <td>0.183223</td>\n",
       "      <td>0</td>\n",
       "    </tr>\n",
       "    <tr>\n",
       "      <th>isAliveSpouse</th>\n",
       "      <td>0.174275</td>\n",
       "      <td>1670</td>\n",
       "    </tr>\n",
       "    <tr>\n",
       "      <th>isPopular</th>\n",
       "      <td>0.153860</td>\n",
       "      <td>0</td>\n",
       "    </tr>\n",
       "    <tr>\n",
       "      <th>book1</th>\n",
       "      <td>0.147401</td>\n",
       "      <td>0</td>\n",
       "    </tr>\n",
       "    <tr>\n",
       "      <th>male</th>\n",
       "      <td>0.146982</td>\n",
       "      <td>0</td>\n",
       "    </tr>\n",
       "    <tr>\n",
       "      <th>S.No</th>\n",
       "      <td>0.128712</td>\n",
       "      <td>0</td>\n",
       "    </tr>\n",
       "    <tr>\n",
       "      <th>dateOfBirth</th>\n",
       "      <td>0.085863</td>\n",
       "      <td>1513</td>\n",
       "    </tr>\n",
       "    <tr>\n",
       "      <th>book2</th>\n",
       "      <td>0.067200</td>\n",
       "      <td>0</td>\n",
       "    </tr>\n",
       "    <tr>\n",
       "      <th>isMarried</th>\n",
       "      <td>0.050037</td>\n",
       "      <td>0</td>\n",
       "    </tr>\n",
       "    <tr>\n",
       "      <th>isAliveMother</th>\n",
       "      <td>0.043033</td>\n",
       "      <td>1925</td>\n",
       "    </tr>\n",
       "    <tr>\n",
       "      <th>isNoble</th>\n",
       "      <td>0.042211</td>\n",
       "      <td>0</td>\n",
       "    </tr>\n",
       "    <tr>\n",
       "      <th>book5</th>\n",
       "      <td>0.032846</td>\n",
       "      <td>0</td>\n",
       "    </tr>\n",
       "    <tr>\n",
       "      <th>book3</th>\n",
       "      <td>0.006693</td>\n",
       "      <td>0</td>\n",
       "    </tr>\n",
       "    <tr>\n",
       "      <th>DateoFdeath</th>\n",
       "      <td>NaN</td>\n",
       "      <td>1502</td>\n",
       "    </tr>\n",
       "  </tbody>\n",
       "</table>\n",
       "</div>"
      ],
      "text/plain": [
       "                       corr  NA_count\n",
       "isAlive            1.000000         0\n",
       "plod               0.417318         0\n",
       "isAliveHeir        0.384900      1923\n",
       "book4              0.268975         0\n",
       "age                0.263761      1513\n",
       "isAliveFather      0.195992      1920\n",
       "boolDeadRelations  0.193736         0\n",
       "numDeadRelations   0.192444         0\n",
       "popularity         0.183223         0\n",
       "isAliveSpouse      0.174275      1670\n",
       "isPopular          0.153860         0\n",
       "book1              0.147401         0\n",
       "male               0.146982         0\n",
       "S.No               0.128712         0\n",
       "dateOfBirth        0.085863      1513\n",
       "book2              0.067200         0\n",
       "isMarried          0.050037         0\n",
       "isAliveMother      0.043033      1925\n",
       "isNoble            0.042211         0\n",
       "book5              0.032846         0\n",
       "book3              0.006693         0\n",
       "DateoFdeath             NaN      1502"
      ]
     },
     "execution_count": 212,
     "metadata": {},
     "output_type": "execute_result"
    }
   ],
   "source": [
    "# create dataframe for continuous predictors with\n",
    "# (1) correlation to isAlive (2) count of nan values \n",
    "# -- Annie\n",
    "\n",
    "corr = pd.DataFrame(characters.corrwith(characters['isAlive'])).sort_values(by=[0], ascending = False)\n",
    "corr.rename(columns = {0:'corr'})\n",
    "corr = corr.abs()\n",
    "\n",
    "nans = pd.DataFrame(characters.isnull().sum())\n",
    "nans.rename(columns = {0:'NA_count'})\n",
    "\n",
    "eda = corr.merge(nans, how = 'left', left_index = True, right_index = True)\n",
    "eda.rename(columns = {'0_x':'corr', '0_y':'NA_count'}, inplace = True)\n",
    "eda.sort_values(by=['corr'], ascending = False)\n",
    "\n",
    "# note: plod is a predicted value used by the creators of the dataset, so we are not including it"
   ]
  },
  {
   "cell_type": "markdown",
   "id": "acab331a",
   "metadata": {},
   "source": [
    "## Developing the model"
   ]
  },
  {
   "cell_type": "markdown",
   "id": "ae5ec4c9",
   "metadata": {},
   "source": [
    "Put code with comments. The comments should explain the code such that it can be easily understood. You may put text *(in a markdown cell)* before a large chunk of code to explain the overall purpose of the code, if it is not intuitive. **Put the name of the person / persons who contributed to each code chunk / set of code chunks.**"
   ]
  },
  {
   "cell_type": "markdown",
   "id": "6444e611",
   "metadata": {},
   "source": [
    "### Code fitting the final model"
   ]
  },
  {
   "cell_type": "markdown",
   "id": "f6cae72f",
   "metadata": {},
   "source": [
    "Put the code(s) that fit the final model(s) in separate cell(s), i.e., the code with the `.ols()` or `.logit()` functions."
   ]
  },
  {
   "cell_type": "markdown",
   "id": "62a185cb",
   "metadata": {},
   "source": [
    "## Conclusions and Recommendations to stakeholder(s)\n",
    "\n",
    "You may or may not have code to put in this section. Delete this section if it is irrelevant."
   ]
  }
 ],
 "metadata": {
  "kernelspec": {
   "display_name": "Python 3 (ipykernel)",
   "language": "python",
   "name": "python3"
  },
  "language_info": {
   "codemirror_mode": {
    "name": "ipython",
    "version": 3
   },
   "file_extension": ".py",
   "mimetype": "text/x-python",
   "name": "python",
   "nbconvert_exporter": "python",
   "pygments_lexer": "ipython3",
   "version": "3.9.13"
  }
 },
 "nbformat": 4,
 "nbformat_minor": 5
}
