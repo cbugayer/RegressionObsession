{
 "cells": [
  {
   "cell_type": "raw",
   "id": "33dd6c4c",
   "metadata": {},
   "source": [
    "---\n",
    "title: \"Project Code\"\n",
    "subtitle: Team name\n",
    "author: Author 1, Author 2, Author 3, and Author 4 \n",
    "date: 02/27/2023\n",
    "number-sections: true\n",
    "abstract: _This file contains the code for the project on <>, as part of the STAT303-2 course in Winter 2023_.\n",
    "format: \n",
    "  html:\n",
    "    toc: true\n",
    "    toc-title: Contents\n",
    "    self-contained: true\n",
    "    font-size: 100%\n",
    "    toc-depth: 4\n",
    "    mainfont: serif\n",
    "jupyter: python3\n",
    "---"
   ]
  },
  {
   "cell_type": "code",
   "execution_count": 1,
   "id": "9d340964",
   "metadata": {},
   "outputs": [],
   "source": [
    "import pandas as pd\n",
    "import numpy as np\n",
    "import matplotlib.pyplot as plt\n",
    "import seaborn as sns\n",
    "import statsmodels.api as sm\n",
    "import statsmodels.formula.api as smf\n",
    "import statsmodels.formula.api as sm\n",
    "import itertools\n",
    "import time\n",
    "import warnings\n",
    "warnings.filterwarnings('ignore')"
   ]
  },
  {
   "cell_type": "code",
   "execution_count": 2,
   "id": "ee419d69",
   "metadata": {},
   "outputs": [],
   "source": [
    "characters = pd.read_csv(\"data/character-predictions_pose.csv\")"
   ]
  },
  {
   "cell_type": "markdown",
   "id": "fe7ea9bb",
   "metadata": {},
   "source": [
    "## Data quality check / cleaning / preparation \n",
    "\n",
    "Put code with comments. The comments should explain the code such that it can be easily understood. You may put text *(in a markdown cell)* before a large chunk of code to explain the overall purpose of the code, if it is not intuitive. **Put the name of the person / persons who contributed to each code chunk / set of code chunks.** An example is given below."
   ]
  },
  {
   "cell_type": "code",
   "execution_count": 3,
   "id": "08e45533",
   "metadata": {},
   "outputs": [
    {
     "data": {
      "text/plain": [
       "S.No                    0\n",
       "plod                    0\n",
       "name                    0\n",
       "title                1008\n",
       "male                    0\n",
       "culture              1269\n",
       "dateOfBirth          1513\n",
       "DateoFdeath          1502\n",
       "mother               1925\n",
       "father               1920\n",
       "heir                 1923\n",
       "house                 427\n",
       "spouse               1670\n",
       "book1                   0\n",
       "book2                   0\n",
       "book3                   0\n",
       "book4                   0\n",
       "book5                   0\n",
       "isAliveMother        1925\n",
       "isAliveFather        1920\n",
       "isAliveHeir          1923\n",
       "isAliveSpouse        1670\n",
       "isMarried               0\n",
       "isNoble                 0\n",
       "age                  1513\n",
       "numDeadRelations        0\n",
       "boolDeadRelations       0\n",
       "isPopular               0\n",
       "popularity              0\n",
       "isAlive                 0\n",
       "dtype: int64"
      ]
     },
     "execution_count": 3,
     "metadata": {},
     "output_type": "execute_result"
    }
   ],
   "source": [
    "# check for nan values\n",
    "characters.isnull().sum()"
   ]
  },
  {
   "cell_type": "markdown",
   "id": "db149d8b",
   "metadata": {},
   "source": [
    "### Data quality check"
   ]
  },
  {
   "cell_type": "markdown",
   "id": "fbc82e7f",
   "metadata": {},
   "source": [
    "The code below visualizes the distribution of all the variables in the dataset, and their association with the response."
   ]
  },
  {
   "cell_type": "markdown",
   "id": "4e52a5b1",
   "metadata": {},
   "source": [
    "**Distribution of Continuous Variables** | Annie"
   ]
  },
  {
   "cell_type": "code",
   "execution_count": 4,
   "id": "f1cfdfc0",
   "metadata": {
    "scrolled": false
   },
   "outputs": [
    {
     "data": {
      "text/html": [
       "<div>\n",
       "<style scoped>\n",
       "    .dataframe tbody tr th:only-of-type {\n",
       "        vertical-align: middle;\n",
       "    }\n",
       "\n",
       "    .dataframe tbody tr th {\n",
       "        vertical-align: top;\n",
       "    }\n",
       "\n",
       "    .dataframe thead th {\n",
       "        text-align: right;\n",
       "    }\n",
       "</style>\n",
       "<table border=\"1\" class=\"dataframe\">\n",
       "  <thead>\n",
       "    <tr style=\"text-align: right;\">\n",
       "      <th></th>\n",
       "      <th>corr</th>\n",
       "    </tr>\n",
       "  </thead>\n",
       "  <tbody>\n",
       "    <tr>\n",
       "      <th>isAlive</th>\n",
       "      <td>1.000000</td>\n",
       "    </tr>\n",
       "    <tr>\n",
       "      <th>isAliveHeir</th>\n",
       "      <td>0.384900</td>\n",
       "    </tr>\n",
       "    <tr>\n",
       "      <th>book4</th>\n",
       "      <td>0.268975</td>\n",
       "    </tr>\n",
       "    <tr>\n",
       "      <th>isAliveFather</th>\n",
       "      <td>0.195992</td>\n",
       "    </tr>\n",
       "    <tr>\n",
       "      <th>isAliveSpouse</th>\n",
       "      <td>0.174275</td>\n",
       "    </tr>\n",
       "    <tr>\n",
       "      <th>age</th>\n",
       "      <td>0.087264</td>\n",
       "    </tr>\n",
       "    <tr>\n",
       "      <th>book5</th>\n",
       "      <td>0.032846</td>\n",
       "    </tr>\n",
       "    <tr>\n",
       "      <th>book3</th>\n",
       "      <td>0.006693</td>\n",
       "    </tr>\n",
       "    <tr>\n",
       "      <th>isNoble</th>\n",
       "      <td>-0.042211</td>\n",
       "    </tr>\n",
       "    <tr>\n",
       "      <th>isAliveMother</th>\n",
       "      <td>-0.043033</td>\n",
       "    </tr>\n",
       "    <tr>\n",
       "      <th>isMarried</th>\n",
       "      <td>-0.050037</td>\n",
       "    </tr>\n",
       "    <tr>\n",
       "      <th>book2</th>\n",
       "      <td>-0.067200</td>\n",
       "    </tr>\n",
       "    <tr>\n",
       "      <th>dateOfBirth</th>\n",
       "      <td>-0.085863</td>\n",
       "    </tr>\n",
       "    <tr>\n",
       "      <th>S.No</th>\n",
       "      <td>-0.128712</td>\n",
       "    </tr>\n",
       "    <tr>\n",
       "      <th>male</th>\n",
       "      <td>-0.146982</td>\n",
       "    </tr>\n",
       "    <tr>\n",
       "      <th>book1</th>\n",
       "      <td>-0.147401</td>\n",
       "    </tr>\n",
       "    <tr>\n",
       "      <th>isPopular</th>\n",
       "      <td>-0.153860</td>\n",
       "    </tr>\n",
       "    <tr>\n",
       "      <th>popularity</th>\n",
       "      <td>-0.183223</td>\n",
       "    </tr>\n",
       "    <tr>\n",
       "      <th>numDeadRelations</th>\n",
       "      <td>-0.192444</td>\n",
       "    </tr>\n",
       "    <tr>\n",
       "      <th>boolDeadRelations</th>\n",
       "      <td>-0.193736</td>\n",
       "    </tr>\n",
       "    <tr>\n",
       "      <th>plod</th>\n",
       "      <td>-0.417318</td>\n",
       "    </tr>\n",
       "    <tr>\n",
       "      <th>DateoFdeath</th>\n",
       "      <td>NaN</td>\n",
       "    </tr>\n",
       "  </tbody>\n",
       "</table>\n",
       "</div>"
      ],
      "text/plain": [
       "                       corr\n",
       "isAlive            1.000000\n",
       "isAliveHeir        0.384900\n",
       "book4              0.268975\n",
       "isAliveFather      0.195992\n",
       "isAliveSpouse      0.174275\n",
       "age                0.087264\n",
       "book5              0.032846\n",
       "book3              0.006693\n",
       "isNoble           -0.042211\n",
       "isAliveMother     -0.043033\n",
       "isMarried         -0.050037\n",
       "book2             -0.067200\n",
       "dateOfBirth       -0.085863\n",
       "S.No              -0.128712\n",
       "male              -0.146982\n",
       "book1             -0.147401\n",
       "isPopular         -0.153860\n",
       "popularity        -0.183223\n",
       "numDeadRelations  -0.192444\n",
       "boolDeadRelations -0.193736\n",
       "plod              -0.417318\n",
       "DateoFdeath             NaN"
      ]
     },
     "execution_count": 4,
     "metadata": {},
     "output_type": "execute_result"
    }
   ],
   "source": [
    "corr = pd.DataFrame(characters.corrwith(characters['isAlive'])).sort_values(by=[0], ascending = False)\n",
    "corr.rename(columns = {0:'corr'})"
   ]
  },
  {
   "cell_type": "code",
   "execution_count": 5,
   "id": "f4fb7d12",
   "metadata": {
    "scrolled": false
   },
   "outputs": [],
   "source": [
    "x_vars = ['name', 'title', 'culture', 'mother', 'father', 'heir', 'house', 'spouse']\n",
    "y_vars = [\"isAlive\"]"
   ]
  },
  {
   "cell_type": "code",
   "execution_count": 6,
   "id": "721a63ee",
   "metadata": {},
   "outputs": [
    {
     "data": {
      "image/png": "[encoded data removed]",
      "text/plain": [
       "<Figure size 720x180 with 4 Axes>"
      ]
     },
     "metadata": {
      "needs_background": "light"
     },
     "output_type": "display_data"
    }
   ],
   "source": [
    "g = sns.PairGrid(characters, hue=\"isAlive\", x_vars=x_vars[0:4], y_vars=y_vars).map_diag(sns.histplot, color=\".3\").map_offdiag(sns.scatterplot).set(xticklabels=[])\n",
    "plt.show()"
   ]
  },
  {
   "cell_type": "code",
   "execution_count": 7,
   "id": "31a37968",
   "metadata": {},
   "outputs": [
    {
     "data": {
      "image/png": "[encoded data removed]",
      "text/plain": [
       "<Figure size 540x180 with 3 Axes>"
      ]
     },
     "metadata": {
      "needs_background": "light"
     },
     "output_type": "display_data"
    }
   ],
   "source": [
    "g = sns.PairGrid(characters, hue=\"isAlive\", x_vars=x_vars[5:8], y_vars=y_vars).map_diag(sns.histplot, color=\".3\").map_offdiag(sns.scatterplot).set(xticklabels=[])\n",
    "plt.show()"
   ]
  },
  {
   "cell_type": "code",
   "execution_count": 8,
   "id": "d6dcf0dc",
   "metadata": {},
   "outputs": [],
   "source": [
    "x_vars = characters.columns.to_list()\n",
    "remove_lst = ['name', 'title', 'culture', 'mother', 'father', 'heir', 'house', 'spouse']\n",
    "x_vars = [x for x in x_vars if x not in remove_lst]\n",
    "y_vars = [\"isAlive\"]"
   ]
  },
  {
   "cell_type": "code",
   "execution_count": 9,
   "id": "2e24dd59",
   "metadata": {
    "scrolled": true
   },
   "outputs": [
    {
     "data": {
      "image/png": "[encoded data removed]",
      "text/plain": [
       "<Figure size 900x180 with 5 Axes>"
      ]
     },
     "metadata": {
      "needs_background": "light"
     },
     "output_type": "display_data"
    }
   ],
   "source": [
    "g = sns.PairGrid(characters, hue=\"isAlive\", x_vars=x_vars[0:5], y_vars=y_vars).map_diag(sns.histplot, color=\".3\").map_offdiag(sns.scatterplot)\n",
    "plt.show()"
   ]
  },
  {
   "cell_type": "code",
   "execution_count": 10,
   "id": "c9079bf9",
   "metadata": {
    "scrolled": true
   },
   "outputs": [
    {
     "data": {
      "image/png": "[encoded data removed]",
      "text/plain": [
       "<Figure size 900x180 with 5 Axes>"
      ]
     },
     "metadata": {
      "needs_background": "light"
     },
     "output_type": "display_data"
    }
   ],
   "source": [
    "g = sns.PairGrid(characters, hue=\"isAlive\", x_vars=x_vars[6:11], y_vars=y_vars).map_diag(sns.histplot, color=\".3\").map_offdiag(sns.scatterplot)\n",
    "plt.show()"
   ]
  },
  {
   "cell_type": "code",
   "execution_count": 11,
   "id": "0ef3e20f",
   "metadata": {
    "scrolled": true
   },
   "outputs": [
    {
     "data": {
      "image/png": "[encoded data removed]",
      "text/plain": [
       "<Figure size 900x180 with 5 Axes>"
      ]
     },
     "metadata": {
      "needs_background": "light"
     },
     "output_type": "display_data"
    }
   ],
   "source": [
    "g = sns.PairGrid(characters, hue=\"isAlive\", x_vars=x_vars[12:17], y_vars=y_vars).map_diag(sns.histplot, color=\".3\").map_offdiag(sns.scatterplot)\n",
    "plt.show()"
   ]
  },
  {
   "cell_type": "code",
   "execution_count": 12,
   "id": "bd502a33",
   "metadata": {},
   "outputs": [
    {
     "data": {
      "image/png": "[encoded data removed]",
      "text/plain": [
       "<Figure size 720x180 with 5 Axes>"
      ]
     },
     "metadata": {
      "needs_background": "light"
     },
     "output_type": "display_data"
    }
   ],
   "source": [
    "g = sns.PairGrid(characters, hue=\"isAlive\", x_vars=x_vars[18:], y_vars=y_vars).map_diag(sns.histplot, color=\".3\").map_offdiag(sns.scatterplot)\n",
    "plt.show()"
   ]
  },
  {
   "cell_type": "markdown",
   "id": "1abdf21c",
   "metadata": {},
   "source": [
    "**Distribution of Culture** | Divya"
   ]
  },
  {
   "cell_type": "code",
   "execution_count": 13,
   "id": "8679095b",
   "metadata": {
    "scrolled": true
   },
   "outputs": [
    {
     "data": {
      "text/plain": [
       "Northmen     124\n",
       "Ironborn     112\n",
       "Free Folk     51\n",
       "Valyrian      43\n",
       "Braavosi      42\n",
       "            ... \n",
       "Andal          1\n",
       "Norvoshi       1\n",
       "Qarth          1\n",
       "Lhazarene      1\n",
       "The Reach      1\n",
       "Name: culture, Length: 64, dtype: int64"
      ]
     },
     "execution_count": 13,
     "metadata": {},
     "output_type": "execute_result"
    }
   ],
   "source": [
    "characters.culture.value_counts()"
   ]
  },
  {
   "cell_type": "code",
   "execution_count": 14,
   "id": "5377a0af",
   "metadata": {},
   "outputs": [
    {
     "data": {
      "text/plain": [
       "65"
      ]
     },
     "execution_count": 14,
     "metadata": {},
     "output_type": "execute_result"
    }
   ],
   "source": [
    "len(characters.culture.unique())"
   ]
  },
  {
   "cell_type": "code",
   "execution_count": 15,
   "id": "f2a0d3b5",
   "metadata": {},
   "outputs": [],
   "source": [
    "characters = characters.loc[:,['name', 'male', 'house', 'isNoble', 'numDeadRelations', 'popularity', 'isAlive', 'culture', 'boolDeadRelations', 'isPopular']]\n",
    "characters.dropna(inplace = True)\n",
    "characters.reset_index(drop = True, inplace = True)\n",
    "characters.culture = characters.culture.replace(to_replace = \"northmen\", value = \"Northmen\")\n",
    "characters.culture = characters.culture.replace(to_replace = \"ironborn\", value = \"Ironborn\")\n",
    "characters.culture = characters.culture.replace(to_replace = \"Ironmen\", value = \"Ironborn\")\n",
    "characters.culture = characters.culture.replace(to_replace = \"Asshai'i\", value = \"Asshai\")\n",
    "characters.culture = characters.culture.replace(to_replace = \"Free folk\", value = \"Free Folk\")\n",
    "characters.culture = characters.culture.replace(to_replace = \"free folk\", value = \"Free Folk\")\n",
    "characters.culture = characters.culture.replace(to_replace = \"Summer Islands\", value = \"Summer Isles\")\n",
    "characters.culture = characters.culture.replace(to_replace = \"Summer Islander\", value = \"Summer Isles\")\n",
    "characters.culture = characters.culture.replace(to_replace = \"westermen\", value = \"Westermen\")\n",
    "characters.culture = characters.culture.replace(to_replace = \"Westerman\", value = \"Westermen\")\n",
    "characters.culture = characters.culture.replace(to_replace = \"Westerlands\", value = \"Westermen\")\n",
    "characters.culture = characters.culture.replace(to_replace = \"Vale\", value = \"Valemen\")\n",
    "characters.culture = characters.culture.replace(to_replace = \"Lhazareen\", value = \"Lhazarene\")\n",
    "characters.culture = characters.culture.replace(to_replace = \"The Reach\", value = \"Reach\")\n",
    "characters.culture = characters.culture.replace(to_replace = \"Reachmen\", value = \"Reach\")\n",
    "characters.culture = characters.culture.replace(to_replace = \"Qarth\", value = \"Qartheen\")\n",
    "characters.culture = characters.culture.replace(to_replace = \"Lyseni\", value = \"Lysene\")\n",
    "characters.culture = characters.culture.replace(to_replace = \"Stormlander\", value = \"Stormlands\")\n",
    "characters.culture = characters.culture.replace(to_replace = \"Meereenese\", value = \"Meereen\")\n",
    "characters.culture = characters.culture.replace(to_replace = \"Astapor\", value = \"Astapori\")\n",
    "characters.culture = characters.culture.replace(to_replace = \"Norvos\", value = \"Norvoshi\")\n",
    "characters.culture = characters.culture.replace(to_replace = \"Wildlings\", value = \"Wildling\")\n",
    "characters.culture = characters.culture.replace(to_replace = \"Andals\", value = \"Andal\")\n",
    "characters.culture = characters.culture.replace(to_replace = \"Braavos\", value = \"Braavosi\")\n",
    "characters.culture = characters.culture.replace(to_replace = \"Dorne\", value = \"Dornish\")\n",
    "characters.culture = characters.culture.replace(to_replace = \"Dornishmen\", value = \"Dornish\")\n",
    "characters.culture = characters.culture.replace(to_replace = \"Ghiscaricari\", value = \"Ghiscari\")"
   ]
  },
  {
   "cell_type": "code",
   "execution_count": 16,
   "id": "8f070868",
   "metadata": {
    "scrolled": true
   },
   "outputs": [
    {
     "data": {
      "text/html": [
       "<div>\n",
       "<style scoped>\n",
       "    .dataframe tbody tr th:only-of-type {\n",
       "        vertical-align: middle;\n",
       "    }\n",
       "\n",
       "    .dataframe tbody tr th {\n",
       "        vertical-align: top;\n",
       "    }\n",
       "\n",
       "    .dataframe thead th {\n",
       "        text-align: right;\n",
       "    }\n",
       "</style>\n",
       "<table border=\"1\" class=\"dataframe\">\n",
       "  <thead>\n",
       "    <tr style=\"text-align: right;\">\n",
       "      <th></th>\n",
       "      <th>culture_bin</th>\n",
       "      <th>count</th>\n",
       "    </tr>\n",
       "  </thead>\n",
       "  <tbody>\n",
       "    <tr>\n",
       "      <th>0</th>\n",
       "      <td>most_survive</td>\n",
       "      <td>186</td>\n",
       "    </tr>\n",
       "    <tr>\n",
       "      <th>1</th>\n",
       "      <td>many_survive</td>\n",
       "      <td>167</td>\n",
       "    </tr>\n",
       "    <tr>\n",
       "      <th>2</th>\n",
       "      <td>morethanhalf_survive</td>\n",
       "      <td>49</td>\n",
       "    </tr>\n",
       "    <tr>\n",
       "      <th>3</th>\n",
       "      <td>few_survive</td>\n",
       "      <td>44</td>\n",
       "    </tr>\n",
       "    <tr>\n",
       "      <th>4</th>\n",
       "      <td>half_survive</td>\n",
       "      <td>29</td>\n",
       "    </tr>\n",
       "    <tr>\n",
       "      <th>5</th>\n",
       "      <td>all_survive</td>\n",
       "      <td>15</td>\n",
       "    </tr>\n",
       "    <tr>\n",
       "      <th>6</th>\n",
       "      <td>none_survive</td>\n",
       "      <td>3</td>\n",
       "    </tr>\n",
       "  </tbody>\n",
       "</table>\n",
       "</div>"
      ],
      "text/plain": [
       "            culture_bin  count\n",
       "0          most_survive    186\n",
       "1          many_survive    167\n",
       "2  morethanhalf_survive     49\n",
       "3           few_survive     44\n",
       "4          half_survive     29\n",
       "5           all_survive     15\n",
       "6          none_survive      3"
      ]
     },
     "execution_count": 16,
     "metadata": {},
     "output_type": "execute_result"
    }
   ],
   "source": [
    "culture_counts = pd.DataFrame(characters.culture.value_counts()).reset_index()\n",
    "survival_counts = pd.DataFrame(characters.groupby(['culture']).isAlive.value_counts())\n",
    "survival_counts.rename({'isAlive':'count_survived'}, axis='columns', inplace=True)\n",
    "survival_counts = pd.DataFrame(survival_counts.to_records())\n",
    "#for Qohor and Astapori, no one survived — this will be taken into account later and for now they will be dropped\n",
    "survival_counts = survival_counts[survival_counts['isAlive'] == 1] \n",
    "survival_counts.drop(columns=[\"isAlive\"], inplace=True)\n",
    "culture_counts = culture_counts.rename(columns={'index':'culture', \"culture\" : \"total\"})\n",
    "survival_df = culture_counts.merge(survival_counts)\n",
    "survival_df['percent_survived'] = (survival_df['count_survived']/survival_df['total'])*100\n",
    "survival_df = survival_df.sort_values(by=['percent_survived'], ascending=False)\n",
    "characters.culture = characters.culture.replace(to_replace = ['Ibbenese', 'Asshai', 'Lhazarene', 'Summer Isles', 'First Men', 'Naathi', 'Norvoshi', 'Rhoynar', 'Crannogmen'], value = \"all_survive\")\n",
    "characters.culture = characters.culture.replace(to_replace = ['Ironborn', 'Ghiscari', 'Vale mountain clans', 'Dornish', 'Reach'], value = \"most_survive\")\n",
    "characters.culture = characters.culture.replace(to_replace = ['Dothraki', 'Stormlands', 'Rivermen', 'Braavosi', 'Northmen'], value = \"many_survive\")\n",
    "characters.culture = characters.culture.replace(to_replace = ['Qartheen', 'Myrish', 'Lysene', 'Valemen', 'Northern mountain clans', 'Tyroshi', 'Westeros'], value = \"morethanhalf_survive\")\n",
    "characters.culture = characters.culture.replace(to_replace = ['Westermen', 'Riverlands', 'Pentoshi', 'Free Folk', 'Sistermen', 'Meereen'], value = \"half_survive\")\n",
    "characters.culture = characters.culture.replace(to_replace = ['Riverlands', 'Lysene', 'Valyrian'], value = \"few_survive\")\n",
    "characters.culture = characters.culture.replace(to_replace = ['Wildling', 'Valyrian'], value = \"few_survive\")\n",
    "characters.culture = characters.culture.replace(to_replace = ['Astapori', 'Qohor'], value = \"none_survive\")\n",
    "culture_counts = pd.DataFrame(characters.culture.value_counts()).reset_index()\n",
    "culture_counts = culture_counts.rename(columns={'index':'culture_bin', \"culture\" : \"count\"})\n",
    "culture_counts"
   ]
  },
  {
   "cell_type": "markdown",
   "id": "adc4d80c",
   "metadata": {},
   "source": [
    "**Distribution of House** | Charles"
   ]
  },
  {
   "cell_type": "code",
   "execution_count": 17,
   "id": "b9804004",
   "metadata": {
    "scrolled": true
   },
   "outputs": [
    {
     "data": {
      "text/plain": [
       "House Stark                          60\n",
       "House Targaryen                      42\n",
       "House Greyjoy                        28\n",
       "House Martell                        18\n",
       "House Botley                         12\n",
       "                                     ..\n",
       "House Webber                          1\n",
       "House Toland                          1\n",
       "House Goodbrother of Shatterstone     1\n",
       "House Manderly                        1\n",
       "Chataya's brothel                     1\n",
       "Name: house, Length: 145, dtype: int64"
      ]
     },
     "execution_count": 17,
     "metadata": {},
     "output_type": "execute_result"
    }
   ],
   "source": [
    "# Charles\n",
    "characters.house.value_counts()"
   ]
  },
  {
   "cell_type": "code",
   "execution_count": 18,
   "id": "bbe2ac8c",
   "metadata": {
    "scrolled": false
   },
   "outputs": [
    {
     "data": {
      "text/plain": [
       "145"
      ]
     },
     "execution_count": 18,
     "metadata": {},
     "output_type": "execute_result"
    }
   ],
   "source": [
    "len(characters.house.unique())"
   ]
  },
  {
   "cell_type": "code",
   "execution_count": 19,
   "id": "1fc2e079",
   "metadata": {},
   "outputs": [
    {
     "data": {
      "image/png": "[encoded data removed]",
      "text/plain": [
       "<Figure size 432x288 with 1 Axes>"
      ]
     },
     "metadata": {
      "needs_background": "light"
     },
     "output_type": "display_data"
    }
   ],
   "source": [
    "for house in characters.house:\n",
    "    percent_alive = characters[characters.house == house].isAlive.mean()\n",
    "    characters.loc[characters.house == house, 'house_alive'] = percent_alive\n",
    "\n",
    "# Bin house_alive into 5 bins\n",
    "binned_house_alive = pd.qcut(characters['house_alive'],10,retbins=True, duplicates = 'drop')\n",
    "bins = binned_house_alive[1]\n",
    "characters['house_alive_binned'] = pd.cut(characters['house_alive'],bins = bins)\n",
    "dum = pd.get_dummies(characters.house_alive_binned,drop_first = True)\n",
    "dum.columns = ['house_alive'+str(x) for x in range(1,len(bins)-1)]\n",
    "characters = pd.concat([characters,dum], axis = 1)\n",
    "\n",
    "# Linechart for House Bins\n",
    "house_survival = characters.groupby('house_alive_binned')['isAlive'].agg([('percent','mean'),('nobs','count')]).reset_index(drop=False)\n",
    "intervals = house_survival.house_alive_binned.to_list()\n",
    "intervals_string = []\n",
    "for i in range(len(intervals)):\n",
    "    string = str(intervals[i])\n",
    "    intervals_string.append(string)\n",
    "    \n",
    "house_chart = sns.lineplot(x = intervals_string, y= house_survival['percent'])\n",
    "plt.xlabel('house_bin')\n",
    "house_chart.set_xticks(intervals_string)\n",
    "house_chart.set_xticklabels(intervals_string, rotation=45, size=12)\n",
    "plt.show()"
   ]
  },
  {
   "cell_type": "code",
   "execution_count": 20,
   "id": "7ad0e3c7",
   "metadata": {},
   "outputs": [],
   "source": [
    "characters_clean_copy = characters.copy()"
   ]
  },
  {
   "cell_type": "code",
   "execution_count": 22,
   "id": "dbc66d35",
   "metadata": {},
   "outputs": [],
   "source": [
    "characters_clean = pd.read_csv(\"data/character-predictions_pose.csv\")"
   ]
  },
  {
   "cell_type": "markdown",
   "id": "2cb7e0a1",
   "metadata": {},
   "source": [
    "**Distribution of Age binned** | Annie"
   ]
  },
  {
   "cell_type": "code",
   "execution_count": 24,
   "id": "0690f4d4",
   "metadata": {
    "scrolled": true
   },
   "outputs": [
    {
     "data": {
      "text/plain": [
       "100.0    29\n",
       "19.0     19\n",
       "22.0     16\n",
       "21.0     15\n",
       "20.0     14\n",
       "         ..\n",
       "61.0      1\n",
       "85.0      1\n",
       "2.0       1\n",
       "59.0      1\n",
       "1.0       1\n",
       "Name: age, Length: 85, dtype: int64"
      ]
     },
     "execution_count": 24,
     "metadata": {},
     "output_type": "execute_result"
    }
   ],
   "source": [
    "characters_clean.age.value_counts()"
   ]
  },
  {
   "cell_type": "code",
   "execution_count": 25,
   "id": "b12b050b",
   "metadata": {},
   "outputs": [
    {
     "data": {
      "text/plain": [
       "86"
      ]
     },
     "execution_count": 25,
     "metadata": {},
     "output_type": "execute_result"
    }
   ],
   "source": [
    "len(characters_clean.age.unique())"
   ]
  },
  {
   "cell_type": "code",
   "execution_count": 27,
   "id": "8faafdbf",
   "metadata": {
    "scrolled": false
   },
   "outputs": [],
   "source": [
    "age = characters_clean.copy()\n",
    "age.dropna(subset=['age'], inplace = True)\n",
    "\n",
    "# fixing incorrect (negative) ages with correct ages from online research\n",
    "age.at[1684,'age'] = 0\n",
    "age.at[1868,'age'] = 25\n",
    "\n",
    "# adding column for the decade of characters' lives\n",
    "age['decade'] = age['age'].apply(lambda x: \n",
    "                                 'first' if x < 10\n",
    "                                 else 'second' if x >= 10 and x < 20\n",
    "                                 else 'third' if x >= 20 and x < 30\n",
    "                                 else 'fourth' if x >= 30 and x < 40\n",
    "                                 else 'fifth' if x >= 40 and x < 50\n",
    "                                 else 'sixth' if x >= 50 and x < 60\n",
    "                                 else 'seventh' if x >= 60 and x < 70\n",
    "                                 else 'eighth' if x >= 70 and x < 80\n",
    "                                 else 'ninth' if x >= 80 and x < 90\n",
    "                                 else 'tenth' if x >= 90 and x < 100\n",
    "                                                   else '100')\n",
    "\n",
    "# characters grouped by age \n",
    "age_count = pd.DataFrame(characters_clean.groupby('age').count().isAlive)\n",
    "age_count.rename(columns={'isAlive': 'count_total'}, inplace = True)\n",
    "age_alive = pd.DataFrame(characters_clean.groupby('age').sum().isAlive)\n",
    "age_alive.rename(columns={'isAlive': 'count_alive'}, inplace = True)\n",
    "age_distribution = pd.concat([age_alive, age_count], axis = 1)\n",
    "age_distribution['perc_alive'] = np.divide(age_distribution.count_alive, age_distribution.count_total)\n",
    "\n",
    "# characters grouped by age decade\n",
    "decade_count = pd.DataFrame(age.groupby('decade').count().isAlive)\n",
    "decade_count.rename(columns={'isAlive': 'count_total'}, inplace = True)\n",
    "decade_alive = pd.DataFrame(age.groupby('decade').sum().isAlive)\n",
    "decade_alive.rename(columns={'isAlive': 'count_alive'}, inplace = True)\n",
    "decade_distribution = pd.concat([decade_alive, decade_count], axis = 1)\n",
    "decade_distribution['perc_alive'] = np.divide(decade_distribution.count_alive, decade_distribution.count_total)"
   ]
  },
  {
   "cell_type": "code",
   "execution_count": 28,
   "id": "5a885225",
   "metadata": {
    "scrolled": false
   },
   "outputs": [
    {
     "data": {
      "text/html": [
       "<div>\n",
       "<style scoped>\n",
       "    .dataframe tbody tr th:only-of-type {\n",
       "        vertical-align: middle;\n",
       "    }\n",
       "\n",
       "    .dataframe tbody tr th {\n",
       "        vertical-align: top;\n",
       "    }\n",
       "\n",
       "    .dataframe thead th {\n",
       "        text-align: right;\n",
       "    }\n",
       "</style>\n",
       "<table border=\"1\" class=\"dataframe\">\n",
       "  <thead>\n",
       "    <tr style=\"text-align: right;\">\n",
       "      <th></th>\n",
       "      <th>count_alive</th>\n",
       "      <th>count_total</th>\n",
       "      <th>perc_alive</th>\n",
       "    </tr>\n",
       "    <tr>\n",
       "      <th>age</th>\n",
       "      <th></th>\n",
       "      <th></th>\n",
       "      <th></th>\n",
       "    </tr>\n",
       "  </thead>\n",
       "  <tbody>\n",
       "    <tr>\n",
       "      <th>-298001.0</th>\n",
       "      <td>0</td>\n",
       "      <td>1</td>\n",
       "      <td>0.0</td>\n",
       "    </tr>\n",
       "    <tr>\n",
       "      <th>-277980.0</th>\n",
       "      <td>0</td>\n",
       "      <td>1</td>\n",
       "      <td>0.0</td>\n",
       "    </tr>\n",
       "    <tr>\n",
       "      <th>0.0</th>\n",
       "      <td>0</td>\n",
       "      <td>2</td>\n",
       "      <td>0.0</td>\n",
       "    </tr>\n",
       "  </tbody>\n",
       "</table>\n",
       "</div>"
      ],
      "text/plain": [
       "           count_alive  count_total  perc_alive\n",
       "age                                            \n",
       "-298001.0            0            1         0.0\n",
       "-277980.0            0            1         0.0\n",
       " 0.0                 0            2         0.0"
      ]
     },
     "execution_count": 28,
     "metadata": {},
     "output_type": "execute_result"
    }
   ],
   "source": [
    "age_distribution.head(3)"
   ]
  },
  {
   "cell_type": "code",
   "execution_count": 29,
   "id": "d396e243",
   "metadata": {
    "scrolled": false
   },
   "outputs": [
    {
     "data": {
      "text/html": [
       "<div>\n",
       "<style scoped>\n",
       "    .dataframe tbody tr th:only-of-type {\n",
       "        vertical-align: middle;\n",
       "    }\n",
       "\n",
       "    .dataframe tbody tr th {\n",
       "        vertical-align: top;\n",
       "    }\n",
       "\n",
       "    .dataframe thead th {\n",
       "        text-align: right;\n",
       "    }\n",
       "</style>\n",
       "<table border=\"1\" class=\"dataframe\">\n",
       "  <thead>\n",
       "    <tr style=\"text-align: right;\">\n",
       "      <th></th>\n",
       "      <th>count_alive</th>\n",
       "      <th>count_total</th>\n",
       "      <th>perc_alive</th>\n",
       "    </tr>\n",
       "    <tr>\n",
       "      <th>decade</th>\n",
       "      <th></th>\n",
       "      <th></th>\n",
       "      <th></th>\n",
       "    </tr>\n",
       "  </thead>\n",
       "  <tbody>\n",
       "    <tr>\n",
       "      <th>100</th>\n",
       "      <td>0</td>\n",
       "      <td>29</td>\n",
       "      <td>0.000000</td>\n",
       "    </tr>\n",
       "    <tr>\n",
       "      <th>eighth</th>\n",
       "      <td>6</td>\n",
       "      <td>11</td>\n",
       "      <td>0.545455</td>\n",
       "    </tr>\n",
       "    <tr>\n",
       "      <th>fifth</th>\n",
       "      <td>29</td>\n",
       "      <td>45</td>\n",
       "      <td>0.644444</td>\n",
       "    </tr>\n",
       "  </tbody>\n",
       "</table>\n",
       "</div>"
      ],
      "text/plain": [
       "        count_alive  count_total  perc_alive\n",
       "decade                                      \n",
       "100               0           29    0.000000\n",
       "eighth            6           11    0.545455\n",
       "fifth            29           45    0.644444"
      ]
     },
     "execution_count": 29,
     "metadata": {},
     "output_type": "execute_result"
    }
   ],
   "source": [
    "decade_distribution.head(3)"
   ]
  },
  {
   "cell_type": "code",
   "execution_count": 30,
   "id": "6eaec6d3",
   "metadata": {
    "scrolled": false
   },
   "outputs": [
    {
     "data": {
      "image/png": "[encoded data removed]",
      "text/plain": [
       "<Figure size 432x288 with 1 Axes>"
      ]
     },
     "metadata": {
      "needs_background": "light"
     },
     "output_type": "display_data"
    }
   ],
   "source": [
    "age_chart = sns.lineplot(data=age_distribution, x=age_distribution.index, y=age_distribution.perc_alive, marker='o')\n",
    "age_chart.set_xlabel('Age', fontdict={'size': 15})\n",
    "age_chart.set_ylabel('Percent Alive', fontdict={'size': 15})\n",
    "plt.show()"
   ]
  },
  {
   "cell_type": "code",
   "execution_count": 31,
   "id": "1b195289",
   "metadata": {
    "scrolled": false
   },
   "outputs": [
    {
     "data": {
      "image/png": "[encoded data removed]",
      "text/plain": [
       "<Figure size 432x288 with 1 Axes>"
      ]
     },
     "metadata": {
      "needs_background": "light"
     },
     "output_type": "display_data"
    }
   ],
   "source": [
    "decade_distribution.index = pd.Categorical(decade_distribution.index,\n",
    "                                   categories=['first', 'second', 'third', 'fourth', 'fifth', 'sixth',\n",
    "                                              'seventh', 'eighth', 'ninth', 'tenth', '100'],\n",
    "                                   ordered=True)\n",
    "\n",
    "decade_chart = sns.lineplot(data=decade_distribution, x=decade_distribution.index, y=decade_distribution.perc_alive, marker='o')\n",
    "decade_chart.set_xlabel('Decade', fontdict={'size': 15})\n",
    "decade_chart.set_ylabel('Percent Alive', fontdict={'size': 15})\n",
    "plt.show()"
   ]
  },
  {
   "cell_type": "markdown",
   "id": "3c855c0b",
   "metadata": {},
   "source": [
    "## Data cleaning and preparation\n",
    "\n"
   ]
  },
  {
   "cell_type": "markdown",
   "id": "1bfb6269",
   "metadata": {},
   "source": [
    "**Data Cleaning** | Divya"
   ]
  },
  {
   "cell_type": "markdown",
   "id": "294e7a78",
   "metadata": {},
   "source": [
    "From the data quality check we realized that:\n",
    "\n",
    "1. `Culture` and `house` were central predictors we were planning to use, but had more than 65% and and 20% missing values respectively. It is very difficult to impute their values because it is a categorical variable for fictional characaters. The values would likely be missing for less important characters, so we removed such columns from the data. We also subset our original dataframe with the columns we used as predictors.\n",
    "\n",
    "2. The column `culture` has values that should be categorized under the same value but were noted with different spellings. This would distort our count of how many people are in each culture so we correctly grouped the same values together. \n",
    "\n",
    "3. The columns `culture` and `house` needed to be binned according to what percentage of the culture or house survived because then the binned categories would have the strongest relationship with isAlive"
   ]
  },
  {
   "cell_type": "code",
   "execution_count": 32,
   "id": "6a819768",
   "metadata": {},
   "outputs": [],
   "source": [
    "characters.culture = characters.culture.replace(to_replace = \"northmen\", value = \"Northmen\")\n",
    "characters.culture = characters.culture.replace(to_replace = \"ironborn\", value = \"Ironborn\")\n",
    "characters.culture = characters.culture.replace(to_replace = \"Ironmen\", value = \"Ironborn\")\n",
    "characters.culture = characters.culture.replace(to_replace = \"Asshai'i\", value = \"Asshai\")\n",
    "characters.culture = characters.culture.replace(to_replace = \"Free folk\", value = \"Free Folk\")\n",
    "characters.culture = characters.culture.replace(to_replace = \"free folk\", value = \"Free Folk\")\n",
    "characters.culture = characters.culture.replace(to_replace = \"Summer Islands\", value = \"Summer Isles\")\n",
    "characters.culture = characters.culture.replace(to_replace = \"Summer Islander\", value = \"Summer Isles\")\n",
    "characters.culture = characters.culture.replace(to_replace = \"westermen\", value = \"Westermen\")\n",
    "characters.culture = characters.culture.replace(to_replace = \"Westerman\", value = \"Westermen\")\n",
    "characters.culture = characters.culture.replace(to_replace = \"Westerlands\", value = \"Westermen\")\n",
    "characters.culture = characters.culture.replace(to_replace = \"Vale\", value = \"Valemen\")\n",
    "characters.culture = characters.culture.replace(to_replace = \"Lhazareen\", value = \"Lhazarene\")\n",
    "characters.culture = characters.culture.replace(to_replace = \"The Reach\", value = \"Reach\")\n",
    "characters.culture = characters.culture.replace(to_replace = \"Reachmen\", value = \"Reach\")\n",
    "characters.culture = characters.culture.replace(to_replace = \"Qarth\", value = \"Qartheen\")\n",
    "characters.culture = characters.culture.replace(to_replace = \"Lyseni\", value = \"Lysene\")\n",
    "characters.culture = characters.culture.replace(to_replace = \"Stormlander\", value = \"Stormlands\")\n",
    "characters.culture = characters.culture.replace(to_replace = \"Meereenese\", value = \"Meereen\")\n",
    "characters.culture = characters.culture.replace(to_replace = \"Astapor\", value = \"Astapori\")\n",
    "characters.culture = characters.culture.replace(to_replace = \"Norvos\", value = \"Norvoshi\")\n",
    "characters.culture = characters.culture.replace(to_replace = \"Wildlings\", value = \"Wildling\")\n",
    "characters.culture = characters.culture.replace(to_replace = \"Andals\", value = \"Andal\")\n",
    "characters.culture = characters.culture.replace(to_replace = \"Braavos\", value = \"Braavosi\")\n",
    "characters.culture = characters.culture.replace(to_replace = \"Dorne\", value = \"Dornish\")\n",
    "characters.culture = characters.culture.replace(to_replace = \"Dornishmen\", value = \"Dornish\")\n",
    "characters.culture = characters.culture.replace(to_replace = \"Ghiscaricari\", value = \"Ghiscari\")"
   ]
  },
  {
   "cell_type": "markdown",
   "id": "e82a60b5",
   "metadata": {},
   "source": [
    "**Data Preparation** -- Catherine"
   ]
  },
  {
   "cell_type": "markdown",
   "id": "9b91a14e",
   "metadata": {},
   "source": [
    "The data was prepared for forward selection by creating dummy variables for characters — this step is displayed in the \"Developing the Model\" section, as it was a part of forward selection. "
   ]
  },
  {
   "cell_type": "markdown",
   "id": "fbb11c9b",
   "metadata": {},
   "source": [
    "## Exploratory data analysis -- shift some code from somewhere above to here??"
   ]
  },
  {
   "cell_type": "markdown",
   "id": "e4bd74a9",
   "metadata": {},
   "source": [
    "Put code with comments. The comments should explain the code such that it can be easily understood. You may put text *(in a markdown cell)* before a large chunk of code to explain the overall purpose of the code, if it is not intuitive. **Put the name of the person / persons who contributed to each code chunk / set of code chunks.**"
   ]
  },
  {
   "cell_type": "code",
   "execution_count": 33,
   "id": "9bc86f4a",
   "metadata": {},
   "outputs": [
    {
     "data": {
      "text/plain": [
       "(493, 19)"
      ]
     },
     "execution_count": 33,
     "metadata": {},
     "output_type": "execute_result"
    }
   ],
   "source": [
    "characters.shape"
   ]
  },
  {
   "cell_type": "code",
   "execution_count": 35,
   "id": "7251dac2",
   "metadata": {
    "scrolled": false
   },
   "outputs": [
    {
     "data": {
      "text/html": [
       "<div>\n",
       "<style scoped>\n",
       "    .dataframe tbody tr th:only-of-type {\n",
       "        vertical-align: middle;\n",
       "    }\n",
       "\n",
       "    .dataframe tbody tr th {\n",
       "        vertical-align: top;\n",
       "    }\n",
       "\n",
       "    .dataframe thead th {\n",
       "        text-align: right;\n",
       "    }\n",
       "</style>\n",
       "<table border=\"1\" class=\"dataframe\">\n",
       "  <thead>\n",
       "    <tr style=\"text-align: right;\">\n",
       "      <th></th>\n",
       "      <th>corr</th>\n",
       "      <th>NA_count</th>\n",
       "    </tr>\n",
       "  </thead>\n",
       "  <tbody>\n",
       "    <tr>\n",
       "      <th>isAlive</th>\n",
       "      <td>1.000000</td>\n",
       "      <td>0</td>\n",
       "    </tr>\n",
       "    <tr>\n",
       "      <th>house_alive</th>\n",
       "      <td>0.607036</td>\n",
       "      <td>0</td>\n",
       "    </tr>\n",
       "    <tr>\n",
       "      <th>house_alive7</th>\n",
       "      <td>0.419330</td>\n",
       "      <td>0</td>\n",
       "    </tr>\n",
       "    <tr>\n",
       "      <th>house_alive1</th>\n",
       "      <td>0.186736</td>\n",
       "      <td>0</td>\n",
       "    </tr>\n",
       "    <tr>\n",
       "      <th>boolDeadRelations</th>\n",
       "      <td>0.170938</td>\n",
       "      <td>0</td>\n",
       "    </tr>\n",
       "    <tr>\n",
       "      <th>numDeadRelations</th>\n",
       "      <td>0.145381</td>\n",
       "      <td>0</td>\n",
       "    </tr>\n",
       "    <tr>\n",
       "      <th>house_alive5</th>\n",
       "      <td>0.104926</td>\n",
       "      <td>0</td>\n",
       "    </tr>\n",
       "    <tr>\n",
       "      <th>male</th>\n",
       "      <td>0.093552</td>\n",
       "      <td>0</td>\n",
       "    </tr>\n",
       "    <tr>\n",
       "      <th>isNoble</th>\n",
       "      <td>0.089122</td>\n",
       "      <td>0</td>\n",
       "    </tr>\n",
       "    <tr>\n",
       "      <th>house_alive6</th>\n",
       "      <td>0.058689</td>\n",
       "      <td>0</td>\n",
       "    </tr>\n",
       "    <tr>\n",
       "      <th>popularity</th>\n",
       "      <td>0.054227</td>\n",
       "      <td>0</td>\n",
       "    </tr>\n",
       "    <tr>\n",
       "      <th>isPopular</th>\n",
       "      <td>0.039975</td>\n",
       "      <td>0</td>\n",
       "    </tr>\n",
       "    <tr>\n",
       "      <th>house_alive2</th>\n",
       "      <td>0.033612</td>\n",
       "      <td>0</td>\n",
       "    </tr>\n",
       "    <tr>\n",
       "      <th>house_alive4</th>\n",
       "      <td>0.017300</td>\n",
       "      <td>0</td>\n",
       "    </tr>\n",
       "    <tr>\n",
       "      <th>house_alive3</th>\n",
       "      <td>0.008798</td>\n",
       "      <td>0</td>\n",
       "    </tr>\n",
       "  </tbody>\n",
       "</table>\n",
       "</div>"
      ],
      "text/plain": [
       "                       corr  NA_count\n",
       "isAlive            1.000000         0\n",
       "house_alive        0.607036         0\n",
       "house_alive7       0.419330         0\n",
       "house_alive1       0.186736         0\n",
       "boolDeadRelations  0.170938         0\n",
       "numDeadRelations   0.145381         0\n",
       "house_alive5       0.104926         0\n",
       "male               0.093552         0\n",
       "isNoble            0.089122         0\n",
       "house_alive6       0.058689         0\n",
       "popularity         0.054227         0\n",
       "isPopular          0.039975         0\n",
       "house_alive2       0.033612         0\n",
       "house_alive4       0.017300         0\n",
       "house_alive3       0.008798         0"
      ]
     },
     "execution_count": 35,
     "metadata": {},
     "output_type": "execute_result"
    }
   ],
   "source": [
    "# create dataframe for continuous predictors with\n",
    "# (1) correlation to isAlive (2) count of nan values \n",
    "\n",
    "corr = pd.DataFrame(characters.corrwith(characters['isAlive'])).sort_values(by=[0], ascending = False)\n",
    "corr.rename(columns = {0:'corr'})\n",
    "corr = corr.abs()\n",
    "\n",
    "nans = pd.DataFrame(characters.isnull().sum())\n",
    "nans.rename(columns = {0:'NA_count'})\n",
    "\n",
    "eda = corr.merge(nans, how = 'left', left_index = True, right_index = True)\n",
    "eda.rename(columns = {'0_x':'corr', '0_y':'NA_count'}, inplace = True)\n",
    "eda.sort_values(by=['corr'], ascending = False)\n",
    "\n",
    "# note: plod is a predicted value used by the creators of the dataset, so we are not including it"
   ]
  },
  {
   "cell_type": "markdown",
   "id": "acab331a",
   "metadata": {},
   "source": [
    "## Developing the model"
   ]
  },
  {
   "cell_type": "markdown",
   "id": "ae5ec4c9",
   "metadata": {},
   "source": [
    "Put code with comments. The comments should explain the code such that it can be easily understood. You may put text *(in a markdown cell)* before a large chunk of code to explain the overall purpose of the code, if it is not intuitive. **Put the name of the person / persons who contributed to each code chunk / set of code chunks.**"
   ]
  },
  {
   "cell_type": "code",
   "execution_count": 36,
   "id": "8aef2344",
   "metadata": {},
   "outputs": [],
   "source": [
    "# Catherine\n",
    "\n",
    "# HELPER FUNCTIONS FOR TESTING\n",
    "\n",
    "def bin_opp(num):\n",
    "    return 1 if num==0 else 0\n",
    "\n",
    "def test_person(name, formula, data = characters):\n",
    "    train = data.loc[data['name'] != name]\n",
    "    person = data.loc[data['name'] == name]\n",
    "    model = sm.logit(formula = formula, data=data).fit(disp=0, method='bfgs')\n",
    "    prediction = model.predict(person)\n",
    "    return prediction.values[0], person[\"isAlive\"].values[0]\n",
    "\n",
    "def test(formula, num_examples=50, loss_func=None, cutoff=.3, clean_data=characters):\n",
    "    accurate_counter = 0\n",
    "    mat_state = [[0,0],[0,0]]\n",
    "    for index, row in clean_data.iterrows():\n",
    "        p, act = test_person(row['name'], formula, data = clean_data)\n",
    "        if p + cutoff >= 1:\n",
    "            bin_p = 1\n",
    "        else:\n",
    "            bin_p = 0\n",
    "        mat_state[bin_opp(bin_p)][bin_opp(act)] += 1\n",
    "        if index >= num_examples:\n",
    "            break\n",
    "    if loss_func is None:\n",
    "        return mat_state[0][0]+mat_state[1][1], mat_state, sm.logit(formula=formula, data=clean_data).fit(method='bfgs', disp=0)\n",
    "    else:\n",
    "        return loss_func(accurate_counter), mat_state, sm.logit(formula=formula, data=clean_data).fit(method='bfgs', disp=0)"
   ]
  },
  {
   "cell_type": "code",
   "execution_count": 37,
   "id": "27d390a2",
   "metadata": {},
   "outputs": [
    {
     "name": "stdout",
     "output_type": "stream",
     "text": [
      "isAlive~male\n",
      "isAlive~isNoble\n",
      "isAlive~numDeadRelations\n",
      "isAlive~popularity\n",
      "isAlive~boolDeadRelations\n",
      "isAlive~isPopular\n",
      "isAlive~house_alive1\n",
      "isAlive~house_alive2\n",
      "isAlive~house_alive3\n",
      "isAlive~house_alive4\n",
      "isAlive~house_alive5\n",
      "isAlive~house_alive6\n",
      "isAlive~house_alive7\n",
      "isAlive~culture_all_survive\n",
      "isAlive~culture_few_survive\n",
      "isAlive~culture_half_survive\n",
      "isAlive~culture_many_survive\n",
      "isAlive~culture_morethanhalf_survive\n",
      "isAlive~culture_most_survive\n",
      "isAlive~culture_none_survive\n",
      "                                                model  accuracy  \\\n",
      "0   <statsmodels.discrete.discrete_model.BinaryRes...       345   \n",
      "1   <statsmodels.discrete.discrete_model.BinaryRes...       345   \n",
      "2   <statsmodels.discrete.discrete_model.BinaryRes...       344   \n",
      "3   <statsmodels.discrete.discrete_model.BinaryRes...       345   \n",
      "4   <statsmodels.discrete.discrete_model.BinaryRes...       345   \n",
      "5   <statsmodels.discrete.discrete_model.BinaryRes...       345   \n",
      "6   <statsmodels.discrete.discrete_model.BinaryRes...       348   \n",
      "7   <statsmodels.discrete.discrete_model.BinaryRes...       345   \n",
      "8   <statsmodels.discrete.discrete_model.BinaryRes...       345   \n",
      "9   <statsmodels.discrete.discrete_model.BinaryRes...       345   \n",
      "10  <statsmodels.discrete.discrete_model.BinaryRes...       345   \n",
      "11  <statsmodels.discrete.discrete_model.BinaryRes...       345   \n",
      "12  <statsmodels.discrete.discrete_model.BinaryRes...       345   \n",
      "13  <statsmodels.discrete.discrete_model.BinaryRes...       345   \n",
      "14  <statsmodels.discrete.discrete_model.BinaryRes...       377   \n",
      "15  <statsmodels.discrete.discrete_model.BinaryRes...       345   \n",
      "16  <statsmodels.discrete.discrete_model.BinaryRes...       345   \n",
      "17  <statsmodels.discrete.discrete_model.BinaryRes...       345   \n",
      "18  <statsmodels.discrete.discrete_model.BinaryRes...       345   \n",
      "19  <statsmodels.discrete.discrete_model.BinaryRes...       348   \n",
      "\n",
      "                                 formula  \n",
      "0                           isAlive~male  \n",
      "1                        isAlive~isNoble  \n",
      "2               isAlive~numDeadRelations  \n",
      "3                     isAlive~popularity  \n",
      "4              isAlive~boolDeadRelations  \n",
      "5                      isAlive~isPopular  \n",
      "6                   isAlive~house_alive1  \n",
      "7                   isAlive~house_alive2  \n",
      "8                   isAlive~house_alive3  \n",
      "9                   isAlive~house_alive4  \n",
      "10                  isAlive~house_alive5  \n",
      "11                  isAlive~house_alive6  \n",
      "12                  isAlive~house_alive7  \n",
      "13           isAlive~culture_all_survive  \n",
      "14           isAlive~culture_few_survive  \n",
      "15          isAlive~culture_half_survive  \n",
      "16          isAlive~culture_many_survive  \n",
      "17  isAlive~culture_morethanhalf_survive  \n",
      "18          isAlive~culture_most_survive  \n",
      "19          isAlive~culture_none_survive  \n",
      "Processed  20 models on 1 predictors in 55.716323137283325 seconds.\n",
      "isAlive~culture_few_survive+male\n",
      "isAlive~culture_few_survive+isNoble\n",
      "isAlive~culture_few_survive+numDeadRelations\n",
      "isAlive~culture_few_survive+popularity\n",
      "isAlive~culture_few_survive+boolDeadRelations\n",
      "isAlive~culture_few_survive+isPopular\n",
      "isAlive~culture_few_survive+house_alive1\n",
      "isAlive~culture_few_survive+house_alive2\n",
      "isAlive~culture_few_survive+house_alive3\n",
      "isAlive~culture_few_survive+house_alive4\n",
      "isAlive~culture_few_survive+house_alive5\n",
      "isAlive~culture_few_survive+house_alive6\n",
      "isAlive~culture_few_survive+house_alive7\n",
      "isAlive~culture_few_survive+culture_all_survive\n",
      "isAlive~culture_few_survive+culture_half_survive\n",
      "isAlive~culture_few_survive+culture_many_survive\n",
      "isAlive~culture_few_survive+culture_morethanhalf_survive\n",
      "isAlive~culture_few_survive+culture_most_survive\n",
      "isAlive~culture_few_survive+culture_none_survive\n",
      "                                                model  accuracy  \\\n",
      "0   <statsmodels.discrete.discrete_model.BinaryRes...       377   \n",
      "1   <statsmodels.discrete.discrete_model.BinaryRes...       377   \n",
      "2   <statsmodels.discrete.discrete_model.BinaryRes...       377   \n",
      "3   <statsmodels.discrete.discrete_model.BinaryRes...       377   \n",
      "4   <statsmodels.discrete.discrete_model.BinaryRes...       377   \n",
      "5   <statsmodels.discrete.discrete_model.BinaryRes...       377   \n",
      "6   <statsmodels.discrete.discrete_model.BinaryRes...       380   \n",
      "7   <statsmodels.discrete.discrete_model.BinaryRes...       377   \n",
      "8   <statsmodels.discrete.discrete_model.BinaryRes...       377   \n",
      "9   <statsmodels.discrete.discrete_model.BinaryRes...       377   \n",
      "10  <statsmodels.discrete.discrete_model.BinaryRes...       377   \n",
      "11  <statsmodels.discrete.discrete_model.BinaryRes...       377   \n",
      "12  <statsmodels.discrete.discrete_model.BinaryRes...       377   \n",
      "13  <statsmodels.discrete.discrete_model.BinaryRes...       377   \n",
      "14  <statsmodels.discrete.discrete_model.BinaryRes...       377   \n",
      "15  <statsmodels.discrete.discrete_model.BinaryRes...       377   \n",
      "16  <statsmodels.discrete.discrete_model.BinaryRes...       377   \n",
      "17  <statsmodels.discrete.discrete_model.BinaryRes...       377   \n",
      "18  <statsmodels.discrete.discrete_model.BinaryRes...       380   \n",
      "\n",
      "                                              formula  \n",
      "0                    isAlive~culture_few_survive+male  \n",
      "1                 isAlive~culture_few_survive+isNoble  \n",
      "2        isAlive~culture_few_survive+numDeadRelations  \n",
      "3              isAlive~culture_few_survive+popularity  \n",
      "4       isAlive~culture_few_survive+boolDeadRelations  \n",
      "5               isAlive~culture_few_survive+isPopular  \n",
      "6            isAlive~culture_few_survive+house_alive1  \n",
      "7            isAlive~culture_few_survive+house_alive2  \n",
      "8            isAlive~culture_few_survive+house_alive3  \n",
      "9            isAlive~culture_few_survive+house_alive4  \n",
      "10           isAlive~culture_few_survive+house_alive5  \n",
      "11           isAlive~culture_few_survive+house_alive6  \n",
      "12           isAlive~culture_few_survive+house_alive7  \n",
      "13    isAlive~culture_few_survive+culture_all_survive  \n",
      "14   isAlive~culture_few_survive+culture_half_survive  \n",
      "15   isAlive~culture_few_survive+culture_many_survive  \n",
      "16  isAlive~culture_few_survive+culture_morethanha...  \n",
      "17   isAlive~culture_few_survive+culture_most_survive  \n",
      "18   isAlive~culture_few_survive+culture_none_survive  \n",
      "Processed  19 models on 2 predictors in 73.23260116577148 seconds.\n",
      "isAlive~culture_few_survive+house_alive1+male\n",
      "isAlive~culture_few_survive+house_alive1+isNoble\n",
      "isAlive~culture_few_survive+house_alive1+numDeadRelations\n",
      "isAlive~culture_few_survive+house_alive1+popularity\n",
      "isAlive~culture_few_survive+house_alive1+boolDeadRelations\n",
      "isAlive~culture_few_survive+house_alive1+isPopular\n",
      "isAlive~culture_few_survive+house_alive1+house_alive2\n",
      "isAlive~culture_few_survive+house_alive1+house_alive3\n",
      "isAlive~culture_few_survive+house_alive1+house_alive4\n",
      "isAlive~culture_few_survive+house_alive1+house_alive5\n",
      "isAlive~culture_few_survive+house_alive1+house_alive6\n",
      "isAlive~culture_few_survive+house_alive1+house_alive7\n",
      "isAlive~culture_few_survive+house_alive1+culture_all_survive\n",
      "isAlive~culture_few_survive+house_alive1+culture_half_survive\n",
      "isAlive~culture_few_survive+house_alive1+culture_many_survive\n",
      "isAlive~culture_few_survive+house_alive1+culture_morethanhalf_survive\n",
      "isAlive~culture_few_survive+house_alive1+culture_most_survive\n",
      "isAlive~culture_few_survive+house_alive1+culture_none_survive\n",
      "                                                model  accuracy  \\\n",
      "0   <statsmodels.discrete.discrete_model.BinaryRes...       385   \n",
      "1   <statsmodels.discrete.discrete_model.BinaryRes...       380   \n",
      "2   <statsmodels.discrete.discrete_model.BinaryRes...       380   \n",
      "3   <statsmodels.discrete.discrete_model.BinaryRes...       380   \n",
      "4   <statsmodels.discrete.discrete_model.BinaryRes...       379   \n",
      "5   <statsmodels.discrete.discrete_model.BinaryRes...       380   \n",
      "6   <statsmodels.discrete.discrete_model.BinaryRes...       380   \n",
      "7   <statsmodels.discrete.discrete_model.BinaryRes...       380   \n",
      "8   <statsmodels.discrete.discrete_model.BinaryRes...       380   \n",
      "9   <statsmodels.discrete.discrete_model.BinaryRes...       380   \n",
      "10  <statsmodels.discrete.discrete_model.BinaryRes...       380   \n",
      "11  <statsmodels.discrete.discrete_model.BinaryRes...       380   \n",
      "12  <statsmodels.discrete.discrete_model.BinaryRes...       381   \n",
      "13  <statsmodels.discrete.discrete_model.BinaryRes...       379   \n",
      "14  <statsmodels.discrete.discrete_model.BinaryRes...       377   \n",
      "15  <statsmodels.discrete.discrete_model.BinaryRes...       377   \n",
      "16  <statsmodels.discrete.discrete_model.BinaryRes...       379   \n",
      "17  <statsmodels.discrete.discrete_model.BinaryRes...       382   \n",
      "\n",
      "                                              formula  \n",
      "0       isAlive~culture_few_survive+house_alive1+male  \n",
      "1    isAlive~culture_few_survive+house_alive1+isNoble  \n",
      "2   isAlive~culture_few_survive+house_alive1+numDe...  \n",
      "3   isAlive~culture_few_survive+house_alive1+popul...  \n",
      "4   isAlive~culture_few_survive+house_alive1+boolD...  \n",
      "5   isAlive~culture_few_survive+house_alive1+isPop...  \n",
      "6   isAlive~culture_few_survive+house_alive1+house...  \n",
      "7   isAlive~culture_few_survive+house_alive1+house...  \n",
      "8   isAlive~culture_few_survive+house_alive1+house...  \n",
      "9   isAlive~culture_few_survive+house_alive1+house...  \n",
      "10  isAlive~culture_few_survive+house_alive1+house...  \n",
      "11  isAlive~culture_few_survive+house_alive1+house...  \n",
      "12  isAlive~culture_few_survive+house_alive1+cultu...  \n",
      "13  isAlive~culture_few_survive+house_alive1+cultu...  \n",
      "14  isAlive~culture_few_survive+house_alive1+cultu...  \n",
      "15  isAlive~culture_few_survive+house_alive1+cultu...  \n",
      "16  isAlive~culture_few_survive+house_alive1+cultu...  \n",
      "17  isAlive~culture_few_survive+house_alive1+cultu...  \n",
      "Processed  18 models on 3 predictors in 86.4175751209259 seconds.\n",
      "isAlive~culture_few_survive+house_alive1+male+isNoble\n"
     ]
    },
    {
     "name": "stdout",
     "output_type": "stream",
     "text": [
      "isAlive~culture_few_survive+house_alive1+male+numDeadRelations\n",
      "isAlive~culture_few_survive+house_alive1+male+popularity\n",
      "isAlive~culture_few_survive+house_alive1+male+boolDeadRelations\n",
      "isAlive~culture_few_survive+house_alive1+male+isPopular\n",
      "isAlive~culture_few_survive+house_alive1+male+house_alive2\n",
      "isAlive~culture_few_survive+house_alive1+male+house_alive3\n",
      "isAlive~culture_few_survive+house_alive1+male+house_alive4\n",
      "isAlive~culture_few_survive+house_alive1+male+house_alive5\n",
      "isAlive~culture_few_survive+house_alive1+male+house_alive6\n",
      "isAlive~culture_few_survive+house_alive1+male+house_alive7\n",
      "isAlive~culture_few_survive+house_alive1+male+culture_all_survive\n",
      "isAlive~culture_few_survive+house_alive1+male+culture_half_survive\n",
      "isAlive~culture_few_survive+house_alive1+male+culture_many_survive\n",
      "isAlive~culture_few_survive+house_alive1+male+culture_morethanhalf_survive\n",
      "isAlive~culture_few_survive+house_alive1+male+culture_most_survive\n",
      "isAlive~culture_few_survive+house_alive1+male+culture_none_survive\n",
      "                                                model  accuracy  \\\n",
      "0   <statsmodels.discrete.discrete_model.BinaryRes...       385   \n",
      "1   <statsmodels.discrete.discrete_model.BinaryRes...       385   \n",
      "2   <statsmodels.discrete.discrete_model.BinaryRes...       385   \n",
      "3   <statsmodels.discrete.discrete_model.BinaryRes...       387   \n",
      "4   <statsmodels.discrete.discrete_model.BinaryRes...       385   \n",
      "5   <statsmodels.discrete.discrete_model.BinaryRes...       385   \n",
      "6   <statsmodels.discrete.discrete_model.BinaryRes...       385   \n",
      "7   <statsmodels.discrete.discrete_model.BinaryRes...       385   \n",
      "8   <statsmodels.discrete.discrete_model.BinaryRes...       385   \n",
      "9   <statsmodels.discrete.discrete_model.BinaryRes...       385   \n",
      "10  <statsmodels.discrete.discrete_model.BinaryRes...       385   \n",
      "11  <statsmodels.discrete.discrete_model.BinaryRes...       386   \n",
      "12  <statsmodels.discrete.discrete_model.BinaryRes...       383   \n",
      "13  <statsmodels.discrete.discrete_model.BinaryRes...       385   \n",
      "14  <statsmodels.discrete.discrete_model.BinaryRes...       385   \n",
      "15  <statsmodels.discrete.discrete_model.BinaryRes...       381   \n",
      "16  <statsmodels.discrete.discrete_model.BinaryRes...       387   \n",
      "\n",
      "                                              formula  \n",
      "0   isAlive~culture_few_survive+house_alive1+male+...  \n",
      "1   isAlive~culture_few_survive+house_alive1+male+...  \n",
      "2   isAlive~culture_few_survive+house_alive1+male+...  \n",
      "3   isAlive~culture_few_survive+house_alive1+male+...  \n",
      "4   isAlive~culture_few_survive+house_alive1+male+...  \n",
      "5   isAlive~culture_few_survive+house_alive1+male+...  \n",
      "6   isAlive~culture_few_survive+house_alive1+male+...  \n",
      "7   isAlive~culture_few_survive+house_alive1+male+...  \n",
      "8   isAlive~culture_few_survive+house_alive1+male+...  \n",
      "9   isAlive~culture_few_survive+house_alive1+male+...  \n",
      "10  isAlive~culture_few_survive+house_alive1+male+...  \n",
      "11  isAlive~culture_few_survive+house_alive1+male+...  \n",
      "12  isAlive~culture_few_survive+house_alive1+male+...  \n",
      "13  isAlive~culture_few_survive+house_alive1+male+...  \n",
      "14  isAlive~culture_few_survive+house_alive1+male+...  \n",
      "15  isAlive~culture_few_survive+house_alive1+male+...  \n",
      "16  isAlive~culture_few_survive+house_alive1+male+...  \n",
      "Processed  17 models on 4 predictors in 94.37938094139099 seconds.\n",
      "isAlive~culture_few_survive+house_alive1+male+boolDeadRelations+isNoble\n",
      "isAlive~culture_few_survive+house_alive1+male+boolDeadRelations+numDeadRelations\n",
      "isAlive~culture_few_survive+house_alive1+male+boolDeadRelations+popularity\n",
      "isAlive~culture_few_survive+house_alive1+male+boolDeadRelations+isPopular\n",
      "isAlive~culture_few_survive+house_alive1+male+boolDeadRelations+house_alive2\n",
      "isAlive~culture_few_survive+house_alive1+male+boolDeadRelations+house_alive3\n",
      "isAlive~culture_few_survive+house_alive1+male+boolDeadRelations+house_alive4\n",
      "isAlive~culture_few_survive+house_alive1+male+boolDeadRelations+house_alive5\n",
      "isAlive~culture_few_survive+house_alive1+male+boolDeadRelations+house_alive6\n",
      "isAlive~culture_few_survive+house_alive1+male+boolDeadRelations+house_alive7\n",
      "isAlive~culture_few_survive+house_alive1+male+boolDeadRelations+culture_all_survive\n",
      "isAlive~culture_few_survive+house_alive1+male+boolDeadRelations+culture_half_survive\n",
      "isAlive~culture_few_survive+house_alive1+male+boolDeadRelations+culture_many_survive\n",
      "isAlive~culture_few_survive+house_alive1+male+boolDeadRelations+culture_morethanhalf_survive\n",
      "isAlive~culture_few_survive+house_alive1+male+boolDeadRelations+culture_most_survive\n",
      "isAlive~culture_few_survive+house_alive1+male+boolDeadRelations+culture_none_survive\n",
      "                                                model  accuracy  \\\n",
      "0   <statsmodels.discrete.discrete_model.BinaryRes...       380   \n",
      "1   <statsmodels.discrete.discrete_model.BinaryRes...       386   \n",
      "2   <statsmodels.discrete.discrete_model.BinaryRes...       392   \n",
      "3   <statsmodels.discrete.discrete_model.BinaryRes...       390   \n",
      "4   <statsmodels.discrete.discrete_model.BinaryRes...       386   \n",
      "5   <statsmodels.discrete.discrete_model.BinaryRes...       387   \n",
      "6   <statsmodels.discrete.discrete_model.BinaryRes...       387   \n",
      "7   <statsmodels.discrete.discrete_model.BinaryRes...       387   \n",
      "8   <statsmodels.discrete.discrete_model.BinaryRes...       387   \n",
      "9   <statsmodels.discrete.discrete_model.BinaryRes...       385   \n",
      "10  <statsmodels.discrete.discrete_model.BinaryRes...       388   \n",
      "11  <statsmodels.discrete.discrete_model.BinaryRes...       383   \n",
      "12  <statsmodels.discrete.discrete_model.BinaryRes...       381   \n",
      "13  <statsmodels.discrete.discrete_model.BinaryRes...       377   \n",
      "14  <statsmodels.discrete.discrete_model.BinaryRes...       383   \n",
      "15  <statsmodels.discrete.discrete_model.BinaryRes...       389   \n",
      "\n",
      "                                              formula  \n",
      "0   isAlive~culture_few_survive+house_alive1+male+...  \n",
      "1   isAlive~culture_few_survive+house_alive1+male+...  \n",
      "2   isAlive~culture_few_survive+house_alive1+male+...  \n",
      "3   isAlive~culture_few_survive+house_alive1+male+...  \n",
      "4   isAlive~culture_few_survive+house_alive1+male+...  \n",
      "5   isAlive~culture_few_survive+house_alive1+male+...  \n",
      "6   isAlive~culture_few_survive+house_alive1+male+...  \n",
      "7   isAlive~culture_few_survive+house_alive1+male+...  \n",
      "8   isAlive~culture_few_survive+house_alive1+male+...  \n",
      "9   isAlive~culture_few_survive+house_alive1+male+...  \n",
      "10  isAlive~culture_few_survive+house_alive1+male+...  \n",
      "11  isAlive~culture_few_survive+house_alive1+male+...  \n",
      "12  isAlive~culture_few_survive+house_alive1+male+...  \n",
      "13  isAlive~culture_few_survive+house_alive1+male+...  \n",
      "14  isAlive~culture_few_survive+house_alive1+male+...  \n",
      "15  isAlive~culture_few_survive+house_alive1+male+...  \n",
      "Processed  16 models on 5 predictors in 98.16182088851929 seconds.\n",
      "isAlive~culture_few_survive+house_alive1+male+boolDeadRelations+popularity+isNoble\n",
      "isAlive~culture_few_survive+house_alive1+male+boolDeadRelations+popularity+numDeadRelations\n",
      "isAlive~culture_few_survive+house_alive1+male+boolDeadRelations+popularity+isPopular\n",
      "isAlive~culture_few_survive+house_alive1+male+boolDeadRelations+popularity+house_alive2\n",
      "isAlive~culture_few_survive+house_alive1+male+boolDeadRelations+popularity+house_alive3\n",
      "isAlive~culture_few_survive+house_alive1+male+boolDeadRelations+popularity+house_alive4\n",
      "isAlive~culture_few_survive+house_alive1+male+boolDeadRelations+popularity+house_alive5\n",
      "isAlive~culture_few_survive+house_alive1+male+boolDeadRelations+popularity+house_alive6\n",
      "isAlive~culture_few_survive+house_alive1+male+boolDeadRelations+popularity+house_alive7\n",
      "isAlive~culture_few_survive+house_alive1+male+boolDeadRelations+popularity+culture_all_survive\n",
      "isAlive~culture_few_survive+house_alive1+male+boolDeadRelations+popularity+culture_half_survive\n",
      "isAlive~culture_few_survive+house_alive1+male+boolDeadRelations+popularity+culture_many_survive\n",
      "isAlive~culture_few_survive+house_alive1+male+boolDeadRelations+popularity+culture_morethanhalf_survive\n",
      "isAlive~culture_few_survive+house_alive1+male+boolDeadRelations+popularity+culture_most_survive\n",
      "isAlive~culture_few_survive+house_alive1+male+boolDeadRelations+popularity+culture_none_survive\n",
      "                                                model  accuracy  \\\n",
      "0   <statsmodels.discrete.discrete_model.BinaryRes...       390   \n",
      "1   <statsmodels.discrete.discrete_model.BinaryRes...       390   \n",
      "2   <statsmodels.discrete.discrete_model.BinaryRes...       392   \n",
      "3   <statsmodels.discrete.discrete_model.BinaryRes...       392   \n",
      "4   <statsmodels.discrete.discrete_model.BinaryRes...       393   \n",
      "5   <statsmodels.discrete.discrete_model.BinaryRes...       391   \n",
      "6   <statsmodels.discrete.discrete_model.BinaryRes...       392   \n",
      "7   <statsmodels.discrete.discrete_model.BinaryRes...       392   \n",
      "8   <statsmodels.discrete.discrete_model.BinaryRes...       390   \n",
      "9   <statsmodels.discrete.discrete_model.BinaryRes...       391   \n",
      "10  <statsmodels.discrete.discrete_model.BinaryRes...       381   \n",
      "11  <statsmodels.discrete.discrete_model.BinaryRes...       388   \n",
      "12  <statsmodels.discrete.discrete_model.BinaryRes...       385   \n",
      "13  <statsmodels.discrete.discrete_model.BinaryRes...       389   \n",
      "14  <statsmodels.discrete.discrete_model.BinaryRes...       395   \n",
      "\n",
      "                                              formula  \n",
      "0   isAlive~culture_few_survive+house_alive1+male+...  \n",
      "1   isAlive~culture_few_survive+house_alive1+male+...  \n",
      "2   isAlive~culture_few_survive+house_alive1+male+...  \n",
      "3   isAlive~culture_few_survive+house_alive1+male+...  \n",
      "4   isAlive~culture_few_survive+house_alive1+male+...  \n",
      "5   isAlive~culture_few_survive+house_alive1+male+...  \n",
      "6   isAlive~culture_few_survive+house_alive1+male+...  \n",
      "7   isAlive~culture_few_survive+house_alive1+male+...  \n",
      "8   isAlive~culture_few_survive+house_alive1+male+...  \n",
      "9   isAlive~culture_few_survive+house_alive1+male+...  \n",
      "10  isAlive~culture_few_survive+house_alive1+male+...  \n",
      "11  isAlive~culture_few_survive+house_alive1+male+...  \n",
      "12  isAlive~culture_few_survive+house_alive1+male+...  \n",
      "13  isAlive~culture_few_survive+house_alive1+male+...  \n",
      "14  isAlive~culture_few_survive+house_alive1+male+...  \n",
      "Processed  15 models on 6 predictors in 102.69326114654541 seconds.\n",
      "isAlive~culture_few_survive+house_alive1+male+boolDeadRelations+popularity+culture_none_survive+isNoble\n"
     ]
    },
    {
     "name": "stdout",
     "output_type": "stream",
     "text": [
      "isAlive~culture_few_survive+house_alive1+male+boolDeadRelations+popularity+culture_none_survive+numDeadRelations\n",
      "isAlive~culture_few_survive+house_alive1+male+boolDeadRelations+popularity+culture_none_survive+isPopular\n",
      "isAlive~culture_few_survive+house_alive1+male+boolDeadRelations+popularity+culture_none_survive+house_alive2\n",
      "isAlive~culture_few_survive+house_alive1+male+boolDeadRelations+popularity+culture_none_survive+house_alive3\n",
      "isAlive~culture_few_survive+house_alive1+male+boolDeadRelations+popularity+culture_none_survive+house_alive4\n",
      "isAlive~culture_few_survive+house_alive1+male+boolDeadRelations+popularity+culture_none_survive+house_alive5\n",
      "isAlive~culture_few_survive+house_alive1+male+boolDeadRelations+popularity+culture_none_survive+house_alive6\n",
      "isAlive~culture_few_survive+house_alive1+male+boolDeadRelations+popularity+culture_none_survive+house_alive7\n",
      "isAlive~culture_few_survive+house_alive1+male+boolDeadRelations+popularity+culture_none_survive+culture_all_survive\n",
      "isAlive~culture_few_survive+house_alive1+male+boolDeadRelations+popularity+culture_none_survive+culture_half_survive\n",
      "isAlive~culture_few_survive+house_alive1+male+boolDeadRelations+popularity+culture_none_survive+culture_many_survive\n",
      "isAlive~culture_few_survive+house_alive1+male+boolDeadRelations+popularity+culture_none_survive+culture_morethanhalf_survive\n",
      "isAlive~culture_few_survive+house_alive1+male+boolDeadRelations+popularity+culture_none_survive+culture_most_survive\n",
      "                                                model  accuracy  \\\n",
      "0   <statsmodels.discrete.discrete_model.BinaryRes...       393   \n",
      "1   <statsmodels.discrete.discrete_model.BinaryRes...       393   \n",
      "2   <statsmodels.discrete.discrete_model.BinaryRes...       395   \n",
      "3   <statsmodels.discrete.discrete_model.BinaryRes...       396   \n",
      "4   <statsmodels.discrete.discrete_model.BinaryRes...       398   \n",
      "5   <statsmodels.discrete.discrete_model.BinaryRes...       394   \n",
      "6   <statsmodels.discrete.discrete_model.BinaryRes...       395   \n",
      "7   <statsmodels.discrete.discrete_model.BinaryRes...       395   \n",
      "8   <statsmodels.discrete.discrete_model.BinaryRes...       395   \n",
      "9   <statsmodels.discrete.discrete_model.BinaryRes...       396   \n",
      "10  <statsmodels.discrete.discrete_model.BinaryRes...       384   \n",
      "11  <statsmodels.discrete.discrete_model.BinaryRes...       388   \n",
      "12  <statsmodels.discrete.discrete_model.BinaryRes...       389   \n",
      "13  <statsmodels.discrete.discrete_model.BinaryRes...       390   \n",
      "\n",
      "                                              formula  \n",
      "0   isAlive~culture_few_survive+house_alive1+male+...  \n",
      "1   isAlive~culture_few_survive+house_alive1+male+...  \n",
      "2   isAlive~culture_few_survive+house_alive1+male+...  \n",
      "3   isAlive~culture_few_survive+house_alive1+male+...  \n",
      "4   isAlive~culture_few_survive+house_alive1+male+...  \n",
      "5   isAlive~culture_few_survive+house_alive1+male+...  \n",
      "6   isAlive~culture_few_survive+house_alive1+male+...  \n",
      "7   isAlive~culture_few_survive+house_alive1+male+...  \n",
      "8   isAlive~culture_few_survive+house_alive1+male+...  \n",
      "9   isAlive~culture_few_survive+house_alive1+male+...  \n",
      "10  isAlive~culture_few_survive+house_alive1+male+...  \n",
      "11  isAlive~culture_few_survive+house_alive1+male+...  \n",
      "12  isAlive~culture_few_survive+house_alive1+male+...  \n",
      "13  isAlive~culture_few_survive+house_alive1+male+...  \n",
      "Processed  14 models on 7 predictors in 99.12313389778137 seconds.\n",
      "isAlive~culture_few_survive+house_alive1+male+boolDeadRelations+popularity+culture_none_survive+house_alive3+isNoble\n",
      "isAlive~culture_few_survive+house_alive1+male+boolDeadRelations+popularity+culture_none_survive+house_alive3+numDeadRelations\n",
      "isAlive~culture_few_survive+house_alive1+male+boolDeadRelations+popularity+culture_none_survive+house_alive3+isPopular\n",
      "isAlive~culture_few_survive+house_alive1+male+boolDeadRelations+popularity+culture_none_survive+house_alive3+house_alive2\n",
      "isAlive~culture_few_survive+house_alive1+male+boolDeadRelations+popularity+culture_none_survive+house_alive3+house_alive4\n",
      "isAlive~culture_few_survive+house_alive1+male+boolDeadRelations+popularity+culture_none_survive+house_alive3+house_alive5\n",
      "isAlive~culture_few_survive+house_alive1+male+boolDeadRelations+popularity+culture_none_survive+house_alive3+house_alive6\n",
      "isAlive~culture_few_survive+house_alive1+male+boolDeadRelations+popularity+culture_none_survive+house_alive3+house_alive7\n",
      "isAlive~culture_few_survive+house_alive1+male+boolDeadRelations+popularity+culture_none_survive+house_alive3+culture_all_survive\n",
      "isAlive~culture_few_survive+house_alive1+male+boolDeadRelations+popularity+culture_none_survive+house_alive3+culture_half_survive\n",
      "isAlive~culture_few_survive+house_alive1+male+boolDeadRelations+popularity+culture_none_survive+house_alive3+culture_many_survive\n",
      "isAlive~culture_few_survive+house_alive1+male+boolDeadRelations+popularity+culture_none_survive+house_alive3+culture_morethanhalf_survive\n",
      "isAlive~culture_few_survive+house_alive1+male+boolDeadRelations+popularity+culture_none_survive+house_alive3+culture_most_survive\n",
      "                                                model  accuracy  \\\n",
      "0   <statsmodels.discrete.discrete_model.BinaryRes...       392   \n",
      "1   <statsmodels.discrete.discrete_model.BinaryRes...       392   \n",
      "2   <statsmodels.discrete.discrete_model.BinaryRes...       398   \n",
      "3   <statsmodels.discrete.discrete_model.BinaryRes...       397   \n",
      "4   <statsmodels.discrete.discrete_model.BinaryRes...       397   \n",
      "5   <statsmodels.discrete.discrete_model.BinaryRes...       397   \n",
      "6   <statsmodels.discrete.discrete_model.BinaryRes...       398   \n",
      "7   <statsmodels.discrete.discrete_model.BinaryRes...       396   \n",
      "8   <statsmodels.discrete.discrete_model.BinaryRes...       400   \n",
      "9   <statsmodels.discrete.discrete_model.BinaryRes...       387   \n",
      "10  <statsmodels.discrete.discrete_model.BinaryRes...       398   \n",
      "11  <statsmodels.discrete.discrete_model.BinaryRes...       385   \n",
      "12  <statsmodels.discrete.discrete_model.BinaryRes...       391   \n",
      "\n",
      "                                              formula  \n",
      "0   isAlive~culture_few_survive+house_alive1+male+...  \n",
      "1   isAlive~culture_few_survive+house_alive1+male+...  \n",
      "2   isAlive~culture_few_survive+house_alive1+male+...  \n",
      "3   isAlive~culture_few_survive+house_alive1+male+...  \n",
      "4   isAlive~culture_few_survive+house_alive1+male+...  \n",
      "5   isAlive~culture_few_survive+house_alive1+male+...  \n",
      "6   isAlive~culture_few_survive+house_alive1+male+...  \n",
      "7   isAlive~culture_few_survive+house_alive1+male+...  \n",
      "8   isAlive~culture_few_survive+house_alive1+male+...  \n",
      "9   isAlive~culture_few_survive+house_alive1+male+...  \n",
      "10  isAlive~culture_few_survive+house_alive1+male+...  \n",
      "11  isAlive~culture_few_survive+house_alive1+male+...  \n",
      "12  isAlive~culture_few_survive+house_alive1+male+...  \n",
      "Processed  13 models on 8 predictors in 100.72989177703857 seconds.\n",
      "isAlive~culture_few_survive+house_alive1+male+boolDeadRelations+popularity+culture_none_survive+house_alive3+culture_all_survive+isNoble\n",
      "isAlive~culture_few_survive+house_alive1+male+boolDeadRelations+popularity+culture_none_survive+house_alive3+culture_all_survive+numDeadRelations\n",
      "isAlive~culture_few_survive+house_alive1+male+boolDeadRelations+popularity+culture_none_survive+house_alive3+culture_all_survive+isPopular\n",
      "isAlive~culture_few_survive+house_alive1+male+boolDeadRelations+popularity+culture_none_survive+house_alive3+culture_all_survive+house_alive2\n",
      "isAlive~culture_few_survive+house_alive1+male+boolDeadRelations+popularity+culture_none_survive+house_alive3+culture_all_survive+house_alive4\n",
      "isAlive~culture_few_survive+house_alive1+male+boolDeadRelations+popularity+culture_none_survive+house_alive3+culture_all_survive+house_alive5\n",
      "isAlive~culture_few_survive+house_alive1+male+boolDeadRelations+popularity+culture_none_survive+house_alive3+culture_all_survive+house_alive6\n",
      "isAlive~culture_few_survive+house_alive1+male+boolDeadRelations+popularity+culture_none_survive+house_alive3+culture_all_survive+house_alive7\n",
      "isAlive~culture_few_survive+house_alive1+male+boolDeadRelations+popularity+culture_none_survive+house_alive3+culture_all_survive+culture_half_survive\n",
      "isAlive~culture_few_survive+house_alive1+male+boolDeadRelations+popularity+culture_none_survive+house_alive3+culture_all_survive+culture_many_survive\n"
     ]
    },
    {
     "name": "stdout",
     "output_type": "stream",
     "text": [
      "isAlive~culture_few_survive+house_alive1+male+boolDeadRelations+popularity+culture_none_survive+house_alive3+culture_all_survive+culture_morethanhalf_survive\n",
      "isAlive~culture_few_survive+house_alive1+male+boolDeadRelations+popularity+culture_none_survive+house_alive3+culture_all_survive+culture_most_survive\n",
      "                                                model  accuracy  \\\n",
      "0   <statsmodels.discrete.discrete_model.BinaryRes...       396   \n",
      "1   <statsmodels.discrete.discrete_model.BinaryRes...       394   \n",
      "2   <statsmodels.discrete.discrete_model.BinaryRes...       397   \n",
      "3   <statsmodels.discrete.discrete_model.BinaryRes...       398   \n",
      "4   <statsmodels.discrete.discrete_model.BinaryRes...       398   \n",
      "5   <statsmodels.discrete.discrete_model.BinaryRes...       398   \n",
      "6   <statsmodels.discrete.discrete_model.BinaryRes...       400   \n",
      "7   <statsmodels.discrete.discrete_model.BinaryRes...       396   \n",
      "8   <statsmodels.discrete.discrete_model.BinaryRes...       388   \n",
      "9   <statsmodels.discrete.discrete_model.BinaryRes...       399   \n",
      "10  <statsmodels.discrete.discrete_model.BinaryRes...       385   \n",
      "11  <statsmodels.discrete.discrete_model.BinaryRes...       392   \n",
      "\n",
      "                                              formula  \n",
      "0   isAlive~culture_few_survive+house_alive1+male+...  \n",
      "1   isAlive~culture_few_survive+house_alive1+male+...  \n",
      "2   isAlive~culture_few_survive+house_alive1+male+...  \n",
      "3   isAlive~culture_few_survive+house_alive1+male+...  \n",
      "4   isAlive~culture_few_survive+house_alive1+male+...  \n",
      "5   isAlive~culture_few_survive+house_alive1+male+...  \n",
      "6   isAlive~culture_few_survive+house_alive1+male+...  \n",
      "7   isAlive~culture_few_survive+house_alive1+male+...  \n",
      "8   isAlive~culture_few_survive+house_alive1+male+...  \n",
      "9   isAlive~culture_few_survive+house_alive1+male+...  \n",
      "10  isAlive~culture_few_survive+house_alive1+male+...  \n",
      "11  isAlive~culture_few_survive+house_alive1+male+...  \n",
      "Processed  12 models on 9 predictors in 96.86757493019104 seconds.\n",
      "isAlive~culture_few_survive+house_alive1+male+boolDeadRelations+popularity+culture_none_survive+house_alive3+culture_all_survive+house_alive6+isNoble\n",
      "isAlive~culture_few_survive+house_alive1+male+boolDeadRelations+popularity+culture_none_survive+house_alive3+culture_all_survive+house_alive6+numDeadRelations\n",
      "isAlive~culture_few_survive+house_alive1+male+boolDeadRelations+popularity+culture_none_survive+house_alive3+culture_all_survive+house_alive6+isPopular\n",
      "isAlive~culture_few_survive+house_alive1+male+boolDeadRelations+popularity+culture_none_survive+house_alive3+culture_all_survive+house_alive6+house_alive2\n",
      "isAlive~culture_few_survive+house_alive1+male+boolDeadRelations+popularity+culture_none_survive+house_alive3+culture_all_survive+house_alive6+house_alive4\n",
      "isAlive~culture_few_survive+house_alive1+male+boolDeadRelations+popularity+culture_none_survive+house_alive3+culture_all_survive+house_alive6+house_alive5\n",
      "isAlive~culture_few_survive+house_alive1+male+boolDeadRelations+popularity+culture_none_survive+house_alive3+culture_all_survive+house_alive6+house_alive7\n",
      "isAlive~culture_few_survive+house_alive1+male+boolDeadRelations+popularity+culture_none_survive+house_alive3+culture_all_survive+house_alive6+culture_half_survive\n",
      "isAlive~culture_few_survive+house_alive1+male+boolDeadRelations+popularity+culture_none_survive+house_alive3+culture_all_survive+house_alive6+culture_many_survive\n",
      "isAlive~culture_few_survive+house_alive1+male+boolDeadRelations+popularity+culture_none_survive+house_alive3+culture_all_survive+house_alive6+culture_morethanhalf_survive\n",
      "isAlive~culture_few_survive+house_alive1+male+boolDeadRelations+popularity+culture_none_survive+house_alive3+culture_all_survive+house_alive6+culture_most_survive\n",
      "                                                model  accuracy  \\\n",
      "0   <statsmodels.discrete.discrete_model.BinaryRes...       395   \n",
      "1   <statsmodels.discrete.discrete_model.BinaryRes...       397   \n",
      "2   <statsmodels.discrete.discrete_model.BinaryRes...       398   \n",
      "3   <statsmodels.discrete.discrete_model.BinaryRes...       399   \n",
      "4   <statsmodels.discrete.discrete_model.BinaryRes...       399   \n",
      "5   <statsmodels.discrete.discrete_model.BinaryRes...       398   \n",
      "6   <statsmodels.discrete.discrete_model.BinaryRes...       397   \n",
      "7   <statsmodels.discrete.discrete_model.BinaryRes...       388   \n",
      "8   <statsmodels.discrete.discrete_model.BinaryRes...       399   \n",
      "9   <statsmodels.discrete.discrete_model.BinaryRes...       389   \n",
      "10  <statsmodels.discrete.discrete_model.BinaryRes...       392   \n",
      "\n",
      "                                              formula  \n",
      "0   isAlive~culture_few_survive+house_alive1+male+...  \n",
      "1   isAlive~culture_few_survive+house_alive1+male+...  \n",
      "2   isAlive~culture_few_survive+house_alive1+male+...  \n",
      "3   isAlive~culture_few_survive+house_alive1+male+...  \n",
      "4   isAlive~culture_few_survive+house_alive1+male+...  \n",
      "5   isAlive~culture_few_survive+house_alive1+male+...  \n",
      "6   isAlive~culture_few_survive+house_alive1+male+...  \n",
      "7   isAlive~culture_few_survive+house_alive1+male+...  \n",
      "8   isAlive~culture_few_survive+house_alive1+male+...  \n",
      "9   isAlive~culture_few_survive+house_alive1+male+...  \n",
      "10  isAlive~culture_few_survive+house_alive1+male+...  \n",
      "Processed  11 models on 10 predictors in 94.9317979812622 seconds.\n",
      "isAlive~culture_few_survive+house_alive1+male+boolDeadRelations+popularity+culture_none_survive+house_alive3+culture_all_survive+house_alive6+house_alive2+isNoble\n",
      "isAlive~culture_few_survive+house_alive1+male+boolDeadRelations+popularity+culture_none_survive+house_alive3+culture_all_survive+house_alive6+house_alive2+numDeadRelations\n",
      "isAlive~culture_few_survive+house_alive1+male+boolDeadRelations+popularity+culture_none_survive+house_alive3+culture_all_survive+house_alive6+house_alive2+isPopular\n",
      "isAlive~culture_few_survive+house_alive1+male+boolDeadRelations+popularity+culture_none_survive+house_alive3+culture_all_survive+house_alive6+house_alive2+house_alive4\n",
      "isAlive~culture_few_survive+house_alive1+male+boolDeadRelations+popularity+culture_none_survive+house_alive3+culture_all_survive+house_alive6+house_alive2+house_alive5\n",
      "isAlive~culture_few_survive+house_alive1+male+boolDeadRelations+popularity+culture_none_survive+house_alive3+culture_all_survive+house_alive6+house_alive2+house_alive7\n",
      "isAlive~culture_few_survive+house_alive1+male+boolDeadRelations+popularity+culture_none_survive+house_alive3+culture_all_survive+house_alive6+house_alive2+culture_half_survive\n",
      "isAlive~culture_few_survive+house_alive1+male+boolDeadRelations+popularity+culture_none_survive+house_alive3+culture_all_survive+house_alive6+house_alive2+culture_many_survive\n",
      "isAlive~culture_few_survive+house_alive1+male+boolDeadRelations+popularity+culture_none_survive+house_alive3+culture_all_survive+house_alive6+house_alive2+culture_morethanhalf_survive\n",
      "isAlive~culture_few_survive+house_alive1+male+boolDeadRelations+popularity+culture_none_survive+house_alive3+culture_all_survive+house_alive6+house_alive2+culture_most_survive\n",
      "                                               model  accuracy  \\\n",
      "0  <statsmodels.discrete.discrete_model.BinaryRes...       395   \n",
      "1  <statsmodels.discrete.discrete_model.BinaryRes...       395   \n",
      "2  <statsmodels.discrete.discrete_model.BinaryRes...       396   \n",
      "3  <statsmodels.discrete.discrete_model.BinaryRes...       399   \n",
      "4  <statsmodels.discrete.discrete_model.BinaryRes...       397   \n",
      "5  <statsmodels.discrete.discrete_model.BinaryRes...       397   \n",
      "6  <statsmodels.discrete.discrete_model.BinaryRes...       386   \n",
      "7  <statsmodels.discrete.discrete_model.BinaryRes...       399   \n",
      "8  <statsmodels.discrete.discrete_model.BinaryRes...       388   \n",
      "9  <statsmodels.discrete.discrete_model.BinaryRes...       392   \n",
      "\n",
      "                                             formula  \n",
      "0  isAlive~culture_few_survive+house_alive1+male+...  \n",
      "1  isAlive~culture_few_survive+house_alive1+male+...  \n",
      "2  isAlive~culture_few_survive+house_alive1+male+...  \n",
      "3  isAlive~culture_few_survive+house_alive1+male+...  \n",
      "4  isAlive~culture_few_survive+house_alive1+male+...  \n",
      "5  isAlive~culture_few_survive+house_alive1+male+...  \n",
      "6  isAlive~culture_few_survive+house_alive1+male+...  \n",
      "7  isAlive~culture_few_survive+house_alive1+male+...  \n",
      "8  isAlive~culture_few_survive+house_alive1+male+...  \n",
      "9  isAlive~culture_few_survive+house_alive1+male+...  \n",
      "Processed  10 models on 11 predictors in 90.7736120223999 seconds.\n",
      "isAlive~culture_few_survive+house_alive1+male+boolDeadRelations+popularity+culture_none_survive+house_alive3+culture_all_survive+house_alive6+house_alive2+house_alive4+isNoble\n"
     ]
    },
    {
     "name": "stdout",
     "output_type": "stream",
     "text": [
      "isAlive~culture_few_survive+house_alive1+male+boolDeadRelations+popularity+culture_none_survive+house_alive3+culture_all_survive+house_alive6+house_alive2+house_alive4+numDeadRelations\n",
      "isAlive~culture_few_survive+house_alive1+male+boolDeadRelations+popularity+culture_none_survive+house_alive3+culture_all_survive+house_alive6+house_alive2+house_alive4+isPopular\n",
      "isAlive~culture_few_survive+house_alive1+male+boolDeadRelations+popularity+culture_none_survive+house_alive3+culture_all_survive+house_alive6+house_alive2+house_alive4+house_alive5\n",
      "isAlive~culture_few_survive+house_alive1+male+boolDeadRelations+popularity+culture_none_survive+house_alive3+culture_all_survive+house_alive6+house_alive2+house_alive4+house_alive7\n",
      "isAlive~culture_few_survive+house_alive1+male+boolDeadRelations+popularity+culture_none_survive+house_alive3+culture_all_survive+house_alive6+house_alive2+house_alive4+culture_half_survive\n",
      "isAlive~culture_few_survive+house_alive1+male+boolDeadRelations+popularity+culture_none_survive+house_alive3+culture_all_survive+house_alive6+house_alive2+house_alive4+culture_many_survive\n",
      "isAlive~culture_few_survive+house_alive1+male+boolDeadRelations+popularity+culture_none_survive+house_alive3+culture_all_survive+house_alive6+house_alive2+house_alive4+culture_morethanhalf_survive\n",
      "isAlive~culture_few_survive+house_alive1+male+boolDeadRelations+popularity+culture_none_survive+house_alive3+culture_all_survive+house_alive6+house_alive2+house_alive4+culture_most_survive\n",
      "                                               model  accuracy  \\\n",
      "0  <statsmodels.discrete.discrete_model.BinaryRes...       394   \n",
      "1  <statsmodels.discrete.discrete_model.BinaryRes...       395   \n",
      "2  <statsmodels.discrete.discrete_model.BinaryRes...       397   \n",
      "3  <statsmodels.discrete.discrete_model.BinaryRes...       397   \n",
      "4  <statsmodels.discrete.discrete_model.BinaryRes...       397   \n",
      "5  <statsmodels.discrete.discrete_model.BinaryRes...       386   \n",
      "6  <statsmodels.discrete.discrete_model.BinaryRes...       399   \n",
      "7  <statsmodels.discrete.discrete_model.BinaryRes...       389   \n",
      "8  <statsmodels.discrete.discrete_model.BinaryRes...       390   \n",
      "\n",
      "                                             formula  \n",
      "0  isAlive~culture_few_survive+house_alive1+male+...  \n",
      "1  isAlive~culture_few_survive+house_alive1+male+...  \n",
      "2  isAlive~culture_few_survive+house_alive1+male+...  \n",
      "3  isAlive~culture_few_survive+house_alive1+male+...  \n",
      "4  isAlive~culture_few_survive+house_alive1+male+...  \n",
      "5  isAlive~culture_few_survive+house_alive1+male+...  \n",
      "6  isAlive~culture_few_survive+house_alive1+male+...  \n",
      "7  isAlive~culture_few_survive+house_alive1+male+...  \n",
      "8  isAlive~culture_few_survive+house_alive1+male+...  \n",
      "Processed  9 models on 12 predictors in 86.53384709358215 seconds.\n",
      "isAlive~culture_few_survive+house_alive1+male+boolDeadRelations+popularity+culture_none_survive+house_alive3+culture_all_survive+house_alive6+house_alive2+house_alive4+culture_many_survive+isNoble\n",
      "isAlive~culture_few_survive+house_alive1+male+boolDeadRelations+popularity+culture_none_survive+house_alive3+culture_all_survive+house_alive6+house_alive2+house_alive4+culture_many_survive+numDeadRelations\n",
      "isAlive~culture_few_survive+house_alive1+male+boolDeadRelations+popularity+culture_none_survive+house_alive3+culture_all_survive+house_alive6+house_alive2+house_alive4+culture_many_survive+isPopular\n",
      "isAlive~culture_few_survive+house_alive1+male+boolDeadRelations+popularity+culture_none_survive+house_alive3+culture_all_survive+house_alive6+house_alive2+house_alive4+culture_many_survive+house_alive5\n",
      "isAlive~culture_few_survive+house_alive1+male+boolDeadRelations+popularity+culture_none_survive+house_alive3+culture_all_survive+house_alive6+house_alive2+house_alive4+culture_many_survive+house_alive7\n",
      "isAlive~culture_few_survive+house_alive1+male+boolDeadRelations+popularity+culture_none_survive+house_alive3+culture_all_survive+house_alive6+house_alive2+house_alive4+culture_many_survive+culture_half_survive\n",
      "isAlive~culture_few_survive+house_alive1+male+boolDeadRelations+popularity+culture_none_survive+house_alive3+culture_all_survive+house_alive6+house_alive2+house_alive4+culture_many_survive+culture_morethanhalf_survive\n",
      "isAlive~culture_few_survive+house_alive1+male+boolDeadRelations+popularity+culture_none_survive+house_alive3+culture_all_survive+house_alive6+house_alive2+house_alive4+culture_many_survive+culture_most_survive\n",
      "                                               model  accuracy  \\\n",
      "0  <statsmodels.discrete.discrete_model.BinaryRes...       396   \n",
      "1  <statsmodels.discrete.discrete_model.BinaryRes...       395   \n",
      "2  <statsmodels.discrete.discrete_model.BinaryRes...       397   \n",
      "3  <statsmodels.discrete.discrete_model.BinaryRes...       397   \n",
      "4  <statsmodels.discrete.discrete_model.BinaryRes...       401   \n",
      "5  <statsmodels.discrete.discrete_model.BinaryRes...       386   \n",
      "6  <statsmodels.discrete.discrete_model.BinaryRes...       390   \n",
      "7  <statsmodels.discrete.discrete_model.BinaryRes...       391   \n",
      "\n",
      "                                             formula  \n",
      "0  isAlive~culture_few_survive+house_alive1+male+...  \n",
      "1  isAlive~culture_few_survive+house_alive1+male+...  \n",
      "2  isAlive~culture_few_survive+house_alive1+male+...  \n",
      "3  isAlive~culture_few_survive+house_alive1+male+...  \n",
      "4  isAlive~culture_few_survive+house_alive1+male+...  \n",
      "5  isAlive~culture_few_survive+house_alive1+male+...  \n",
      "6  isAlive~culture_few_survive+house_alive1+male+...  \n",
      "7  isAlive~culture_few_survive+house_alive1+male+...  \n",
      "Processed  8 models on 13 predictors in 80.59000897407532 seconds.\n",
      "isAlive~culture_few_survive+house_alive1+male+boolDeadRelations+popularity+culture_none_survive+house_alive3+culture_all_survive+house_alive6+house_alive2+house_alive4+culture_many_survive+house_alive7+isNoble\n",
      "isAlive~culture_few_survive+house_alive1+male+boolDeadRelations+popularity+culture_none_survive+house_alive3+culture_all_survive+house_alive6+house_alive2+house_alive4+culture_many_survive+house_alive7+numDeadRelations\n",
      "isAlive~culture_few_survive+house_alive1+male+boolDeadRelations+popularity+culture_none_survive+house_alive3+culture_all_survive+house_alive6+house_alive2+house_alive4+culture_many_survive+house_alive7+isPopular\n",
      "isAlive~culture_few_survive+house_alive1+male+boolDeadRelations+popularity+culture_none_survive+house_alive3+culture_all_survive+house_alive6+house_alive2+house_alive4+culture_many_survive+house_alive7+house_alive5\n",
      "isAlive~culture_few_survive+house_alive1+male+boolDeadRelations+popularity+culture_none_survive+house_alive3+culture_all_survive+house_alive6+house_alive2+house_alive4+culture_many_survive+house_alive7+culture_half_survive\n",
      "isAlive~culture_few_survive+house_alive1+male+boolDeadRelations+popularity+culture_none_survive+house_alive3+culture_all_survive+house_alive6+house_alive2+house_alive4+culture_many_survive+house_alive7+culture_morethanhalf_survive\n",
      "isAlive~culture_few_survive+house_alive1+male+boolDeadRelations+popularity+culture_none_survive+house_alive3+culture_all_survive+house_alive6+house_alive2+house_alive4+culture_many_survive+house_alive7+culture_most_survive\n",
      "                                               model  accuracy  \\\n",
      "0  <statsmodels.discrete.discrete_model.BinaryRes...       398   \n",
      "1  <statsmodels.discrete.discrete_model.BinaryRes...       398   \n",
      "2  <statsmodels.discrete.discrete_model.BinaryRes...       398   \n",
      "3  <statsmodels.discrete.discrete_model.BinaryRes...       407   \n",
      "4  <statsmodels.discrete.discrete_model.BinaryRes...       389   \n",
      "5  <statsmodels.discrete.discrete_model.BinaryRes...       396   \n",
      "6  <statsmodels.discrete.discrete_model.BinaryRes...       394   \n",
      "\n",
      "                                             formula  \n",
      "0  isAlive~culture_few_survive+house_alive1+male+...  \n",
      "1  isAlive~culture_few_survive+house_alive1+male+...  \n",
      "2  isAlive~culture_few_survive+house_alive1+male+...  \n",
      "3  isAlive~culture_few_survive+house_alive1+male+...  \n",
      "4  isAlive~culture_few_survive+house_alive1+male+...  \n",
      "5  isAlive~culture_few_survive+house_alive1+male+...  \n",
      "6  isAlive~culture_few_survive+house_alive1+male+...  \n",
      "Processed  7 models on 14 predictors in 74.2455050945282 seconds.\n",
      "isAlive~culture_few_survive+house_alive1+male+boolDeadRelations+popularity+culture_none_survive+house_alive3+culture_all_survive+house_alive6+house_alive2+house_alive4+culture_many_survive+house_alive7+house_alive5+isNoble\n"
     ]
    },
    {
     "name": "stdout",
     "output_type": "stream",
     "text": [
      "isAlive~culture_few_survive+house_alive1+male+boolDeadRelations+popularity+culture_none_survive+house_alive3+culture_all_survive+house_alive6+house_alive2+house_alive4+culture_many_survive+house_alive7+house_alive5+numDeadRelations\n",
      "isAlive~culture_few_survive+house_alive1+male+boolDeadRelations+popularity+culture_none_survive+house_alive3+culture_all_survive+house_alive6+house_alive2+house_alive4+culture_many_survive+house_alive7+house_alive5+isPopular\n",
      "isAlive~culture_few_survive+house_alive1+male+boolDeadRelations+popularity+culture_none_survive+house_alive3+culture_all_survive+house_alive6+house_alive2+house_alive4+culture_many_survive+house_alive7+house_alive5+culture_half_survive\n",
      "isAlive~culture_few_survive+house_alive1+male+boolDeadRelations+popularity+culture_none_survive+house_alive3+culture_all_survive+house_alive6+house_alive2+house_alive4+culture_many_survive+house_alive7+house_alive5+culture_morethanhalf_survive\n",
      "isAlive~culture_few_survive+house_alive1+male+boolDeadRelations+popularity+culture_none_survive+house_alive3+culture_all_survive+house_alive6+house_alive2+house_alive4+culture_many_survive+house_alive7+house_alive5+culture_most_survive\n",
      "                                               model  accuracy  \\\n",
      "0  <statsmodels.discrete.discrete_model.BinaryRes...       404   \n",
      "1  <statsmodels.discrete.discrete_model.BinaryRes...       411   \n",
      "2  <statsmodels.discrete.discrete_model.BinaryRes...       407   \n",
      "3  <statsmodels.discrete.discrete_model.BinaryRes...       408   \n",
      "4  <statsmodels.discrete.discrete_model.BinaryRes...       408   \n",
      "5  <statsmodels.discrete.discrete_model.BinaryRes...       408   \n",
      "\n",
      "                                             formula  \n",
      "0  isAlive~culture_few_survive+house_alive1+male+...  \n",
      "1  isAlive~culture_few_survive+house_alive1+male+...  \n",
      "2  isAlive~culture_few_survive+house_alive1+male+...  \n",
      "3  isAlive~culture_few_survive+house_alive1+male+...  \n",
      "4  isAlive~culture_few_survive+house_alive1+male+...  \n",
      "5  isAlive~culture_few_survive+house_alive1+male+...  \n",
      "Processed  6 models on 15 predictors in 65.48944878578186 seconds.\n",
      "isAlive~culture_few_survive+house_alive1+male+boolDeadRelations+popularity+culture_none_survive+house_alive3+culture_all_survive+house_alive6+house_alive2+house_alive4+culture_many_survive+house_alive7+house_alive5+numDeadRelations+isNoble\n",
      "isAlive~culture_few_survive+house_alive1+male+boolDeadRelations+popularity+culture_none_survive+house_alive3+culture_all_survive+house_alive6+house_alive2+house_alive4+culture_many_survive+house_alive7+house_alive5+numDeadRelations+isPopular\n",
      "isAlive~culture_few_survive+house_alive1+male+boolDeadRelations+popularity+culture_none_survive+house_alive3+culture_all_survive+house_alive6+house_alive2+house_alive4+culture_many_survive+house_alive7+house_alive5+numDeadRelations+culture_half_survive\n",
      "isAlive~culture_few_survive+house_alive1+male+boolDeadRelations+popularity+culture_none_survive+house_alive3+culture_all_survive+house_alive6+house_alive2+house_alive4+culture_many_survive+house_alive7+house_alive5+numDeadRelations+culture_morethanhalf_survive\n",
      "isAlive~culture_few_survive+house_alive1+male+boolDeadRelations+popularity+culture_none_survive+house_alive3+culture_all_survive+house_alive6+house_alive2+house_alive4+culture_many_survive+house_alive7+house_alive5+numDeadRelations+culture_most_survive\n",
      "                                               model  accuracy  \\\n",
      "0  <statsmodels.discrete.discrete_model.BinaryRes...       404   \n",
      "1  <statsmodels.discrete.discrete_model.BinaryRes...       405   \n",
      "2  <statsmodels.discrete.discrete_model.BinaryRes...       406   \n",
      "3  <statsmodels.discrete.discrete_model.BinaryRes...       408   \n",
      "4  <statsmodels.discrete.discrete_model.BinaryRes...       406   \n",
      "\n",
      "                                             formula  \n",
      "0  isAlive~culture_few_survive+house_alive1+male+...  \n",
      "1  isAlive~culture_few_survive+house_alive1+male+...  \n",
      "2  isAlive~culture_few_survive+house_alive1+male+...  \n",
      "3  isAlive~culture_few_survive+house_alive1+male+...  \n",
      "4  isAlive~culture_few_survive+house_alive1+male+...  \n",
      "Processed  5 models on 16 predictors in 57.01849889755249 seconds.\n",
      "isAlive~culture_few_survive+house_alive1+male+boolDeadRelations+popularity+culture_none_survive+house_alive3+culture_all_survive+house_alive6+house_alive2+house_alive4+culture_many_survive+house_alive7+house_alive5+numDeadRelations+culture_morethanhalf_survive+isNoble\n",
      "isAlive~culture_few_survive+house_alive1+male+boolDeadRelations+popularity+culture_none_survive+house_alive3+culture_all_survive+house_alive6+house_alive2+house_alive4+culture_many_survive+house_alive7+house_alive5+numDeadRelations+culture_morethanhalf_survive+isPopular\n",
      "isAlive~culture_few_survive+house_alive1+male+boolDeadRelations+popularity+culture_none_survive+house_alive3+culture_all_survive+house_alive6+house_alive2+house_alive4+culture_many_survive+house_alive7+house_alive5+numDeadRelations+culture_morethanhalf_survive+culture_half_survive\n",
      "isAlive~culture_few_survive+house_alive1+male+boolDeadRelations+popularity+culture_none_survive+house_alive3+culture_all_survive+house_alive6+house_alive2+house_alive4+culture_many_survive+house_alive7+house_alive5+numDeadRelations+culture_morethanhalf_survive+culture_most_survive\n",
      "                                               model  accuracy  \\\n",
      "0  <statsmodels.discrete.discrete_model.BinaryRes...       409   \n",
      "1  <statsmodels.discrete.discrete_model.BinaryRes...       408   \n",
      "2  <statsmodels.discrete.discrete_model.BinaryRes...       403   \n",
      "3  <statsmodels.discrete.discrete_model.BinaryRes...       409   \n",
      "\n",
      "                                             formula  \n",
      "0  isAlive~culture_few_survive+house_alive1+male+...  \n",
      "1  isAlive~culture_few_survive+house_alive1+male+...  \n",
      "2  isAlive~culture_few_survive+house_alive1+male+...  \n",
      "3  isAlive~culture_few_survive+house_alive1+male+...  \n",
      "Processed  4 models on 17 predictors in 47.337640047073364 seconds.\n",
      "isAlive~culture_few_survive+house_alive1+male+boolDeadRelations+popularity+culture_none_survive+house_alive3+culture_all_survive+house_alive6+house_alive2+house_alive4+culture_many_survive+house_alive7+house_alive5+numDeadRelations+culture_morethanhalf_survive+isNoble+isPopular\n",
      "isAlive~culture_few_survive+house_alive1+male+boolDeadRelations+popularity+culture_none_survive+house_alive3+culture_all_survive+house_alive6+house_alive2+house_alive4+culture_many_survive+house_alive7+house_alive5+numDeadRelations+culture_morethanhalf_survive+isNoble+culture_half_survive\n",
      "isAlive~culture_few_survive+house_alive1+male+boolDeadRelations+popularity+culture_none_survive+house_alive3+culture_all_survive+house_alive6+house_alive2+house_alive4+culture_many_survive+house_alive7+house_alive5+numDeadRelations+culture_morethanhalf_survive+isNoble+culture_most_survive\n",
      "                                               model  accuracy  \\\n",
      "0  <statsmodels.discrete.discrete_model.BinaryRes...       405   \n",
      "1  <statsmodels.discrete.discrete_model.BinaryRes...       400   \n",
      "2  <statsmodels.discrete.discrete_model.BinaryRes...       407   \n",
      "\n",
      "                                             formula  \n",
      "0  isAlive~culture_few_survive+house_alive1+male+...  \n",
      "1  isAlive~culture_few_survive+house_alive1+male+...  \n",
      "2  isAlive~culture_few_survive+house_alive1+male+...  \n",
      "Processed  3 models on 18 predictors in 37.30211925506592 seconds.\n",
      "isAlive~culture_few_survive+house_alive1+male+boolDeadRelations+popularity+culture_none_survive+house_alive3+culture_all_survive+house_alive6+house_alive2+house_alive4+culture_many_survive+house_alive7+house_alive5+numDeadRelations+culture_morethanhalf_survive+isNoble+culture_most_survive+isPopular\n",
      "isAlive~culture_few_survive+house_alive1+male+boolDeadRelations+popularity+culture_none_survive+house_alive3+culture_all_survive+house_alive6+house_alive2+house_alive4+culture_many_survive+house_alive7+house_alive5+numDeadRelations+culture_morethanhalf_survive+isNoble+culture_most_survive+culture_half_survive\n",
      "                                               model  accuracy  \\\n",
      "0  <statsmodels.discrete.discrete_model.BinaryRes...       404   \n",
      "1  <statsmodels.discrete.discrete_model.BinaryRes...       407   \n",
      "\n",
      "                                             formula  \n",
      "0  isAlive~culture_few_survive+house_alive1+male+...  \n",
      "1  isAlive~culture_few_survive+house_alive1+male+...  \n",
      "Processed  2 models on 19 predictors in 26.461864948272705 seconds.\n",
      "isAlive~culture_few_survive+house_alive1+male+boolDeadRelations+popularity+culture_none_survive+house_alive3+culture_all_survive+house_alive6+house_alive2+house_alive4+culture_many_survive+house_alive7+house_alive5+numDeadRelations+culture_morethanhalf_survive+isNoble+culture_most_survive+culture_half_survive+isPopular\n"
     ]
    },
    {
     "name": "stdout",
     "output_type": "stream",
     "text": [
      "                                               model  accuracy  \\\n",
      "0  <statsmodels.discrete.discrete_model.BinaryRes...       406   \n",
      "\n",
      "                                             formula  \n",
      "0  isAlive~culture_few_survive+house_alive1+male+...  \n",
      "Processed  1 models on 20 predictors in 13.431920766830444 seconds.\n",
      "Total elapsed time: 1481.468384027481 seconds.\n"
     ]
    },
    {
     "data": {
      "image/png": "[encoded data removed]",
      "text/plain": [
       "<Figure size 1440x720 with 1 Axes>"
      ]
     },
     "metadata": {
      "needs_background": "light"
     },
     "output_type": "display_data"
    }
   ],
   "source": [
    "# Catherine\n",
    "\n",
    "# PREPARATION AND FORWARD SELECTION\n",
    "\n",
    "#characters = characters_clean_copy\n",
    "culture = characters.culture\n",
    "house_alive_binned = characters.house_alive_binned\n",
    "characters = pd.get_dummies(characters, columns=[\"culture\"])\n",
    "\n",
    "new_characters = characters\n",
    "X = new_characters.drop(columns=[\"name\",\"isAlive\",\"house_alive_binned\",\"house_alive\",\"house\"])\n",
    "X_backup = new_characters.drop(columns=[\"name\",\"isAlive\",\"house_alive_binned\",\"house_alive\",\"house\"])\n",
    "\n",
    "\n",
    "#Function to develop a model based on all predictors in predictor_subset\n",
    "def processSubset(predictor_subset):\n",
    "    print('isAlive~' + '+'.join(predictor_subset))\n",
    "    formula = 'isAlive~' + '+'.join(predictor_subset)\n",
    "    accuracy, __, model = test(formula = 'isAlive~' + '+'.join(predictor_subset), num_examples = len(characters), cutoff=.5, clean_data=characters)\n",
    "    return {\"model\":model, \"accuracy\":accuracy, \"formula\":formula}\n",
    "    \n",
    "def forward(predictors):\n",
    "    \n",
    "    remaining_predictors = [p for p in X.columns if p not in predictors]\n",
    "    \n",
    "    tic = time.time()\n",
    "    \n",
    "    results = []\n",
    "    \n",
    "    for p in remaining_predictors:\n",
    "        results.append(processSubset(predictors+[p]))\n",
    "    models = pd.DataFrame(results)\n",
    "    print(models)\n",
    "    best_model = models.loc[models['accuracy'].argmax()]\n",
    "    \n",
    "    toc = time.time()\n",
    "    print(\"Processed \", models.shape[0], \"models on\", len(predictors)+1, \"predictors in\", (toc-tic), \"seconds.\")\n",
    "    return best_model\n",
    "\n",
    "def forward_selection():\n",
    "    models_best = pd.DataFrame(columns=[\"accuracy\", \"model\"])\n",
    "\n",
    "    tic = time.time()\n",
    "    predictors = []\n",
    "\n",
    "    for i in range(1,len(X.columns)+1):    \n",
    "        models_best.loc[i] = forward(predictors)\n",
    "        predictors = list(models_best.loc[i][\"model\"].params.index[1:])\n",
    "\n",
    "    toc = time.time()\n",
    "    print(\"Total elapsed time:\", (toc-tic), \"seconds.\")\n",
    "    return models_best\n",
    "\n",
    "def best_sub_plots():\n",
    "    plt.figure(figsize=(20,10))\n",
    "    plt.rcParams.update({'font.size': 18, 'lines.markersize': 10})\n",
    "\n",
    "    # Set up a 2x2 grid so we can look at 4 plots at once\n",
    "    plt.subplot(2, 2, 1)\n",
    "\n",
    "    # We will now plot a red dot to indicate the model with the largest adjusted R^2 statistic.\n",
    "    # The argmax() function can be used to identify the location of the maximum point of a vector\n",
    "    plt.plot(models_best[\"accuracy\"])\n",
    "    plt.xlabel('# Predictors')\n",
    "    plt.ylabel('accuracy')\n",
    "\n",
    "models_best = forward_selection()\n",
    "best_sub_plots()"
   ]
  },
  {
   "cell_type": "code",
   "execution_count": 58,
   "id": "044ba9ec",
   "metadata": {},
   "outputs": [
    {
     "data": {
      "text/html": [
       "<div>\n",
       "<style scoped>\n",
       "    .dataframe tbody tr th:only-of-type {\n",
       "        vertical-align: middle;\n",
       "    }\n",
       "\n",
       "    .dataframe tbody tr th {\n",
       "        vertical-align: top;\n",
       "    }\n",
       "\n",
       "    .dataframe thead th {\n",
       "        text-align: right;\n",
       "    }\n",
       "</style>\n",
       "<table border=\"1\" class=\"dataframe\">\n",
       "  <thead>\n",
       "    <tr style=\"text-align: right;\">\n",
       "      <th></th>\n",
       "      <th>accuracy</th>\n",
       "      <th>model</th>\n",
       "    </tr>\n",
       "  </thead>\n",
       "  <tbody>\n",
       "    <tr>\n",
       "      <th>1</th>\n",
       "      <td>377</td>\n",
       "      <td>&lt;statsmodels.discrete.discrete_model.BinaryRes...</td>\n",
       "    </tr>\n",
       "    <tr>\n",
       "      <th>2</th>\n",
       "      <td>380</td>\n",
       "      <td>&lt;statsmodels.discrete.discrete_model.BinaryRes...</td>\n",
       "    </tr>\n",
       "    <tr>\n",
       "      <th>3</th>\n",
       "      <td>385</td>\n",
       "      <td>&lt;statsmodels.discrete.discrete_model.BinaryRes...</td>\n",
       "    </tr>\n",
       "    <tr>\n",
       "      <th>4</th>\n",
       "      <td>387</td>\n",
       "      <td>&lt;statsmodels.discrete.discrete_model.BinaryRes...</td>\n",
       "    </tr>\n",
       "    <tr>\n",
       "      <th>5</th>\n",
       "      <td>392</td>\n",
       "      <td>&lt;statsmodels.discrete.discrete_model.BinaryRes...</td>\n",
       "    </tr>\n",
       "    <tr>\n",
       "      <th>6</th>\n",
       "      <td>395</td>\n",
       "      <td>&lt;statsmodels.discrete.discrete_model.BinaryRes...</td>\n",
       "    </tr>\n",
       "    <tr>\n",
       "      <th>7</th>\n",
       "      <td>398</td>\n",
       "      <td>&lt;statsmodels.discrete.discrete_model.BinaryRes...</td>\n",
       "    </tr>\n",
       "    <tr>\n",
       "      <th>8</th>\n",
       "      <td>400</td>\n",
       "      <td>&lt;statsmodels.discrete.discrete_model.BinaryRes...</td>\n",
       "    </tr>\n",
       "    <tr>\n",
       "      <th>9</th>\n",
       "      <td>400</td>\n",
       "      <td>&lt;statsmodels.discrete.discrete_model.BinaryRes...</td>\n",
       "    </tr>\n",
       "    <tr>\n",
       "      <th>10</th>\n",
       "      <td>399</td>\n",
       "      <td>&lt;statsmodels.discrete.discrete_model.BinaryRes...</td>\n",
       "    </tr>\n",
       "    <tr>\n",
       "      <th>11</th>\n",
       "      <td>399</td>\n",
       "      <td>&lt;statsmodels.discrete.discrete_model.BinaryRes...</td>\n",
       "    </tr>\n",
       "    <tr>\n",
       "      <th>12</th>\n",
       "      <td>399</td>\n",
       "      <td>&lt;statsmodels.discrete.discrete_model.BinaryRes...</td>\n",
       "    </tr>\n",
       "    <tr>\n",
       "      <th>13</th>\n",
       "      <td>401</td>\n",
       "      <td>&lt;statsmodels.discrete.discrete_model.BinaryRes...</td>\n",
       "    </tr>\n",
       "    <tr>\n",
       "      <th>14</th>\n",
       "      <td>407</td>\n",
       "      <td>&lt;statsmodels.discrete.discrete_model.BinaryRes...</td>\n",
       "    </tr>\n",
       "    <tr>\n",
       "      <th>15</th>\n",
       "      <td>411</td>\n",
       "      <td>&lt;statsmodels.discrete.discrete_model.BinaryRes...</td>\n",
       "    </tr>\n",
       "    <tr>\n",
       "      <th>16</th>\n",
       "      <td>408</td>\n",
       "      <td>&lt;statsmodels.discrete.discrete_model.BinaryRes...</td>\n",
       "    </tr>\n",
       "    <tr>\n",
       "      <th>17</th>\n",
       "      <td>409</td>\n",
       "      <td>&lt;statsmodels.discrete.discrete_model.BinaryRes...</td>\n",
       "    </tr>\n",
       "    <tr>\n",
       "      <th>18</th>\n",
       "      <td>407</td>\n",
       "      <td>&lt;statsmodels.discrete.discrete_model.BinaryRes...</td>\n",
       "    </tr>\n",
       "    <tr>\n",
       "      <th>19</th>\n",
       "      <td>407</td>\n",
       "      <td>&lt;statsmodels.discrete.discrete_model.BinaryRes...</td>\n",
       "    </tr>\n",
       "    <tr>\n",
       "      <th>20</th>\n",
       "      <td>406</td>\n",
       "      <td>&lt;statsmodels.discrete.discrete_model.BinaryRes...</td>\n",
       "    </tr>\n",
       "  </tbody>\n",
       "</table>\n",
       "</div>"
      ],
      "text/plain": [
       "   accuracy                                              model\n",
       "1       377  <statsmodels.discrete.discrete_model.BinaryRes...\n",
       "2       380  <statsmodels.discrete.discrete_model.BinaryRes...\n",
       "3       385  <statsmodels.discrete.discrete_model.BinaryRes...\n",
       "4       387  <statsmodels.discrete.discrete_model.BinaryRes...\n",
       "5       392  <statsmodels.discrete.discrete_model.BinaryRes...\n",
       "6       395  <statsmodels.discrete.discrete_model.BinaryRes...\n",
       "7       398  <statsmodels.discrete.discrete_model.BinaryRes...\n",
       "8       400  <statsmodels.discrete.discrete_model.BinaryRes...\n",
       "9       400  <statsmodels.discrete.discrete_model.BinaryRes...\n",
       "10      399  <statsmodels.discrete.discrete_model.BinaryRes...\n",
       "11      399  <statsmodels.discrete.discrete_model.BinaryRes...\n",
       "12      399  <statsmodels.discrete.discrete_model.BinaryRes...\n",
       "13      401  <statsmodels.discrete.discrete_model.BinaryRes...\n",
       "14      407  <statsmodels.discrete.discrete_model.BinaryRes...\n",
       "15      411  <statsmodels.discrete.discrete_model.BinaryRes...\n",
       "16      408  <statsmodels.discrete.discrete_model.BinaryRes...\n",
       "17      409  <statsmodels.discrete.discrete_model.BinaryRes...\n",
       "18      407  <statsmodels.discrete.discrete_model.BinaryRes...\n",
       "19      407  <statsmodels.discrete.discrete_model.BinaryRes...\n",
       "20      406  <statsmodels.discrete.discrete_model.BinaryRes..."
      ]
     },
     "execution_count": 58,
     "metadata": {},
     "output_type": "execute_result"
    }
   ],
   "source": [
    "models_best"
   ]
  },
  {
   "cell_type": "code",
   "execution_count": 59,
   "id": "7329dad5",
   "metadata": {},
   "outputs": [
    {
     "data": {
      "text/html": [
       "<table class=\"simpletable\">\n",
       "<caption>Logit Regression Results</caption>\n",
       "<tr>\n",
       "  <th>Dep. Variable:</th>        <td>isAlive</td>     <th>  No. Observations:  </th>  <td>   493</td>  \n",
       "</tr>\n",
       "<tr>\n",
       "  <th>Model:</th>                 <td>Logit</td>      <th>  Df Residuals:      </th>  <td>   477</td>  \n",
       "</tr>\n",
       "<tr>\n",
       "  <th>Method:</th>                 <td>MLE</td>       <th>  Df Model:          </th>  <td>    15</td>  \n",
       "</tr>\n",
       "<tr>\n",
       "  <th>Date:</th>            <td>Wed, 15 Mar 2023</td> <th>  Pseudo R-squ.:     </th>  <td>0.3736</td>  \n",
       "</tr>\n",
       "<tr>\n",
       "  <th>Time:</th>                <td>16:42:34</td>     <th>  Log-Likelihood:    </th> <td> -188.69</td> \n",
       "</tr>\n",
       "<tr>\n",
       "  <th>converged:</th>             <td>False</td>      <th>  LL-Null:           </th> <td> -301.24</td> \n",
       "</tr>\n",
       "<tr>\n",
       "  <th>Covariance Type:</th>     <td>nonrobust</td>    <th>  LLR p-value:       </th> <td>1.615e-39</td>\n",
       "</tr>\n",
       "</table>\n",
       "<table class=\"simpletable\">\n",
       "<tr>\n",
       "            <td></td>              <th>coef</th>     <th>std err</th>      <th>z</th>      <th>P>|z|</th>  <th>[0.025</th>    <th>0.975]</th>  \n",
       "</tr>\n",
       "<tr>\n",
       "  <th>Intercept</th>            <td>   -0.7400</td> <td>    0.466</td> <td>   -1.589</td> <td> 0.112</td> <td>   -1.653</td> <td>    0.173</td>\n",
       "</tr>\n",
       "<tr>\n",
       "  <th>culture_few_survive</th>  <td>   -1.0560</td> <td>    0.628</td> <td>   -1.682</td> <td> 0.093</td> <td>   -2.287</td> <td>    0.175</td>\n",
       "</tr>\n",
       "<tr>\n",
       "  <th>house_alive1</th>         <td>    0.9417</td> <td>    0.461</td> <td>    2.042</td> <td> 0.041</td> <td>    0.038</td> <td>    1.846</td>\n",
       "</tr>\n",
       "<tr>\n",
       "  <th>male</th>                 <td>   -0.7138</td> <td>    0.303</td> <td>   -2.358</td> <td> 0.018</td> <td>   -1.307</td> <td>   -0.120</td>\n",
       "</tr>\n",
       "<tr>\n",
       "  <th>boolDeadRelations</th>    <td>   -1.1858</td> <td>    0.481</td> <td>   -2.467</td> <td> 0.014</td> <td>   -2.128</td> <td>   -0.244</td>\n",
       "</tr>\n",
       "<tr>\n",
       "  <th>popularity</th>           <td>    1.7501</td> <td>    0.778</td> <td>    2.249</td> <td> 0.025</td> <td>    0.225</td> <td>    3.275</td>\n",
       "</tr>\n",
       "<tr>\n",
       "  <th>culture_none_survive</th> <td>   -1.8133</td> <td>    2.337</td> <td>   -0.776</td> <td> 0.438</td> <td>   -6.394</td> <td>    2.767</td>\n",
       "</tr>\n",
       "<tr>\n",
       "  <th>house_alive3</th>         <td>    1.6647</td> <td>    0.452</td> <td>    3.682</td> <td> 0.000</td> <td>    0.778</td> <td>    2.551</td>\n",
       "</tr>\n",
       "<tr>\n",
       "  <th>culture_all_survive</th>  <td>    2.7994</td> <td>    1.423</td> <td>    1.967</td> <td> 0.049</td> <td>    0.010</td> <td>    5.588</td>\n",
       "</tr>\n",
       "<tr>\n",
       "  <th>house_alive6</th>         <td>    3.6193</td> <td>    1.032</td> <td>    3.507</td> <td> 0.000</td> <td>    1.597</td> <td>    5.642</td>\n",
       "</tr>\n",
       "<tr>\n",
       "  <th>house_alive2</th>         <td>    0.6415</td> <td>    0.871</td> <td>    0.736</td> <td> 0.461</td> <td>   -1.066</td> <td>    2.349</td>\n",
       "</tr>\n",
       "<tr>\n",
       "  <th>house_alive4</th>         <td>    1.7594</td> <td>    0.785</td> <td>    2.241</td> <td> 0.025</td> <td>    0.220</td> <td>    3.299</td>\n",
       "</tr>\n",
       "<tr>\n",
       "  <th>culture_many_survive</th> <td>    0.4496</td> <td>    0.293</td> <td>    1.533</td> <td> 0.125</td> <td>   -0.125</td> <td>    1.024</td>\n",
       "</tr>\n",
       "<tr>\n",
       "  <th>house_alive7</th>         <td>    5.3964</td> <td>    0.845</td> <td>    6.384</td> <td> 0.000</td> <td>    3.740</td> <td>    7.053</td>\n",
       "</tr>\n",
       "<tr>\n",
       "  <th>house_alive5</th>         <td>    2.8024</td> <td>    0.517</td> <td>    5.422</td> <td> 0.000</td> <td>    1.789</td> <td>    3.816</td>\n",
       "</tr>\n",
       "<tr>\n",
       "  <th>numDeadRelations</th>     <td>    0.0543</td> <td>    0.101</td> <td>    0.535</td> <td> 0.593</td> <td>   -0.145</td> <td>    0.253</td>\n",
       "</tr>\n",
       "</table>"
      ],
      "text/plain": [
       "<class 'statsmodels.iolib.summary.Summary'>\n",
       "\"\"\"\n",
       "                           Logit Regression Results                           \n",
       "==============================================================================\n",
       "Dep. Variable:                isAlive   No. Observations:                  493\n",
       "Model:                          Logit   Df Residuals:                      477\n",
       "Method:                           MLE   Df Model:                           15\n",
       "Date:                Wed, 15 Mar 2023   Pseudo R-squ.:                  0.3736\n",
       "Time:                        16:42:34   Log-Likelihood:                -188.69\n",
       "converged:                      False   LL-Null:                       -301.24\n",
       "Covariance Type:            nonrobust   LLR p-value:                 1.615e-39\n",
       "========================================================================================\n",
       "                           coef    std err          z      P>|z|      [0.025      0.975]\n",
       "----------------------------------------------------------------------------------------\n",
       "Intercept               -0.7400      0.466     -1.589      0.112      -1.653       0.173\n",
       "culture_few_survive     -1.0560      0.628     -1.682      0.093      -2.287       0.175\n",
       "house_alive1             0.9417      0.461      2.042      0.041       0.038       1.846\n",
       "male                    -0.7138      0.303     -2.358      0.018      -1.307      -0.120\n",
       "boolDeadRelations       -1.1858      0.481     -2.467      0.014      -2.128      -0.244\n",
       "popularity               1.7501      0.778      2.249      0.025       0.225       3.275\n",
       "culture_none_survive    -1.8133      2.337     -0.776      0.438      -6.394       2.767\n",
       "house_alive3             1.6647      0.452      3.682      0.000       0.778       2.551\n",
       "culture_all_survive      2.7994      1.423      1.967      0.049       0.010       5.588\n",
       "house_alive6             3.6193      1.032      3.507      0.000       1.597       5.642\n",
       "house_alive2             0.6415      0.871      0.736      0.461      -1.066       2.349\n",
       "house_alive4             1.7594      0.785      2.241      0.025       0.220       3.299\n",
       "culture_many_survive     0.4496      0.293      1.533      0.125      -0.125       1.024\n",
       "house_alive7             5.3964      0.845      6.384      0.000       3.740       7.053\n",
       "house_alive5             2.8024      0.517      5.422      0.000       1.789       3.816\n",
       "numDeadRelations         0.0543      0.101      0.535      0.593      -0.145       0.253\n",
       "========================================================================================\n",
       "\"\"\""
      ]
     },
     "execution_count": 59,
     "metadata": {},
     "output_type": "execute_result"
    }
   ],
   "source": [
    "models_best.loc[15,\"model\"].summary()"
   ]
  },
  {
   "cell_type": "code",
   "execution_count": 39,
   "id": "b71f41db",
   "metadata": {},
   "outputs": [
    {
     "data": {
      "text/html": [
       "<table class=\"simpletable\">\n",
       "<caption>Logit Regression Results</caption>\n",
       "<tr>\n",
       "  <th>Dep. Variable:</th>        <td>isAlive</td>     <th>  No. Observations:  </th>  <td>   493</td>  \n",
       "</tr>\n",
       "<tr>\n",
       "  <th>Model:</th>                 <td>Logit</td>      <th>  Df Residuals:      </th>  <td>   477</td>  \n",
       "</tr>\n",
       "<tr>\n",
       "  <th>Method:</th>                 <td>MLE</td>       <th>  Df Model:          </th>  <td>    15</td>  \n",
       "</tr>\n",
       "<tr>\n",
       "  <th>Date:</th>            <td>Wed, 15 Mar 2023</td> <th>  Pseudo R-squ.:     </th>  <td>0.3736</td>  \n",
       "</tr>\n",
       "<tr>\n",
       "  <th>Time:</th>                <td>16:38:27</td>     <th>  Log-Likelihood:    </th> <td> -188.69</td> \n",
       "</tr>\n",
       "<tr>\n",
       "  <th>converged:</th>             <td>False</td>      <th>  LL-Null:           </th> <td> -301.24</td> \n",
       "</tr>\n",
       "<tr>\n",
       "  <th>Covariance Type:</th>     <td>nonrobust</td>    <th>  LLR p-value:       </th> <td>1.615e-39</td>\n",
       "</tr>\n",
       "</table>\n",
       "<table class=\"simpletable\">\n",
       "<tr>\n",
       "            <td></td>              <th>coef</th>     <th>std err</th>      <th>z</th>      <th>P>|z|</th>  <th>[0.025</th>    <th>0.975]</th>  \n",
       "</tr>\n",
       "<tr>\n",
       "  <th>Intercept</th>            <td>   -0.7400</td> <td>    0.466</td> <td>   -1.589</td> <td> 0.112</td> <td>   -1.653</td> <td>    0.173</td>\n",
       "</tr>\n",
       "<tr>\n",
       "  <th>culture_few_survive</th>  <td>   -1.0560</td> <td>    0.628</td> <td>   -1.682</td> <td> 0.093</td> <td>   -2.287</td> <td>    0.175</td>\n",
       "</tr>\n",
       "<tr>\n",
       "  <th>house_alive1</th>         <td>    0.9417</td> <td>    0.461</td> <td>    2.042</td> <td> 0.041</td> <td>    0.038</td> <td>    1.846</td>\n",
       "</tr>\n",
       "<tr>\n",
       "  <th>male</th>                 <td>   -0.7138</td> <td>    0.303</td> <td>   -2.358</td> <td> 0.018</td> <td>   -1.307</td> <td>   -0.120</td>\n",
       "</tr>\n",
       "<tr>\n",
       "  <th>boolDeadRelations</th>    <td>   -1.1858</td> <td>    0.481</td> <td>   -2.467</td> <td> 0.014</td> <td>   -2.128</td> <td>   -0.244</td>\n",
       "</tr>\n",
       "<tr>\n",
       "  <th>popularity</th>           <td>    1.7501</td> <td>    0.778</td> <td>    2.249</td> <td> 0.025</td> <td>    0.225</td> <td>    3.275</td>\n",
       "</tr>\n",
       "<tr>\n",
       "  <th>culture_none_survive</th> <td>   -1.8133</td> <td>    2.337</td> <td>   -0.776</td> <td> 0.438</td> <td>   -6.394</td> <td>    2.767</td>\n",
       "</tr>\n",
       "<tr>\n",
       "  <th>house_alive3</th>         <td>    1.6647</td> <td>    0.452</td> <td>    3.682</td> <td> 0.000</td> <td>    0.778</td> <td>    2.551</td>\n",
       "</tr>\n",
       "<tr>\n",
       "  <th>culture_all_survive</th>  <td>    2.7994</td> <td>    1.423</td> <td>    1.967</td> <td> 0.049</td> <td>    0.010</td> <td>    5.588</td>\n",
       "</tr>\n",
       "<tr>\n",
       "  <th>house_alive6</th>         <td>    3.6193</td> <td>    1.032</td> <td>    3.507</td> <td> 0.000</td> <td>    1.597</td> <td>    5.642</td>\n",
       "</tr>\n",
       "<tr>\n",
       "  <th>house_alive2</th>         <td>    0.6415</td> <td>    0.871</td> <td>    0.736</td> <td> 0.461</td> <td>   -1.066</td> <td>    2.349</td>\n",
       "</tr>\n",
       "<tr>\n",
       "  <th>house_alive4</th>         <td>    1.7594</td> <td>    0.785</td> <td>    2.241</td> <td> 0.025</td> <td>    0.220</td> <td>    3.299</td>\n",
       "</tr>\n",
       "<tr>\n",
       "  <th>culture_many_survive</th> <td>    0.4496</td> <td>    0.293</td> <td>    1.533</td> <td> 0.125</td> <td>   -0.125</td> <td>    1.024</td>\n",
       "</tr>\n",
       "<tr>\n",
       "  <th>house_alive7</th>         <td>    5.3964</td> <td>    0.845</td> <td>    6.384</td> <td> 0.000</td> <td>    3.740</td> <td>    7.053</td>\n",
       "</tr>\n",
       "<tr>\n",
       "  <th>house_alive5</th>         <td>    2.8024</td> <td>    0.517</td> <td>    5.422</td> <td> 0.000</td> <td>    1.789</td> <td>    3.816</td>\n",
       "</tr>\n",
       "<tr>\n",
       "  <th>numDeadRelations</th>     <td>    0.0543</td> <td>    0.101</td> <td>    0.535</td> <td> 0.593</td> <td>   -0.145</td> <td>    0.253</td>\n",
       "</tr>\n",
       "</table>"
      ],
      "text/plain": [
       "<class 'statsmodels.iolib.summary.Summary'>\n",
       "\"\"\"\n",
       "                           Logit Regression Results                           \n",
       "==============================================================================\n",
       "Dep. Variable:                isAlive   No. Observations:                  493\n",
       "Model:                          Logit   Df Residuals:                      477\n",
       "Method:                           MLE   Df Model:                           15\n",
       "Date:                Wed, 15 Mar 2023   Pseudo R-squ.:                  0.3736\n",
       "Time:                        16:38:27   Log-Likelihood:                -188.69\n",
       "converged:                      False   LL-Null:                       -301.24\n",
       "Covariance Type:            nonrobust   LLR p-value:                 1.615e-39\n",
       "========================================================================================\n",
       "                           coef    std err          z      P>|z|      [0.025      0.975]\n",
       "----------------------------------------------------------------------------------------\n",
       "Intercept               -0.7400      0.466     -1.589      0.112      -1.653       0.173\n",
       "culture_few_survive     -1.0560      0.628     -1.682      0.093      -2.287       0.175\n",
       "house_alive1             0.9417      0.461      2.042      0.041       0.038       1.846\n",
       "male                    -0.7138      0.303     -2.358      0.018      -1.307      -0.120\n",
       "boolDeadRelations       -1.1858      0.481     -2.467      0.014      -2.128      -0.244\n",
       "popularity               1.7501      0.778      2.249      0.025       0.225       3.275\n",
       "culture_none_survive    -1.8133      2.337     -0.776      0.438      -6.394       2.767\n",
       "house_alive3             1.6647      0.452      3.682      0.000       0.778       2.551\n",
       "culture_all_survive      2.7994      1.423      1.967      0.049       0.010       5.588\n",
       "house_alive6             3.6193      1.032      3.507      0.000       1.597       5.642\n",
       "house_alive2             0.6415      0.871      0.736      0.461      -1.066       2.349\n",
       "house_alive4             1.7594      0.785      2.241      0.025       0.220       3.299\n",
       "culture_many_survive     0.4496      0.293      1.533      0.125      -0.125       1.024\n",
       "house_alive7             5.3964      0.845      6.384      0.000       3.740       7.053\n",
       "house_alive5             2.8024      0.517      5.422      0.000       1.789       3.816\n",
       "numDeadRelations         0.0543      0.101      0.535      0.593      -0.145       0.253\n",
       "========================================================================================\n",
       "\"\"\""
      ]
     },
     "execution_count": 39,
     "metadata": {},
     "output_type": "execute_result"
    }
   ],
   "source": [
    "models_best.loc[15,\"model\"].summary()"
   ]
  },
  {
   "cell_type": "code",
   "execution_count": 63,
   "id": "1c4fe9ba",
   "metadata": {},
   "outputs": [
    {
     "name": "stdout",
     "output_type": "stream",
     "text": [
      "Warning: Maximum number of iterations has been exceeded.\n",
      "         Current function value: 0.382744\n",
      "         Iterations: 35\n",
      "         Function evaluations: 36\n",
      "         Gradient evaluations: 36\n"
     ]
    }
   ],
   "source": [
    "formula = \"isAlive~culture_few_survive+house_alive1+male+boolDeadRelations+popularity+culture_none_survive+house_alive3+culture_all_survive+house_alive6+house_alive2+house_alive4+culture_many_survive+house_alive7+house_alive5+numDeadRelations\"\n",
    "model = sm.logit(formula = formula, data=characters).fit(method=\"bfgs\")"
   ]
  },
  {
   "cell_type": "code",
   "execution_count": 64,
   "id": "ba9d4f86",
   "metadata": {},
   "outputs": [
    {
     "data": {
      "text/plain": [
       "Text(0, 0.5, 'Residuals')"
      ]
     },
     "execution_count": 64,
     "metadata": {},
     "output_type": "execute_result"
    },
    {
     "data": {
      "image/png": "[encoded data removed]",
      "text/plain": [
       "<Figure size 432x288 with 1 Axes>"
      ]
     },
     "metadata": {
      "needs_background": "light"
     },
     "output_type": "display_data"
    }
   ],
   "source": [
    "# Catherine\n",
    "\n",
    "alive = characters.loc[characters[\"isAlive\"]==1]\n",
    "dead = characters.loc[characters[\"isAlive\"]==0]\n",
    "resid = model.predict(characters) - characters[\"isAlive\"]\n",
    "ax = sns.scatterplot(x = model.predict(alive), y=model.predict(alive)-1,color = 'orange')\n",
    "sns.scatterplot(x = model.predict(dead), y=model.predict(dead),color = 'red')\n",
    "plt.xlabel('Fitted values')\n",
    "plt.ylabel('Residuals')"
   ]
  },
  {
   "cell_type": "code",
   "execution_count": 65,
   "id": "90065e89",
   "metadata": {},
   "outputs": [
    {
     "data": {
      "text/plain": [
       "<AxesSubplot:ylabel='Count'>"
      ]
     },
     "execution_count": 65,
     "metadata": {},
     "output_type": "execute_result"
    },
    {
     "data": {
      "image/png": "[encoded data removed]",
      "text/plain": [
       "<Figure size 432x288 with 1 Axes>"
      ]
     },
     "metadata": {
      "needs_background": "light"
     },
     "output_type": "display_data"
    }
   ],
   "source": [
    "# Catherine\n",
    "\n",
    "resid = model.predict(characters) - characters[\"isAlive\"]\n",
    "sns.histplot(resid)"
   ]
  },
  {
   "cell_type": "code",
   "execution_count": 66,
   "id": "81088a7d",
   "metadata": {},
   "outputs": [
    {
     "data": {
      "image/png": "[encoded data removed]",
      "text/plain": [
       "<Figure size 576x576 with 1 Axes>"
      ]
     },
     "metadata": {
      "needs_background": "light"
     },
     "output_type": "display_data"
    }
   ],
   "source": [
    "# Catherine\n",
    "\n",
    "from sklearn.metrics import precision_recall_curve\n",
    "y=characters.isAlive\n",
    "ypred = model.predict(characters)\n",
    "p, r, thresholds = precision_recall_curve(y, ypred)\n",
    "def plot_precision_recall_vs_threshold(precisions, recalls, thresholds):\n",
    "    plt.figure(figsize=(8, 8))\n",
    "    plt.title(\"Precision and Recall Scores as a function of the decision threshold\")\n",
    "    plt.plot(thresholds, precisions[:-1], \"b--\", label=\"Precision\")\n",
    "    plt.plot(thresholds, recalls[:-1], \"g-\", label=\"Recall\")\n",
    "    plt.ylabel(\"Score\")\n",
    "    plt.xlabel(\"Decision Threshold\")\n",
    "    plt.legend(loc='best')\n",
    "    plt.legend()\n",
    "plot_precision_recall_vs_threshold(p, r, thresholds)"
   ]
  },
  {
   "cell_type": "markdown",
   "id": "6444e611",
   "metadata": {},
   "source": [
    "### Code fitting the final model"
   ]
  },
  {
   "cell_type": "markdown",
   "id": "f6cae72f",
   "metadata": {},
   "source": [
    "Put the code(s) that fit the final model(s) in separate cell(s), i.e., the code with the `.ols()` or `.logit()` functions."
   ]
  },
  {
   "cell_type": "code",
   "execution_count": 67,
   "id": "2f191394",
   "metadata": {},
   "outputs": [
    {
     "name": "stdout",
     "output_type": "stream",
     "text": [
      "Warning: Maximum number of iterations has been exceeded.\n",
      "         Current function value: 0.382744\n",
      "         Iterations: 35\n",
      "         Function evaluations: 36\n",
      "         Gradient evaluations: 36\n"
     ]
    }
   ],
   "source": [
    "# Catherine\n",
    "\n",
    "formula = \"isAlive~culture_few_survive+house_alive1+male+boolDeadRelations+popularity+culture_none_survive+house_alive3+culture_all_survive+house_alive6+house_alive2+house_alive4+culture_many_survive+house_alive7+house_alive5+numDeadRelations\"\n",
    "model = sm.logit(formula = formula, data=characters).fit(method=\"bfgs\")"
   ]
  },
  {
   "cell_type": "code",
   "execution_count": 73,
   "id": "0a445531",
   "metadata": {},
   "outputs": [
    {
     "name": "stdout",
     "output_type": "stream",
     "text": [
      "accuracy =  0.768762677484787\n",
      "confusion matrix:  [[258, 27], [87, 121]]\n"
     ]
    }
   ],
   "source": [
    "# Catherine\n",
    "\n",
    "acc, conf_mat, __ = test(formula=formula, num_examples=493, clean_data=characters)\n",
    "print(\"accuracy = \", acc/len(characters))\n",
    "print(\"confusion matrix: \", conf_mat)"
   ]
  },
  {
   "cell_type": "code",
   "execution_count": 71,
   "id": "b6d2eaa8",
   "metadata": {},
   "outputs": [
    {
     "data": {
      "text/plain": [
       "411"
      ]
     },
     "execution_count": 71,
     "metadata": {},
     "output_type": "execute_result"
    }
   ],
   "source": [
    "models_best.loc[15,\"accuracy\"]"
   ]
  },
  {
   "cell_type": "markdown",
   "id": "dbe99ba8",
   "metadata": {},
   "source": [
    "Since it predicted 411/500 during forward selection, this is an accuracy of 82.2%"
   ]
  }
 ],
 "metadata": {
  "kernelspec": {
   "display_name": "Python 3 (ipykernel)",
   "language": "python",
   "name": "python3"
  },
  "language_info": {
   "codemirror_mode": {
    "name": "ipython",
    "version": 3
   },
   "file_extension": ".py",
   "mimetype": "text/x-python",
   "name": "python",
   "nbconvert_exporter": "python",
   "pygments_lexer": "ipython3",
   "version": "3.9.12"
  }
 },
 "nbformat": 4,
 "nbformat_minor": 5
}
