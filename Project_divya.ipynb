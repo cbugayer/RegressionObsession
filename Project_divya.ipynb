{
 "cells": [
  {
   "cell_type": "code",
   "execution_count": 56,
   "id": "c130e675",
   "metadata": {},
   "outputs": [],
   "source": [
    "import pandas as pd\n",
    "import statsmodels.formula.api as sm\n",
    "import matplotlib.pyplot as plt\n",
    "import seaborn as sns\n",
    "import numpy as np"
   ]
  },
  {
   "cell_type": "code",
   "execution_count": 57,
   "id": "8787af6a",
   "metadata": {},
   "outputs": [],
   "source": [
    "deaths = pd.read_csv(\"character-deaths.csv\")\n",
    "characters = pd.read_csv(\"character-predictions_pose.csv\")"
   ]
  },
  {
   "cell_type": "code",
   "execution_count": 58,
   "id": "184b9bfb",
   "metadata": {
    "scrolled": true
   },
   "outputs": [
    {
     "data": {
      "text/plain": [
       "Index(['S.No', 'plod', 'name', 'title', 'male', 'culture', 'dateOfBirth',\n",
       "       'DateoFdeath', 'mother', 'father', 'heir', 'house', 'spouse', 'book1',\n",
       "       'book2', 'book3', 'book4', 'book5', 'isAliveMother', 'isAliveFather',\n",
       "       'isAliveHeir', 'isAliveSpouse', 'isMarried', 'isNoble', 'age',\n",
       "       'numDeadRelations', 'boolDeadRelations', 'isPopular', 'popularity',\n",
       "       'isAlive'],\n",
       "      dtype='object')"
      ]
     },
     "execution_count": 58,
     "metadata": {},
     "output_type": "execute_result"
    }
   ],
   "source": [
    "characters.columns"
   ]
  },
  {
   "cell_type": "markdown",
   "id": "aca21e03",
   "metadata": {},
   "source": [
    "# dataframe cleaning"
   ]
  },
  {
   "cell_type": "code",
   "execution_count": 59,
   "id": "db35aae4",
   "metadata": {
    "scrolled": false
   },
   "outputs": [
    {
     "data": {
      "text/html": [
       "<div>\n",
       "<style scoped>\n",
       "    .dataframe tbody tr th:only-of-type {\n",
       "        vertical-align: middle;\n",
       "    }\n",
       "\n",
       "    .dataframe tbody tr th {\n",
       "        vertical-align: top;\n",
       "    }\n",
       "\n",
       "    .dataframe thead th {\n",
       "        text-align: right;\n",
       "    }\n",
       "</style>\n",
       "<table border=\"1\" class=\"dataframe\">\n",
       "  <thead>\n",
       "    <tr style=\"text-align: right;\">\n",
       "      <th></th>\n",
       "      <th>name</th>\n",
       "      <th>male</th>\n",
       "      <th>house</th>\n",
       "      <th>isNoble</th>\n",
       "      <th>age</th>\n",
       "      <th>numDeadRelations</th>\n",
       "      <th>popularity</th>\n",
       "      <th>isAlive</th>\n",
       "      <th>culture</th>\n",
       "    </tr>\n",
       "  </thead>\n",
       "  <tbody>\n",
       "    <tr>\n",
       "      <th>0</th>\n",
       "      <td>Walder Frey</td>\n",
       "      <td>1</td>\n",
       "      <td>House Frey</td>\n",
       "      <td>1</td>\n",
       "      <td>97.0</td>\n",
       "      <td>1</td>\n",
       "      <td>0.896321</td>\n",
       "      <td>1</td>\n",
       "      <td>Rivermen</td>\n",
       "    </tr>\n",
       "    <tr>\n",
       "      <th>1</th>\n",
       "      <td>Sylva Santagar</td>\n",
       "      <td>0</td>\n",
       "      <td>House Santagar</td>\n",
       "      <td>1</td>\n",
       "      <td>29.0</td>\n",
       "      <td>0</td>\n",
       "      <td>0.043478</td>\n",
       "      <td>1</td>\n",
       "      <td>Dornish</td>\n",
       "    </tr>\n",
       "    <tr>\n",
       "      <th>2</th>\n",
       "      <td>Valarr Targaryen</td>\n",
       "      <td>1</td>\n",
       "      <td>House Targaryen</td>\n",
       "      <td>1</td>\n",
       "      <td>26.0</td>\n",
       "      <td>0</td>\n",
       "      <td>0.431438</td>\n",
       "      <td>0</td>\n",
       "      <td>Valyrian</td>\n",
       "    </tr>\n",
       "    <tr>\n",
       "      <th>3</th>\n",
       "      <td>Wex Pyke</td>\n",
       "      <td>1</td>\n",
       "      <td>House Botley</td>\n",
       "      <td>0</td>\n",
       "      <td>19.0</td>\n",
       "      <td>0</td>\n",
       "      <td>0.113712</td>\n",
       "      <td>1</td>\n",
       "      <td>Ironborn</td>\n",
       "    </tr>\n",
       "    <tr>\n",
       "      <th>4</th>\n",
       "      <td>Timett</td>\n",
       "      <td>1</td>\n",
       "      <td>Burned Men</td>\n",
       "      <td>1</td>\n",
       "      <td>27.0</td>\n",
       "      <td>0</td>\n",
       "      <td>0.073579</td>\n",
       "      <td>1</td>\n",
       "      <td>Vale mountain clans</td>\n",
       "    </tr>\n",
       "    <tr>\n",
       "      <th>...</th>\n",
       "      <td>...</td>\n",
       "      <td>...</td>\n",
       "      <td>...</td>\n",
       "      <td>...</td>\n",
       "      <td>...</td>\n",
       "      <td>...</td>\n",
       "      <td>...</td>\n",
       "      <td>...</td>\n",
       "      <td>...</td>\n",
       "    </tr>\n",
       "    <tr>\n",
       "      <th>148</th>\n",
       "      <td>Sarella Sand</td>\n",
       "      <td>0</td>\n",
       "      <td>House Martell</td>\n",
       "      <td>0</td>\n",
       "      <td>25.0</td>\n",
       "      <td>1</td>\n",
       "      <td>0.103679</td>\n",
       "      <td>1</td>\n",
       "      <td>Dornishmen</td>\n",
       "    </tr>\n",
       "    <tr>\n",
       "      <th>149</th>\n",
       "      <td>Rhaegar Targaryen</td>\n",
       "      <td>1</td>\n",
       "      <td>House Targaryen</td>\n",
       "      <td>1</td>\n",
       "      <td>24.0</td>\n",
       "      <td>11</td>\n",
       "      <td>0.799331</td>\n",
       "      <td>0</td>\n",
       "      <td>Valyrian</td>\n",
       "    </tr>\n",
       "    <tr>\n",
       "      <th>150</th>\n",
       "      <td>Loras Tyrell</td>\n",
       "      <td>1</td>\n",
       "      <td>House Tyrell</td>\n",
       "      <td>1</td>\n",
       "      <td>23.0</td>\n",
       "      <td>2</td>\n",
       "      <td>0.665552</td>\n",
       "      <td>1</td>\n",
       "      <td>The Reach</td>\n",
       "    </tr>\n",
       "    <tr>\n",
       "      <th>151</th>\n",
       "      <td>Gormond Goodbrother</td>\n",
       "      <td>1</td>\n",
       "      <td>House Goodbrother</td>\n",
       "      <td>0</td>\n",
       "      <td>23.0</td>\n",
       "      <td>0</td>\n",
       "      <td>0.040134</td>\n",
       "      <td>1</td>\n",
       "      <td>Ironborn</td>\n",
       "    </tr>\n",
       "    <tr>\n",
       "      <th>152</th>\n",
       "      <td>Laena Velaryon</td>\n",
       "      <td>0</td>\n",
       "      <td>House Velaryon</td>\n",
       "      <td>0</td>\n",
       "      <td>27.0</td>\n",
       "      <td>0</td>\n",
       "      <td>0.140468</td>\n",
       "      <td>0</td>\n",
       "      <td>Valyrian</td>\n",
       "    </tr>\n",
       "  </tbody>\n",
       "</table>\n",
       "<p>153 rows × 9 columns</p>\n",
       "</div>"
      ],
      "text/plain": [
       "                    name  male              house  isNoble   age  \\\n",
       "0            Walder Frey     1         House Frey        1  97.0   \n",
       "1         Sylva Santagar     0     House Santagar        1  29.0   \n",
       "2       Valarr Targaryen     1    House Targaryen        1  26.0   \n",
       "3               Wex Pyke     1       House Botley        0  19.0   \n",
       "4                 Timett     1         Burned Men        1  27.0   \n",
       "..                   ...   ...                ...      ...   ...   \n",
       "148         Sarella Sand     0      House Martell        0  25.0   \n",
       "149    Rhaegar Targaryen     1    House Targaryen        1  24.0   \n",
       "150         Loras Tyrell     1       House Tyrell        1  23.0   \n",
       "151  Gormond Goodbrother     1  House Goodbrother        0  23.0   \n",
       "152       Laena Velaryon     0     House Velaryon        0  27.0   \n",
       "\n",
       "     numDeadRelations  popularity  isAlive              culture  \n",
       "0                   1    0.896321        1             Rivermen  \n",
       "1                   0    0.043478        1              Dornish  \n",
       "2                   0    0.431438        0             Valyrian  \n",
       "3                   0    0.113712        1             Ironborn  \n",
       "4                   0    0.073579        1  Vale mountain clans  \n",
       "..                ...         ...      ...                  ...  \n",
       "148                 1    0.103679        1           Dornishmen  \n",
       "149                11    0.799331        0             Valyrian  \n",
       "150                 2    0.665552        1            The Reach  \n",
       "151                 0    0.040134        1             Ironborn  \n",
       "152                 0    0.140468        0             Valyrian  \n",
       "\n",
       "[153 rows x 9 columns]"
      ]
     },
     "execution_count": 59,
     "metadata": {},
     "output_type": "execute_result"
    }
   ],
   "source": [
    "# selected columns I think might be relevant\n",
    "characters = pd.read_csv(\"character-predictions_pose.csv\")\n",
    "characters = characters.loc[:,['name', 'male', 'house', 'isNoble', 'age', 'numDeadRelations', 'popularity', 'isAlive', 'culture']]\n",
    "\n",
    "# deleted all observations that have NaNs\n",
    "characters = characters[~characters.isnull().any(axis=1)]\n",
    "characters.reset_index(inplace = True, drop = True)\n",
    "characters"
   ]
  },
  {
   "cell_type": "markdown",
   "id": "8960918f",
   "metadata": {},
   "source": [
    "# modeling"
   ]
  },
  {
   "cell_type": "markdown",
   "id": "b4ae4ad7",
   "metadata": {},
   "source": [
    "### basic model"
   ]
  },
  {
   "cell_type": "code",
   "execution_count": 60,
   "id": "addf446b",
   "metadata": {
    "scrolled": true
   },
   "outputs": [
    {
     "data": {
      "text/plain": [
       "0.7182996554985103"
      ]
     },
     "execution_count": 60,
     "metadata": {},
     "output_type": "execute_result"
    }
   ],
   "source": [
    "model = sm.ols(formula = 'isAlive~age+male+house+isNoble+numDeadRelations+popularity+culture', data = characters).fit()\n",
    "model.rsquared"
   ]
  },
  {
   "cell_type": "code",
   "execution_count": 61,
   "id": "178631dc",
   "metadata": {},
   "outputs": [
    {
     "data": {
      "text/plain": [
       "0.47782375165577506"
      ]
     },
     "execution_count": 61,
     "metadata": {},
     "output_type": "execute_result"
    }
   ],
   "source": [
    "model.rsquared_adj"
   ]
  },
  {
   "cell_type": "markdown",
   "id": "635002f0",
   "metadata": {},
   "source": [
    "### cleaned cultures"
   ]
  },
  {
   "cell_type": "code",
   "execution_count": 62,
   "id": "255e9021",
   "metadata": {},
   "outputs": [],
   "source": [
    "# clean cultures \n",
    "\n",
    "culture_counts = pd.DataFrame(characters.culture.value_counts())\n",
    "\n",
    "#combining culture names that mean the same thing \n",
    "characters.culture = characters.culture.replace(to_replace = \"northmen\", value = \"Northmen\")\n",
    "characters.culture = characters.culture.replace(to_replace = \"ironborn\", value = \"Ironborn\")\n",
    "characters.culture = characters.culture.replace(to_replace = \"Ironmen\", value = \"Ironborn\")\n",
    "characters.culture = characters.culture.replace(to_replace = \"Asshai'i\", value = \"Asshai\")\n",
    "characters.culture = characters.culture.replace(to_replace = \"Free folk\", value = \"Free Folk\")\n",
    "characters.culture = characters.culture.replace(to_replace = \"free folk\", value = \"Free Folk\")\n",
    "characters.culture = characters.culture.replace(to_replace = \"Summer Islands\", value = \"Summer Isles\")\n",
    "characters.culture = characters.culture.replace(to_replace = \"Summer Islander\", value = \"Summer Isles\")\n",
    "characters.culture = characters.culture.replace(to_replace = \"westermen\", value = \"Westermen\")\n",
    "characters.culture = characters.culture.replace(to_replace = \"Westerman\", value = \"Westermen\")\n",
    "characters.culture = characters.culture.replace(to_replace = \"Westerlands\", value = \"Westermen\")\n",
    "characters.culture = characters.culture.replace(to_replace = \"Vale\", value = \"Valemen\")\n",
    "characters.culture = characters.culture.replace(to_replace = \"Lhazareen\", value = \"Lhazarene\")\n",
    "characters.culture = characters.culture.replace(to_replace = \"The Reach\", value = \"Reach\")\n",
    "characters.culture = characters.culture.replace(to_replace = \"Reachmen\", value = \"Reach\")\n",
    "characters.culture = characters.culture.replace(to_replace = \"Qarth\", value = \"Qartheen\")\n",
    "characters.culture = characters.culture.replace(to_replace = \"Lyseni\", value = \"Lysene\")\n",
    "characters.culture = characters.culture.replace(to_replace = \"Stormlander\", value = \"Stormlands\")\n",
    "characters.culture = characters.culture.replace(to_replace = \"Meereenese\", value = \"Meereen\")\n",
    "characters.culture = characters.culture.replace(to_replace = \"Astapor\", value = \"Astapori\")\n",
    "characters.culture = characters.culture.replace(to_replace = \"Norvos\", value = \"Norvoshi\")\n",
    "characters.culture = characters.culture.replace(to_replace = \"Wildlings\", value = \"Wildling\")\n",
    "characters.culture = characters.culture.replace(to_replace = \"Andals\", value = \"Andal\")"
   ]
  },
  {
   "cell_type": "code",
   "execution_count": 63,
   "id": "131fc68e",
   "metadata": {
    "scrolled": true
   },
   "outputs": [
    {
     "data": {
      "text/plain": [
       "0.718189796242892"
      ]
     },
     "execution_count": 63,
     "metadata": {},
     "output_type": "execute_result"
    }
   ],
   "source": [
    "model = sm.ols(formula = 'isAlive~age+male+house+isNoble+numDeadRelations+popularity+culture', data = df).fit()\n",
    "model.rsquared"
   ]
  },
  {
   "cell_type": "code",
   "execution_count": 64,
   "id": "0a8d692a",
   "metadata": {},
   "outputs": [
    {
     "data": {
      "text/plain": [
       "0.490057726534757"
      ]
     },
     "execution_count": 64,
     "metadata": {},
     "output_type": "execute_result"
    }
   ],
   "source": [
    "model.rsquared_adj"
   ]
  },
  {
   "cell_type": "markdown",
   "id": "a73fdc85",
   "metadata": {},
   "source": [
    "### clean houses"
   ]
  },
  {
   "cell_type": "code",
   "execution_count": 65,
   "id": "ed6832b7",
   "metadata": {},
   "outputs": [
    {
     "data": {
      "text/plain": [
       "0.7093669754072639"
      ]
     },
     "execution_count": 65,
     "metadata": {},
     "output_type": "execute_result"
    }
   ],
   "source": [
    "# attempt: code house as other if only 1 person\n",
    "# result: r-squared stayed the same (.718), adj. increased (.478 to .490)\n",
    "\n",
    "house_counts_one = house_counts.loc[house_counts.house == 1].index.values.tolist()\n",
    "\n",
    "characters['house'] = characters['house'].apply(lambda x: \n",
    "                                              'other' if x in house_counts_one\n",
    "                                              else x)\n",
    "\n",
    "model = sm.ols(formula = 'isAlive~age+male+house+isNoble+numDeadRelations+popularity+I(popularity**2)+culture', data = characters).fit()\n",
    "model.rsquared"
   ]
  },
  {
   "cell_type": "code",
   "execution_count": 66,
   "id": "bf1f1eaa",
   "metadata": {},
   "outputs": [
    {
     "data": {
      "text/plain": [
       "0.49222735933223116"
      ]
     },
     "execution_count": 66,
     "metadata": {},
     "output_type": "execute_result"
    }
   ],
   "source": [
    "model.rsquared_adj"
   ]
  }
 ],
 "metadata": {
  "kernelspec": {
   "display_name": "Python 3 (ipykernel)",
   "language": "python",
   "name": "python3"
  },
  "language_info": {
   "codemirror_mode": {
    "name": "ipython",
    "version": 3
   },
   "file_extension": ".py",
   "mimetype": "text/x-python",
   "name": "python",
   "nbconvert_exporter": "python",
   "pygments_lexer": "ipython3",
   "version": "3.9.13"
  }
 },
 "nbformat": 4,
 "nbformat_minor": 5
}
