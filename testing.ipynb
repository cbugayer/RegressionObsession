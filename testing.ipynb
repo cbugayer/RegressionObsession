{
 "cells": [
  {
   "cell_type": "code",
   "execution_count": 1,
   "id": "37e1982c",
   "metadata": {},
   "outputs": [],
   "source": [
    "import pandas as pd\n",
    "import statsmodels.formula.api as sm\n",
    "import matplotlib.pyplot as plt\n",
    "import seaborn as sns\n",
    "import numpy as np\n",
    "import statsmodels.formula as smf"
   ]
  },
  {
   "cell_type": "code",
   "execution_count": 2,
   "id": "51783245",
   "metadata": {},
   "outputs": [],
   "source": [
    "data = pd.read_csv('data/character-predictions_pose.csv')\n",
    "def clean(data):\n",
    "    return data\n",
    "clean_data = clean(data)"
   ]
  },
  {
   "cell_type": "code",
   "execution_count": 45,
   "id": "b6276914",
   "metadata": {},
   "outputs": [],
   "source": [
    "def test_person(name, formula):\n",
    "    train = data.loc[clean_data['name'] != name]\n",
    "    person = data.loc[clean_data['name'] == name]\n",
    "    model = sm.ols(formula = formula, data=clean_data).fit()\n",
    "    prediction = model.predict(person)\n",
    "    return int(prediction) == person['isAlive']"
   ]
  },
  {
   "cell_type": "code",
   "execution_count": 43,
   "id": "9c85104e",
   "metadata": {},
   "outputs": [],
   "source": [
    "def test(formula, num_examples=50, loss_func=None):\n",
    "    accurate_counter = 0\n",
    "    for index, row in clean_data.iterrows():\n",
    "        accuracy = test_person(row['name'], formula)\n",
    "        if accuracy.iloc[0]:\n",
    "            accurate_counter += 1\n",
    "        if index >= num_examples:\n",
    "            break\n",
    "    if loss_func is None:\n",
    "        return accurate_counter\n",
    "    else:\n",
    "        return loss_func(accurate_counter)"
   ]
  },
  {
   "cell_type": "code",
   "execution_count": 46,
   "id": "9a8569b0",
   "metadata": {},
   "outputs": [
    {
     "data": {
      "text/plain": [
       "51"
      ]
     },
     "execution_count": 46,
     "metadata": {},
     "output_type": "execute_result"
    }
   ],
   "source": [
    "test(\"isAlive~isAlive\")"
   ]
  }
 ],
 "metadata": {
  "kernelspec": {
   "display_name": "Python 3 (ipykernel)",
   "language": "python",
   "name": "python3"
  },
  "language_info": {
   "codemirror_mode": {
    "name": "ipython",
    "version": 3
   },
   "file_extension": ".py",
   "mimetype": "text/x-python",
   "name": "python",
   "nbconvert_exporter": "python",
   "pygments_lexer": "ipython3",
   "version": "3.9.12"
  }
 },
 "nbformat": 4,
 "nbformat_minor": 5
}
